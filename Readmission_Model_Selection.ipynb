{
 "cells": [
  {
   "cell_type": "code",
   "execution_count": 26,
   "metadata": {},
   "outputs": [],
   "source": [
    "import pandas as pd\n",
    "import numpy as np\n",
    "import matplotlib.pyplot as plt\n",
    "from sklearn.preprocessing import StandardScaler\n",
    "from sklearn.preprocessing import MinMaxScaler\n",
    "from plotly.offline import download_plotlyjs, init_notebook_mode, plot, iplot\n",
    "import cufflinks as cf\n",
    "import seaborn as sns\n",
    "from sklearn.svm import SVC\n",
    "%matplotlib inline"
   ]
  },
  {
   "cell_type": "code",
   "execution_count": 27,
   "metadata": {},
   "outputs": [],
   "source": [
    "data_seet= pd.read_csv(r'C:\\Users\\suraj\\python\\Project_SML\\diabetic_data.csv')"
   ]
  },
  {
   "cell_type": "code",
   "execution_count": 28,
   "metadata": {},
   "outputs": [
    {
     "data": {
      "text/plain": [
       "race                  2.233555\n",
       "weight               96.858479\n",
       "payer_code           39.557416\n",
       "medical_specialty    49.082208\n",
       "diag_1                0.020636\n",
       "diag_2                0.351787\n",
       "diag_3                1.398306\n",
       "dtype: float64"
      ]
     },
     "execution_count": 28,
     "metadata": {},
     "output_type": "execute_result"
    }
   ],
   "source": [
    "df=pd.DataFrame(data_seet)\n",
    "\n",
    "df=df.replace(\"?\",np.nan)\n",
    "dropping=df.isnull().sum()[df.isnull().sum()>1]/len(df)*100\n",
    "dropping"
   ]
  },
  {
   "cell_type": "code",
   "execution_count": 29,
   "metadata": {},
   "outputs": [],
   "source": [
    "df.drop(['weight','payer_code','medical_specialty','encounter_id','patient_nbr'],axis=1,inplace=True)"
   ]
  },
  {
   "cell_type": "code",
   "execution_count": 30,
   "metadata": {},
   "outputs": [
    {
     "data": {
      "text/html": [
       "<div>\n",
       "<style scoped>\n",
       "    .dataframe tbody tr th:only-of-type {\n",
       "        vertical-align: middle;\n",
       "    }\n",
       "\n",
       "    .dataframe tbody tr th {\n",
       "        vertical-align: top;\n",
       "    }\n",
       "\n",
       "    .dataframe thead th {\n",
       "        text-align: right;\n",
       "    }\n",
       "</style>\n",
       "<table border=\"1\" class=\"dataframe\">\n",
       "  <thead>\n",
       "    <tr style=\"text-align: right;\">\n",
       "      <th></th>\n",
       "      <th>race</th>\n",
       "      <th>gender</th>\n",
       "      <th>age</th>\n",
       "      <th>admission_type_id</th>\n",
       "      <th>discharge_disposition_id</th>\n",
       "      <th>admission_source_id</th>\n",
       "      <th>time_in_hospital</th>\n",
       "      <th>num_lab_procedures</th>\n",
       "      <th>num_procedures</th>\n",
       "      <th>num_medications</th>\n",
       "      <th>...</th>\n",
       "      <th>citoglipton</th>\n",
       "      <th>insulin</th>\n",
       "      <th>glyburide-metformin</th>\n",
       "      <th>glipizide-metformin</th>\n",
       "      <th>glimepiride-pioglitazone</th>\n",
       "      <th>metformin-rosiglitazone</th>\n",
       "      <th>metformin-pioglitazone</th>\n",
       "      <th>change</th>\n",
       "      <th>diabetesMed</th>\n",
       "      <th>readmitted</th>\n",
       "    </tr>\n",
       "  </thead>\n",
       "  <tbody>\n",
       "    <tr>\n",
       "      <th>0</th>\n",
       "      <td>Caucasian</td>\n",
       "      <td>Female</td>\n",
       "      <td>[0-10)</td>\n",
       "      <td>6</td>\n",
       "      <td>25</td>\n",
       "      <td>1</td>\n",
       "      <td>1</td>\n",
       "      <td>41</td>\n",
       "      <td>0</td>\n",
       "      <td>1</td>\n",
       "      <td>...</td>\n",
       "      <td>No</td>\n",
       "      <td>No</td>\n",
       "      <td>No</td>\n",
       "      <td>No</td>\n",
       "      <td>No</td>\n",
       "      <td>No</td>\n",
       "      <td>No</td>\n",
       "      <td>No</td>\n",
       "      <td>No</td>\n",
       "      <td>NO</td>\n",
       "    </tr>\n",
       "    <tr>\n",
       "      <th>1</th>\n",
       "      <td>Caucasian</td>\n",
       "      <td>Female</td>\n",
       "      <td>[10-20)</td>\n",
       "      <td>1</td>\n",
       "      <td>1</td>\n",
       "      <td>7</td>\n",
       "      <td>3</td>\n",
       "      <td>59</td>\n",
       "      <td>0</td>\n",
       "      <td>18</td>\n",
       "      <td>...</td>\n",
       "      <td>No</td>\n",
       "      <td>Up</td>\n",
       "      <td>No</td>\n",
       "      <td>No</td>\n",
       "      <td>No</td>\n",
       "      <td>No</td>\n",
       "      <td>No</td>\n",
       "      <td>Ch</td>\n",
       "      <td>Yes</td>\n",
       "      <td>&gt;30</td>\n",
       "    </tr>\n",
       "    <tr>\n",
       "      <th>2</th>\n",
       "      <td>AfricanAmerican</td>\n",
       "      <td>Female</td>\n",
       "      <td>[20-30)</td>\n",
       "      <td>1</td>\n",
       "      <td>1</td>\n",
       "      <td>7</td>\n",
       "      <td>2</td>\n",
       "      <td>11</td>\n",
       "      <td>5</td>\n",
       "      <td>13</td>\n",
       "      <td>...</td>\n",
       "      <td>No</td>\n",
       "      <td>No</td>\n",
       "      <td>No</td>\n",
       "      <td>No</td>\n",
       "      <td>No</td>\n",
       "      <td>No</td>\n",
       "      <td>No</td>\n",
       "      <td>No</td>\n",
       "      <td>Yes</td>\n",
       "      <td>NO</td>\n",
       "    </tr>\n",
       "    <tr>\n",
       "      <th>3</th>\n",
       "      <td>Caucasian</td>\n",
       "      <td>Male</td>\n",
       "      <td>[30-40)</td>\n",
       "      <td>1</td>\n",
       "      <td>1</td>\n",
       "      <td>7</td>\n",
       "      <td>2</td>\n",
       "      <td>44</td>\n",
       "      <td>1</td>\n",
       "      <td>16</td>\n",
       "      <td>...</td>\n",
       "      <td>No</td>\n",
       "      <td>Up</td>\n",
       "      <td>No</td>\n",
       "      <td>No</td>\n",
       "      <td>No</td>\n",
       "      <td>No</td>\n",
       "      <td>No</td>\n",
       "      <td>Ch</td>\n",
       "      <td>Yes</td>\n",
       "      <td>NO</td>\n",
       "    </tr>\n",
       "    <tr>\n",
       "      <th>4</th>\n",
       "      <td>Caucasian</td>\n",
       "      <td>Male</td>\n",
       "      <td>[40-50)</td>\n",
       "      <td>1</td>\n",
       "      <td>1</td>\n",
       "      <td>7</td>\n",
       "      <td>1</td>\n",
       "      <td>51</td>\n",
       "      <td>0</td>\n",
       "      <td>8</td>\n",
       "      <td>...</td>\n",
       "      <td>No</td>\n",
       "      <td>Steady</td>\n",
       "      <td>No</td>\n",
       "      <td>No</td>\n",
       "      <td>No</td>\n",
       "      <td>No</td>\n",
       "      <td>No</td>\n",
       "      <td>Ch</td>\n",
       "      <td>Yes</td>\n",
       "      <td>NO</td>\n",
       "    </tr>\n",
       "  </tbody>\n",
       "</table>\n",
       "<p>5 rows × 45 columns</p>\n",
       "</div>"
      ],
      "text/plain": [
       "              race  gender      age  admission_type_id  \\\n",
       "0        Caucasian  Female   [0-10)                  6   \n",
       "1        Caucasian  Female  [10-20)                  1   \n",
       "2  AfricanAmerican  Female  [20-30)                  1   \n",
       "3        Caucasian    Male  [30-40)                  1   \n",
       "4        Caucasian    Male  [40-50)                  1   \n",
       "\n",
       "   discharge_disposition_id  admission_source_id  time_in_hospital  \\\n",
       "0                        25                    1                 1   \n",
       "1                         1                    7                 3   \n",
       "2                         1                    7                 2   \n",
       "3                         1                    7                 2   \n",
       "4                         1                    7                 1   \n",
       "\n",
       "   num_lab_procedures  num_procedures  num_medications  ...  citoglipton  \\\n",
       "0                  41               0                1  ...           No   \n",
       "1                  59               0               18  ...           No   \n",
       "2                  11               5               13  ...           No   \n",
       "3                  44               1               16  ...           No   \n",
       "4                  51               0                8  ...           No   \n",
       "\n",
       "   insulin  glyburide-metformin glipizide-metformin glimepiride-pioglitazone  \\\n",
       "0       No                   No                  No                       No   \n",
       "1       Up                   No                  No                       No   \n",
       "2       No                   No                  No                       No   \n",
       "3       Up                   No                  No                       No   \n",
       "4   Steady                   No                  No                       No   \n",
       "\n",
       "  metformin-rosiglitazone  metformin-pioglitazone change diabetesMed  \\\n",
       "0                      No                      No     No          No   \n",
       "1                      No                      No     Ch         Yes   \n",
       "2                      No                      No     No         Yes   \n",
       "3                      No                      No     Ch         Yes   \n",
       "4                      No                      No     Ch         Yes   \n",
       "\n",
       "  readmitted  \n",
       "0         NO  \n",
       "1        >30  \n",
       "2         NO  \n",
       "3         NO  \n",
       "4         NO  \n",
       "\n",
       "[5 rows x 45 columns]"
      ]
     },
     "execution_count": 30,
     "metadata": {},
     "output_type": "execute_result"
    }
   ],
   "source": [
    "Daibetics_DattaM = df\n",
    "Daibetics_DattaM.head(5)"
   ]
  },
  {
   "cell_type": "code",
   "execution_count": 31,
   "metadata": {},
   "outputs": [],
   "source": [
    "def ScallingAll(Data_In):\n",
    "    scaler = StandardScaler()\n",
    "    Data_Features=Data_In\n",
    "    #Data_Features=pd.DataFrame(Data_In)\n",
    "    Data_objects = Data_Features.select_dtypes(exclude=['int64'])\n",
    "    \n",
    "    col_list = list(Data_objects.columns)\n",
    "    for col in col_list:\n",
    "        Data_Features[col] = pd.Categorical( Data_objects[col])\n",
    "        Data_Features[col] = Data_Features[col].cat.codes\n",
    "        \n",
    "    Data_Features[Data_Features.columns] = scaler.fit_transform(Data_Features)\n",
    "    \n",
    "    \n",
    "    return Data_Features\n",
    "    raise NotImplementedError\n",
    "    \n",
    "    \n",
    "    \n",
    "\n",
    "    \n",
    "def Scalling(Data_In):\n",
    "    scaler = StandardScaler()\n",
    "    #scaler = MinMaxScaler()\n",
    "    Data_Features=Data_In\n",
    "    #Data_Features=pd.DataFrame(Data_In)\n",
    "    \n",
    "    Data_objects = Data_Features.select_dtypes(exclude=['int64'])\n",
    "    Data_Readd = Data_Features['readmitted']   \n",
    "    Data_Readd = Data_Readd.replace({\"NO\":0,\"<30\":1,\">30\":0})\n",
    "    Data_Features = Data_Features.drop(['readmitted'],axis=1)\n",
    "    \n",
    "    col_list = list(Data_objects.columns)\n",
    "    for col in col_list:\n",
    "        Data_Features[col] = pd.Categorical( Data_objects[col])\n",
    "        Data_Features[col] = Data_Features[col].cat.codes\n",
    "        \n",
    "    \n",
    "\n",
    "        \n",
    "    #Data_Features[Data_Features.columns] = scaler.fit_transform(Data_Features)\n",
    "    Data_Features[Data_Features.columns] = scaler.fit_transform(Data_Features)\n",
    "    \n",
    "    Data_Features['readmitted'] = Data_Readd\n",
    "    \n",
    "    return Data_Features\n",
    "    raise NotImplementedError"
   ]
  },
  {
   "cell_type": "code",
   "execution_count": 32,
   "metadata": {},
   "outputs": [
    {
     "data": {
      "text/html": [
       "<div>\n",
       "<style scoped>\n",
       "    .dataframe tbody tr th:only-of-type {\n",
       "        vertical-align: middle;\n",
       "    }\n",
       "\n",
       "    .dataframe tbody tr th {\n",
       "        vertical-align: top;\n",
       "    }\n",
       "\n",
       "    .dataframe thead th {\n",
       "        text-align: right;\n",
       "    }\n",
       "</style>\n",
       "<table border=\"1\" class=\"dataframe\">\n",
       "  <thead>\n",
       "    <tr style=\"text-align: right;\">\n",
       "      <th></th>\n",
       "      <th>race</th>\n",
       "      <th>gender</th>\n",
       "      <th>age</th>\n",
       "      <th>admission_type_id</th>\n",
       "      <th>discharge_disposition_id</th>\n",
       "      <th>admission_source_id</th>\n",
       "      <th>time_in_hospital</th>\n",
       "      <th>num_lab_procedures</th>\n",
       "      <th>num_procedures</th>\n",
       "      <th>num_medications</th>\n",
       "      <th>...</th>\n",
       "      <th>citoglipton</th>\n",
       "      <th>insulin</th>\n",
       "      <th>glyburide-metformin</th>\n",
       "      <th>glipizide-metformin</th>\n",
       "      <th>glimepiride-pioglitazone</th>\n",
       "      <th>metformin-rosiglitazone</th>\n",
       "      <th>metformin-pioglitazone</th>\n",
       "      <th>change</th>\n",
       "      <th>diabetesMed</th>\n",
       "      <th>readmitted</th>\n",
       "    </tr>\n",
       "  </thead>\n",
       "  <tbody>\n",
       "    <tr>\n",
       "      <th>0</th>\n",
       "      <td>0.427557</td>\n",
       "      <td>-0.927397</td>\n",
       "      <td>-3.824600</td>\n",
       "      <td>2.750800</td>\n",
       "      <td>4.031022</td>\n",
       "      <td>-1.169873</td>\n",
       "      <td>-1.137649</td>\n",
       "      <td>-0.106517</td>\n",
       "      <td>-0.785398</td>\n",
       "      <td>-1.848268</td>\n",
       "      <td>...</td>\n",
       "      <td>0.0</td>\n",
       "      <td>-0.483395</td>\n",
       "      <td>-0.081718</td>\n",
       "      <td>-0.011303</td>\n",
       "      <td>-0.003135</td>\n",
       "      <td>-0.004433</td>\n",
       "      <td>-0.003135</td>\n",
       "      <td>0.926591</td>\n",
       "      <td>-1.829868</td>\n",
       "      <td>0</td>\n",
       "    </tr>\n",
       "    <tr>\n",
       "      <th>1</th>\n",
       "      <td>0.427557</td>\n",
       "      <td>-0.927397</td>\n",
       "      <td>-3.197277</td>\n",
       "      <td>-0.708461</td>\n",
       "      <td>-0.514312</td>\n",
       "      <td>0.306482</td>\n",
       "      <td>-0.467653</td>\n",
       "      <td>0.808384</td>\n",
       "      <td>-0.785398</td>\n",
       "      <td>0.243390</td>\n",
       "      <td>...</td>\n",
       "      <td>0.0</td>\n",
       "      <td>1.900979</td>\n",
       "      <td>-0.081718</td>\n",
       "      <td>-0.011303</td>\n",
       "      <td>-0.003135</td>\n",
       "      <td>-0.004433</td>\n",
       "      <td>-0.003135</td>\n",
       "      <td>-1.079225</td>\n",
       "      <td>0.546488</td>\n",
       "      <td>0</td>\n",
       "    </tr>\n",
       "    <tr>\n",
       "      <th>2</th>\n",
       "      <td>-1.703706</td>\n",
       "      <td>-0.927397</td>\n",
       "      <td>-2.569954</td>\n",
       "      <td>-0.708461</td>\n",
       "      <td>-0.514312</td>\n",
       "      <td>0.306482</td>\n",
       "      <td>-0.802651</td>\n",
       "      <td>-1.631351</td>\n",
       "      <td>2.145781</td>\n",
       "      <td>-0.371804</td>\n",
       "      <td>...</td>\n",
       "      <td>0.0</td>\n",
       "      <td>-0.483395</td>\n",
       "      <td>-0.081718</td>\n",
       "      <td>-0.011303</td>\n",
       "      <td>-0.003135</td>\n",
       "      <td>-0.004433</td>\n",
       "      <td>-0.003135</td>\n",
       "      <td>0.926591</td>\n",
       "      <td>0.546488</td>\n",
       "      <td>0</td>\n",
       "    </tr>\n",
       "    <tr>\n",
       "      <th>3</th>\n",
       "      <td>0.427557</td>\n",
       "      <td>1.078031</td>\n",
       "      <td>-1.942632</td>\n",
       "      <td>-0.708461</td>\n",
       "      <td>-0.514312</td>\n",
       "      <td>0.306482</td>\n",
       "      <td>-0.802651</td>\n",
       "      <td>0.045967</td>\n",
       "      <td>-0.199162</td>\n",
       "      <td>-0.002688</td>\n",
       "      <td>...</td>\n",
       "      <td>0.0</td>\n",
       "      <td>1.900979</td>\n",
       "      <td>-0.081718</td>\n",
       "      <td>-0.011303</td>\n",
       "      <td>-0.003135</td>\n",
       "      <td>-0.004433</td>\n",
       "      <td>-0.003135</td>\n",
       "      <td>-1.079225</td>\n",
       "      <td>0.546488</td>\n",
       "      <td>0</td>\n",
       "    </tr>\n",
       "    <tr>\n",
       "      <th>4</th>\n",
       "      <td>0.427557</td>\n",
       "      <td>1.078031</td>\n",
       "      <td>-1.315309</td>\n",
       "      <td>-0.708461</td>\n",
       "      <td>-0.514312</td>\n",
       "      <td>0.306482</td>\n",
       "      <td>-1.137649</td>\n",
       "      <td>0.401761</td>\n",
       "      <td>-0.785398</td>\n",
       "      <td>-0.986997</td>\n",
       "      <td>...</td>\n",
       "      <td>0.0</td>\n",
       "      <td>0.708792</td>\n",
       "      <td>-0.081718</td>\n",
       "      <td>-0.011303</td>\n",
       "      <td>-0.003135</td>\n",
       "      <td>-0.004433</td>\n",
       "      <td>-0.003135</td>\n",
       "      <td>-1.079225</td>\n",
       "      <td>0.546488</td>\n",
       "      <td>0</td>\n",
       "    </tr>\n",
       "    <tr>\n",
       "      <th>...</th>\n",
       "      <td>...</td>\n",
       "      <td>...</td>\n",
       "      <td>...</td>\n",
       "      <td>...</td>\n",
       "      <td>...</td>\n",
       "      <td>...</td>\n",
       "      <td>...</td>\n",
       "      <td>...</td>\n",
       "      <td>...</td>\n",
       "      <td>...</td>\n",
       "      <td>...</td>\n",
       "      <td>...</td>\n",
       "      <td>...</td>\n",
       "      <td>...</td>\n",
       "      <td>...</td>\n",
       "      <td>...</td>\n",
       "      <td>...</td>\n",
       "      <td>...</td>\n",
       "      <td>...</td>\n",
       "      <td>...</td>\n",
       "      <td>...</td>\n",
       "    </tr>\n",
       "    <tr>\n",
       "      <th>101761</th>\n",
       "      <td>-1.703706</td>\n",
       "      <td>1.078031</td>\n",
       "      <td>0.566659</td>\n",
       "      <td>-0.708461</td>\n",
       "      <td>-0.135535</td>\n",
       "      <td>0.306482</td>\n",
       "      <td>-0.467653</td>\n",
       "      <td>0.401761</td>\n",
       "      <td>-0.785398</td>\n",
       "      <td>-0.002688</td>\n",
       "      <td>...</td>\n",
       "      <td>0.0</td>\n",
       "      <td>-1.675583</td>\n",
       "      <td>-0.081718</td>\n",
       "      <td>-0.011303</td>\n",
       "      <td>-0.003135</td>\n",
       "      <td>-0.004433</td>\n",
       "      <td>-0.003135</td>\n",
       "      <td>-1.079225</td>\n",
       "      <td>0.546488</td>\n",
       "      <td>0</td>\n",
       "    </tr>\n",
       "    <tr>\n",
       "      <th>101762</th>\n",
       "      <td>-1.703706</td>\n",
       "      <td>-0.927397</td>\n",
       "      <td>1.193982</td>\n",
       "      <td>-0.708461</td>\n",
       "      <td>0.053854</td>\n",
       "      <td>-0.185636</td>\n",
       "      <td>0.202343</td>\n",
       "      <td>-0.513139</td>\n",
       "      <td>0.973309</td>\n",
       "      <td>0.243390</td>\n",
       "      <td>...</td>\n",
       "      <td>0.0</td>\n",
       "      <td>0.708792</td>\n",
       "      <td>-0.081718</td>\n",
       "      <td>-0.011303</td>\n",
       "      <td>-0.003135</td>\n",
       "      <td>-0.004433</td>\n",
       "      <td>-0.003135</td>\n",
       "      <td>0.926591</td>\n",
       "      <td>0.546488</td>\n",
       "      <td>0</td>\n",
       "    </tr>\n",
       "    <tr>\n",
       "      <th>101763</th>\n",
       "      <td>0.427557</td>\n",
       "      <td>1.078031</td>\n",
       "      <td>0.566659</td>\n",
       "      <td>-0.708461</td>\n",
       "      <td>-0.514312</td>\n",
       "      <td>0.306482</td>\n",
       "      <td>-1.137649</td>\n",
       "      <td>0.503417</td>\n",
       "      <td>-0.785398</td>\n",
       "      <td>-0.863958</td>\n",
       "      <td>...</td>\n",
       "      <td>0.0</td>\n",
       "      <td>-1.675583</td>\n",
       "      <td>-0.081718</td>\n",
       "      <td>-0.011303</td>\n",
       "      <td>-0.003135</td>\n",
       "      <td>-0.004433</td>\n",
       "      <td>-0.003135</td>\n",
       "      <td>-1.079225</td>\n",
       "      <td>0.546488</td>\n",
       "      <td>0</td>\n",
       "    </tr>\n",
       "    <tr>\n",
       "      <th>101764</th>\n",
       "      <td>0.427557</td>\n",
       "      <td>-0.927397</td>\n",
       "      <td>1.193982</td>\n",
       "      <td>-0.016609</td>\n",
       "      <td>-0.135535</td>\n",
       "      <td>0.306482</td>\n",
       "      <td>1.877333</td>\n",
       "      <td>0.096794</td>\n",
       "      <td>0.387074</td>\n",
       "      <td>0.612506</td>\n",
       "      <td>...</td>\n",
       "      <td>0.0</td>\n",
       "      <td>1.900979</td>\n",
       "      <td>-0.081718</td>\n",
       "      <td>-0.011303</td>\n",
       "      <td>-0.003135</td>\n",
       "      <td>-0.004433</td>\n",
       "      <td>-0.003135</td>\n",
       "      <td>-1.079225</td>\n",
       "      <td>0.546488</td>\n",
       "      <td>0</td>\n",
       "    </tr>\n",
       "    <tr>\n",
       "      <th>101765</th>\n",
       "      <td>0.427557</td>\n",
       "      <td>1.078031</td>\n",
       "      <td>0.566659</td>\n",
       "      <td>-0.708461</td>\n",
       "      <td>-0.514312</td>\n",
       "      <td>0.306482</td>\n",
       "      <td>0.537341</td>\n",
       "      <td>-1.529696</td>\n",
       "      <td>0.973309</td>\n",
       "      <td>-1.602190</td>\n",
       "      <td>...</td>\n",
       "      <td>0.0</td>\n",
       "      <td>-0.483395</td>\n",
       "      <td>-0.081718</td>\n",
       "      <td>-0.011303</td>\n",
       "      <td>-0.003135</td>\n",
       "      <td>-0.004433</td>\n",
       "      <td>-0.003135</td>\n",
       "      <td>0.926591</td>\n",
       "      <td>-1.829868</td>\n",
       "      <td>0</td>\n",
       "    </tr>\n",
       "  </tbody>\n",
       "</table>\n",
       "<p>101766 rows × 45 columns</p>\n",
       "</div>"
      ],
      "text/plain": [
       "            race    gender       age  admission_type_id  \\\n",
       "0       0.427557 -0.927397 -3.824600           2.750800   \n",
       "1       0.427557 -0.927397 -3.197277          -0.708461   \n",
       "2      -1.703706 -0.927397 -2.569954          -0.708461   \n",
       "3       0.427557  1.078031 -1.942632          -0.708461   \n",
       "4       0.427557  1.078031 -1.315309          -0.708461   \n",
       "...          ...       ...       ...                ...   \n",
       "101761 -1.703706  1.078031  0.566659          -0.708461   \n",
       "101762 -1.703706 -0.927397  1.193982          -0.708461   \n",
       "101763  0.427557  1.078031  0.566659          -0.708461   \n",
       "101764  0.427557 -0.927397  1.193982          -0.016609   \n",
       "101765  0.427557  1.078031  0.566659          -0.708461   \n",
       "\n",
       "        discharge_disposition_id  admission_source_id  time_in_hospital  \\\n",
       "0                       4.031022            -1.169873         -1.137649   \n",
       "1                      -0.514312             0.306482         -0.467653   \n",
       "2                      -0.514312             0.306482         -0.802651   \n",
       "3                      -0.514312             0.306482         -0.802651   \n",
       "4                      -0.514312             0.306482         -1.137649   \n",
       "...                          ...                  ...               ...   \n",
       "101761                 -0.135535             0.306482         -0.467653   \n",
       "101762                  0.053854            -0.185636          0.202343   \n",
       "101763                 -0.514312             0.306482         -1.137649   \n",
       "101764                 -0.135535             0.306482          1.877333   \n",
       "101765                 -0.514312             0.306482          0.537341   \n",
       "\n",
       "        num_lab_procedures  num_procedures  num_medications  ...  citoglipton  \\\n",
       "0                -0.106517       -0.785398        -1.848268  ...          0.0   \n",
       "1                 0.808384       -0.785398         0.243390  ...          0.0   \n",
       "2                -1.631351        2.145781        -0.371804  ...          0.0   \n",
       "3                 0.045967       -0.199162        -0.002688  ...          0.0   \n",
       "4                 0.401761       -0.785398        -0.986997  ...          0.0   \n",
       "...                    ...             ...              ...  ...          ...   \n",
       "101761            0.401761       -0.785398        -0.002688  ...          0.0   \n",
       "101762           -0.513139        0.973309         0.243390  ...          0.0   \n",
       "101763            0.503417       -0.785398        -0.863958  ...          0.0   \n",
       "101764            0.096794        0.387074         0.612506  ...          0.0   \n",
       "101765           -1.529696        0.973309        -1.602190  ...          0.0   \n",
       "\n",
       "         insulin  glyburide-metformin  glipizide-metformin  \\\n",
       "0      -0.483395            -0.081718            -0.011303   \n",
       "1       1.900979            -0.081718            -0.011303   \n",
       "2      -0.483395            -0.081718            -0.011303   \n",
       "3       1.900979            -0.081718            -0.011303   \n",
       "4       0.708792            -0.081718            -0.011303   \n",
       "...          ...                  ...                  ...   \n",
       "101761 -1.675583            -0.081718            -0.011303   \n",
       "101762  0.708792            -0.081718            -0.011303   \n",
       "101763 -1.675583            -0.081718            -0.011303   \n",
       "101764  1.900979            -0.081718            -0.011303   \n",
       "101765 -0.483395            -0.081718            -0.011303   \n",
       "\n",
       "        glimepiride-pioglitazone  metformin-rosiglitazone  \\\n",
       "0                      -0.003135                -0.004433   \n",
       "1                      -0.003135                -0.004433   \n",
       "2                      -0.003135                -0.004433   \n",
       "3                      -0.003135                -0.004433   \n",
       "4                      -0.003135                -0.004433   \n",
       "...                          ...                      ...   \n",
       "101761                 -0.003135                -0.004433   \n",
       "101762                 -0.003135                -0.004433   \n",
       "101763                 -0.003135                -0.004433   \n",
       "101764                 -0.003135                -0.004433   \n",
       "101765                 -0.003135                -0.004433   \n",
       "\n",
       "        metformin-pioglitazone    change  diabetesMed  readmitted  \n",
       "0                    -0.003135  0.926591    -1.829868           0  \n",
       "1                    -0.003135 -1.079225     0.546488           0  \n",
       "2                    -0.003135  0.926591     0.546488           0  \n",
       "3                    -0.003135 -1.079225     0.546488           0  \n",
       "4                    -0.003135 -1.079225     0.546488           0  \n",
       "...                        ...       ...          ...         ...  \n",
       "101761               -0.003135 -1.079225     0.546488           0  \n",
       "101762               -0.003135  0.926591     0.546488           0  \n",
       "101763               -0.003135 -1.079225     0.546488           0  \n",
       "101764               -0.003135 -1.079225     0.546488           0  \n",
       "101765               -0.003135  0.926591    -1.829868           0  \n",
       "\n",
       "[101766 rows x 45 columns]"
      ]
     },
     "execution_count": 32,
     "metadata": {},
     "output_type": "execute_result"
    }
   ],
   "source": [
    "Data_scalled= Scalling(Daibetics_DattaM)\n",
    "Data_scalled"
   ]
  },
  {
   "cell_type": "code",
   "execution_count": 33,
   "metadata": {},
   "outputs": [
    {
     "data": {
      "text/html": [
       "<div>\n",
       "<style scoped>\n",
       "    .dataframe tbody tr th:only-of-type {\n",
       "        vertical-align: middle;\n",
       "    }\n",
       "\n",
       "    .dataframe tbody tr th {\n",
       "        vertical-align: top;\n",
       "    }\n",
       "\n",
       "    .dataframe thead th {\n",
       "        text-align: right;\n",
       "    }\n",
       "</style>\n",
       "<table border=\"1\" class=\"dataframe\">\n",
       "  <thead>\n",
       "    <tr style=\"text-align: right;\">\n",
       "      <th></th>\n",
       "      <th>race</th>\n",
       "      <th>gender</th>\n",
       "      <th>age</th>\n",
       "      <th>admission_type_id</th>\n",
       "      <th>discharge_disposition_id</th>\n",
       "      <th>admission_source_id</th>\n",
       "      <th>time_in_hospital</th>\n",
       "      <th>num_lab_procedures</th>\n",
       "      <th>num_procedures</th>\n",
       "      <th>num_medications</th>\n",
       "      <th>...</th>\n",
       "      <th>citoglipton</th>\n",
       "      <th>insulin</th>\n",
       "      <th>glyburide-metformin</th>\n",
       "      <th>glipizide-metformin</th>\n",
       "      <th>glimepiride-pioglitazone</th>\n",
       "      <th>metformin-rosiglitazone</th>\n",
       "      <th>metformin-pioglitazone</th>\n",
       "      <th>change</th>\n",
       "      <th>diabetesMed</th>\n",
       "      <th>readmitted</th>\n",
       "    </tr>\n",
       "  </thead>\n",
       "  <tbody>\n",
       "    <tr>\n",
       "      <th>100000</th>\n",
       "      <td>-1.703706</td>\n",
       "      <td>1.078031</td>\n",
       "      <td>-0.060664</td>\n",
       "      <td>-0.708461</td>\n",
       "      <td>0.622021</td>\n",
       "      <td>0.306482</td>\n",
       "      <td>-1.137649</td>\n",
       "      <td>0.300106</td>\n",
       "      <td>-0.199162</td>\n",
       "      <td>-0.494842</td>\n",
       "      <td>...</td>\n",
       "      <td>0.0</td>\n",
       "      <td>0.708792</td>\n",
       "      <td>-0.081718</td>\n",
       "      <td>-0.011303</td>\n",
       "      <td>-0.003135</td>\n",
       "      <td>-0.004433</td>\n",
       "      <td>-0.003135</td>\n",
       "      <td>0.926591</td>\n",
       "      <td>0.546488</td>\n",
       "      <td>0</td>\n",
       "    </tr>\n",
       "    <tr>\n",
       "      <th>100001</th>\n",
       "      <td>0.427557</td>\n",
       "      <td>-0.927397</td>\n",
       "      <td>-0.687986</td>\n",
       "      <td>0.675243</td>\n",
       "      <td>0.432632</td>\n",
       "      <td>-1.169873</td>\n",
       "      <td>-0.802651</td>\n",
       "      <td>-2.139630</td>\n",
       "      <td>-0.785398</td>\n",
       "      <td>1.104660</td>\n",
       "      <td>...</td>\n",
       "      <td>0.0</td>\n",
       "      <td>-0.483395</td>\n",
       "      <td>-0.081718</td>\n",
       "      <td>-0.011303</td>\n",
       "      <td>-0.003135</td>\n",
       "      <td>-0.004433</td>\n",
       "      <td>-0.003135</td>\n",
       "      <td>-1.079225</td>\n",
       "      <td>0.546488</td>\n",
       "      <td>0</td>\n",
       "    </tr>\n",
       "    <tr>\n",
       "      <th>100002</th>\n",
       "      <td>1.493189</td>\n",
       "      <td>-0.927397</td>\n",
       "      <td>-0.687986</td>\n",
       "      <td>-0.708461</td>\n",
       "      <td>-0.514312</td>\n",
       "      <td>0.306482</td>\n",
       "      <td>-0.802651</td>\n",
       "      <td>-0.208172</td>\n",
       "      <td>-0.785398</td>\n",
       "      <td>-1.479152</td>\n",
       "      <td>...</td>\n",
       "      <td>0.0</td>\n",
       "      <td>-0.483395</td>\n",
       "      <td>-0.081718</td>\n",
       "      <td>-0.011303</td>\n",
       "      <td>-0.003135</td>\n",
       "      <td>-0.004433</td>\n",
       "      <td>-0.003135</td>\n",
       "      <td>0.926591</td>\n",
       "      <td>-1.829868</td>\n",
       "      <td>0</td>\n",
       "    </tr>\n",
       "    <tr>\n",
       "      <th>100003</th>\n",
       "      <td>0.427557</td>\n",
       "      <td>1.078031</td>\n",
       "      <td>0.566659</td>\n",
       "      <td>-0.708461</td>\n",
       "      <td>-0.514312</td>\n",
       "      <td>0.306482</td>\n",
       "      <td>-0.132655</td>\n",
       "      <td>-0.157345</td>\n",
       "      <td>-0.785398</td>\n",
       "      <td>-0.494842</td>\n",
       "      <td>...</td>\n",
       "      <td>0.0</td>\n",
       "      <td>-0.483395</td>\n",
       "      <td>-0.081718</td>\n",
       "      <td>-0.011303</td>\n",
       "      <td>-0.003135</td>\n",
       "      <td>-0.004433</td>\n",
       "      <td>-0.003135</td>\n",
       "      <td>0.926591</td>\n",
       "      <td>0.546488</td>\n",
       "      <td>0</td>\n",
       "    </tr>\n",
       "    <tr>\n",
       "      <th>100004</th>\n",
       "      <td>0.427557</td>\n",
       "      <td>1.078031</td>\n",
       "      <td>1.193982</td>\n",
       "      <td>-0.708461</td>\n",
       "      <td>-0.135535</td>\n",
       "      <td>0.306482</td>\n",
       "      <td>-0.132655</td>\n",
       "      <td>1.316662</td>\n",
       "      <td>-0.785398</td>\n",
       "      <td>-0.371804</td>\n",
       "      <td>...</td>\n",
       "      <td>0.0</td>\n",
       "      <td>-1.675583</td>\n",
       "      <td>-0.081718</td>\n",
       "      <td>-0.011303</td>\n",
       "      <td>-0.003135</td>\n",
       "      <td>-0.004433</td>\n",
       "      <td>-0.003135</td>\n",
       "      <td>-1.079225</td>\n",
       "      <td>0.546488</td>\n",
       "      <td>1</td>\n",
       "    </tr>\n",
       "    <tr>\n",
       "      <th>...</th>\n",
       "      <td>...</td>\n",
       "      <td>...</td>\n",
       "      <td>...</td>\n",
       "      <td>...</td>\n",
       "      <td>...</td>\n",
       "      <td>...</td>\n",
       "      <td>...</td>\n",
       "      <td>...</td>\n",
       "      <td>...</td>\n",
       "      <td>...</td>\n",
       "      <td>...</td>\n",
       "      <td>...</td>\n",
       "      <td>...</td>\n",
       "      <td>...</td>\n",
       "      <td>...</td>\n",
       "      <td>...</td>\n",
       "      <td>...</td>\n",
       "      <td>...</td>\n",
       "      <td>...</td>\n",
       "      <td>...</td>\n",
       "      <td>...</td>\n",
       "    </tr>\n",
       "    <tr>\n",
       "      <th>101760</th>\n",
       "      <td>-1.703706</td>\n",
       "      <td>-0.927397</td>\n",
       "      <td>-0.060664</td>\n",
       "      <td>-0.708461</td>\n",
       "      <td>-0.514312</td>\n",
       "      <td>0.306482</td>\n",
       "      <td>0.537341</td>\n",
       "      <td>0.096794</td>\n",
       "      <td>-0.199162</td>\n",
       "      <td>1.104660</td>\n",
       "      <td>...</td>\n",
       "      <td>0.0</td>\n",
       "      <td>-1.675583</td>\n",
       "      <td>-0.081718</td>\n",
       "      <td>-0.011303</td>\n",
       "      <td>-0.003135</td>\n",
       "      <td>-0.004433</td>\n",
       "      <td>-0.003135</td>\n",
       "      <td>-1.079225</td>\n",
       "      <td>0.546488</td>\n",
       "      <td>0</td>\n",
       "    </tr>\n",
       "    <tr>\n",
       "      <th>101761</th>\n",
       "      <td>-1.703706</td>\n",
       "      <td>1.078031</td>\n",
       "      <td>0.566659</td>\n",
       "      <td>-0.708461</td>\n",
       "      <td>-0.135535</td>\n",
       "      <td>0.306482</td>\n",
       "      <td>-0.467653</td>\n",
       "      <td>0.401761</td>\n",
       "      <td>-0.785398</td>\n",
       "      <td>-0.002688</td>\n",
       "      <td>...</td>\n",
       "      <td>0.0</td>\n",
       "      <td>-1.675583</td>\n",
       "      <td>-0.081718</td>\n",
       "      <td>-0.011303</td>\n",
       "      <td>-0.003135</td>\n",
       "      <td>-0.004433</td>\n",
       "      <td>-0.003135</td>\n",
       "      <td>-1.079225</td>\n",
       "      <td>0.546488</td>\n",
       "      <td>0</td>\n",
       "    </tr>\n",
       "    <tr>\n",
       "      <th>101762</th>\n",
       "      <td>-1.703706</td>\n",
       "      <td>-0.927397</td>\n",
       "      <td>1.193982</td>\n",
       "      <td>-0.708461</td>\n",
       "      <td>0.053854</td>\n",
       "      <td>-0.185636</td>\n",
       "      <td>0.202343</td>\n",
       "      <td>-0.513139</td>\n",
       "      <td>0.973309</td>\n",
       "      <td>0.243390</td>\n",
       "      <td>...</td>\n",
       "      <td>0.0</td>\n",
       "      <td>0.708792</td>\n",
       "      <td>-0.081718</td>\n",
       "      <td>-0.011303</td>\n",
       "      <td>-0.003135</td>\n",
       "      <td>-0.004433</td>\n",
       "      <td>-0.003135</td>\n",
       "      <td>0.926591</td>\n",
       "      <td>0.546488</td>\n",
       "      <td>0</td>\n",
       "    </tr>\n",
       "    <tr>\n",
       "      <th>101763</th>\n",
       "      <td>0.427557</td>\n",
       "      <td>1.078031</td>\n",
       "      <td>0.566659</td>\n",
       "      <td>-0.708461</td>\n",
       "      <td>-0.514312</td>\n",
       "      <td>0.306482</td>\n",
       "      <td>-1.137649</td>\n",
       "      <td>0.503417</td>\n",
       "      <td>-0.785398</td>\n",
       "      <td>-0.863958</td>\n",
       "      <td>...</td>\n",
       "      <td>0.0</td>\n",
       "      <td>-1.675583</td>\n",
       "      <td>-0.081718</td>\n",
       "      <td>-0.011303</td>\n",
       "      <td>-0.003135</td>\n",
       "      <td>-0.004433</td>\n",
       "      <td>-0.003135</td>\n",
       "      <td>-1.079225</td>\n",
       "      <td>0.546488</td>\n",
       "      <td>0</td>\n",
       "    </tr>\n",
       "    <tr>\n",
       "      <th>101764</th>\n",
       "      <td>0.427557</td>\n",
       "      <td>-0.927397</td>\n",
       "      <td>1.193982</td>\n",
       "      <td>-0.016609</td>\n",
       "      <td>-0.135535</td>\n",
       "      <td>0.306482</td>\n",
       "      <td>1.877333</td>\n",
       "      <td>0.096794</td>\n",
       "      <td>0.387074</td>\n",
       "      <td>0.612506</td>\n",
       "      <td>...</td>\n",
       "      <td>0.0</td>\n",
       "      <td>1.900979</td>\n",
       "      <td>-0.081718</td>\n",
       "      <td>-0.011303</td>\n",
       "      <td>-0.003135</td>\n",
       "      <td>-0.004433</td>\n",
       "      <td>-0.003135</td>\n",
       "      <td>-1.079225</td>\n",
       "      <td>0.546488</td>\n",
       "      <td>0</td>\n",
       "    </tr>\n",
       "  </tbody>\n",
       "</table>\n",
       "<p>1765 rows × 45 columns</p>\n",
       "</div>"
      ],
      "text/plain": [
       "            race    gender       age  admission_type_id  \\\n",
       "100000 -1.703706  1.078031 -0.060664          -0.708461   \n",
       "100001  0.427557 -0.927397 -0.687986           0.675243   \n",
       "100002  1.493189 -0.927397 -0.687986          -0.708461   \n",
       "100003  0.427557  1.078031  0.566659          -0.708461   \n",
       "100004  0.427557  1.078031  1.193982          -0.708461   \n",
       "...          ...       ...       ...                ...   \n",
       "101760 -1.703706 -0.927397 -0.060664          -0.708461   \n",
       "101761 -1.703706  1.078031  0.566659          -0.708461   \n",
       "101762 -1.703706 -0.927397  1.193982          -0.708461   \n",
       "101763  0.427557  1.078031  0.566659          -0.708461   \n",
       "101764  0.427557 -0.927397  1.193982          -0.016609   \n",
       "\n",
       "        discharge_disposition_id  admission_source_id  time_in_hospital  \\\n",
       "100000                  0.622021             0.306482         -1.137649   \n",
       "100001                  0.432632            -1.169873         -0.802651   \n",
       "100002                 -0.514312             0.306482         -0.802651   \n",
       "100003                 -0.514312             0.306482         -0.132655   \n",
       "100004                 -0.135535             0.306482         -0.132655   \n",
       "...                          ...                  ...               ...   \n",
       "101760                 -0.514312             0.306482          0.537341   \n",
       "101761                 -0.135535             0.306482         -0.467653   \n",
       "101762                  0.053854            -0.185636          0.202343   \n",
       "101763                 -0.514312             0.306482         -1.137649   \n",
       "101764                 -0.135535             0.306482          1.877333   \n",
       "\n",
       "        num_lab_procedures  num_procedures  num_medications  ...  citoglipton  \\\n",
       "100000            0.300106       -0.199162        -0.494842  ...          0.0   \n",
       "100001           -2.139630       -0.785398         1.104660  ...          0.0   \n",
       "100002           -0.208172       -0.785398        -1.479152  ...          0.0   \n",
       "100003           -0.157345       -0.785398        -0.494842  ...          0.0   \n",
       "100004            1.316662       -0.785398        -0.371804  ...          0.0   \n",
       "...                    ...             ...              ...  ...          ...   \n",
       "101760            0.096794       -0.199162         1.104660  ...          0.0   \n",
       "101761            0.401761       -0.785398        -0.002688  ...          0.0   \n",
       "101762           -0.513139        0.973309         0.243390  ...          0.0   \n",
       "101763            0.503417       -0.785398        -0.863958  ...          0.0   \n",
       "101764            0.096794        0.387074         0.612506  ...          0.0   \n",
       "\n",
       "         insulin  glyburide-metformin  glipizide-metformin  \\\n",
       "100000  0.708792            -0.081718            -0.011303   \n",
       "100001 -0.483395            -0.081718            -0.011303   \n",
       "100002 -0.483395            -0.081718            -0.011303   \n",
       "100003 -0.483395            -0.081718            -0.011303   \n",
       "100004 -1.675583            -0.081718            -0.011303   \n",
       "...          ...                  ...                  ...   \n",
       "101760 -1.675583            -0.081718            -0.011303   \n",
       "101761 -1.675583            -0.081718            -0.011303   \n",
       "101762  0.708792            -0.081718            -0.011303   \n",
       "101763 -1.675583            -0.081718            -0.011303   \n",
       "101764  1.900979            -0.081718            -0.011303   \n",
       "\n",
       "        glimepiride-pioglitazone  metformin-rosiglitazone  \\\n",
       "100000                 -0.003135                -0.004433   \n",
       "100001                 -0.003135                -0.004433   \n",
       "100002                 -0.003135                -0.004433   \n",
       "100003                 -0.003135                -0.004433   \n",
       "100004                 -0.003135                -0.004433   \n",
       "...                          ...                      ...   \n",
       "101760                 -0.003135                -0.004433   \n",
       "101761                 -0.003135                -0.004433   \n",
       "101762                 -0.003135                -0.004433   \n",
       "101763                 -0.003135                -0.004433   \n",
       "101764                 -0.003135                -0.004433   \n",
       "\n",
       "        metformin-pioglitazone    change  diabetesMed  readmitted  \n",
       "100000               -0.003135  0.926591     0.546488           0  \n",
       "100001               -0.003135 -1.079225     0.546488           0  \n",
       "100002               -0.003135  0.926591    -1.829868           0  \n",
       "100003               -0.003135  0.926591     0.546488           0  \n",
       "100004               -0.003135 -1.079225     0.546488           1  \n",
       "...                        ...       ...          ...         ...  \n",
       "101760               -0.003135 -1.079225     0.546488           0  \n",
       "101761               -0.003135 -1.079225     0.546488           0  \n",
       "101762               -0.003135  0.926591     0.546488           0  \n",
       "101763               -0.003135 -1.079225     0.546488           0  \n",
       "101764               -0.003135 -1.079225     0.546488           0  \n",
       "\n",
       "[1765 rows x 45 columns]"
      ]
     },
     "execution_count": 33,
     "metadata": {},
     "output_type": "execute_result"
    }
   ],
   "source": [
    "Holding_Data = Data_scalled[100000:101765]\n",
    "Holding_Data"
   ]
  },
  {
   "cell_type": "code",
   "execution_count": 34,
   "metadata": {},
   "outputs": [
    {
     "data": {
      "text/html": [
       "<div>\n",
       "<style scoped>\n",
       "    .dataframe tbody tr th:only-of-type {\n",
       "        vertical-align: middle;\n",
       "    }\n",
       "\n",
       "    .dataframe tbody tr th {\n",
       "        vertical-align: top;\n",
       "    }\n",
       "\n",
       "    .dataframe thead th {\n",
       "        text-align: right;\n",
       "    }\n",
       "</style>\n",
       "<table border=\"1\" class=\"dataframe\">\n",
       "  <thead>\n",
       "    <tr style=\"text-align: right;\">\n",
       "      <th></th>\n",
       "      <th>race</th>\n",
       "      <th>gender</th>\n",
       "      <th>age</th>\n",
       "      <th>admission_type_id</th>\n",
       "      <th>discharge_disposition_id</th>\n",
       "      <th>admission_source_id</th>\n",
       "      <th>time_in_hospital</th>\n",
       "      <th>num_lab_procedures</th>\n",
       "      <th>num_procedures</th>\n",
       "      <th>num_medications</th>\n",
       "      <th>...</th>\n",
       "      <th>citoglipton</th>\n",
       "      <th>insulin</th>\n",
       "      <th>glyburide-metformin</th>\n",
       "      <th>glipizide-metformin</th>\n",
       "      <th>glimepiride-pioglitazone</th>\n",
       "      <th>metformin-rosiglitazone</th>\n",
       "      <th>metformin-pioglitazone</th>\n",
       "      <th>change</th>\n",
       "      <th>diabetesMed</th>\n",
       "      <th>readmitted</th>\n",
       "    </tr>\n",
       "  </thead>\n",
       "  <tbody>\n",
       "    <tr>\n",
       "      <th>0</th>\n",
       "      <td>0.427557</td>\n",
       "      <td>-0.927397</td>\n",
       "      <td>-3.824600</td>\n",
       "      <td>2.750800</td>\n",
       "      <td>4.031022</td>\n",
       "      <td>-1.169873</td>\n",
       "      <td>-1.137649</td>\n",
       "      <td>-0.106517</td>\n",
       "      <td>-0.785398</td>\n",
       "      <td>-1.848268</td>\n",
       "      <td>...</td>\n",
       "      <td>0.0</td>\n",
       "      <td>-0.483395</td>\n",
       "      <td>-0.081718</td>\n",
       "      <td>-0.011303</td>\n",
       "      <td>-0.003135</td>\n",
       "      <td>-0.004433</td>\n",
       "      <td>-0.003135</td>\n",
       "      <td>0.926591</td>\n",
       "      <td>-1.829868</td>\n",
       "      <td>0</td>\n",
       "    </tr>\n",
       "    <tr>\n",
       "      <th>1</th>\n",
       "      <td>0.427557</td>\n",
       "      <td>-0.927397</td>\n",
       "      <td>-3.197277</td>\n",
       "      <td>-0.708461</td>\n",
       "      <td>-0.514312</td>\n",
       "      <td>0.306482</td>\n",
       "      <td>-0.467653</td>\n",
       "      <td>0.808384</td>\n",
       "      <td>-0.785398</td>\n",
       "      <td>0.243390</td>\n",
       "      <td>...</td>\n",
       "      <td>0.0</td>\n",
       "      <td>1.900979</td>\n",
       "      <td>-0.081718</td>\n",
       "      <td>-0.011303</td>\n",
       "      <td>-0.003135</td>\n",
       "      <td>-0.004433</td>\n",
       "      <td>-0.003135</td>\n",
       "      <td>-1.079225</td>\n",
       "      <td>0.546488</td>\n",
       "      <td>0</td>\n",
       "    </tr>\n",
       "    <tr>\n",
       "      <th>2</th>\n",
       "      <td>-1.703706</td>\n",
       "      <td>-0.927397</td>\n",
       "      <td>-2.569954</td>\n",
       "      <td>-0.708461</td>\n",
       "      <td>-0.514312</td>\n",
       "      <td>0.306482</td>\n",
       "      <td>-0.802651</td>\n",
       "      <td>-1.631351</td>\n",
       "      <td>2.145781</td>\n",
       "      <td>-0.371804</td>\n",
       "      <td>...</td>\n",
       "      <td>0.0</td>\n",
       "      <td>-0.483395</td>\n",
       "      <td>-0.081718</td>\n",
       "      <td>-0.011303</td>\n",
       "      <td>-0.003135</td>\n",
       "      <td>-0.004433</td>\n",
       "      <td>-0.003135</td>\n",
       "      <td>0.926591</td>\n",
       "      <td>0.546488</td>\n",
       "      <td>0</td>\n",
       "    </tr>\n",
       "    <tr>\n",
       "      <th>3</th>\n",
       "      <td>0.427557</td>\n",
       "      <td>1.078031</td>\n",
       "      <td>-1.942632</td>\n",
       "      <td>-0.708461</td>\n",
       "      <td>-0.514312</td>\n",
       "      <td>0.306482</td>\n",
       "      <td>-0.802651</td>\n",
       "      <td>0.045967</td>\n",
       "      <td>-0.199162</td>\n",
       "      <td>-0.002688</td>\n",
       "      <td>...</td>\n",
       "      <td>0.0</td>\n",
       "      <td>1.900979</td>\n",
       "      <td>-0.081718</td>\n",
       "      <td>-0.011303</td>\n",
       "      <td>-0.003135</td>\n",
       "      <td>-0.004433</td>\n",
       "      <td>-0.003135</td>\n",
       "      <td>-1.079225</td>\n",
       "      <td>0.546488</td>\n",
       "      <td>0</td>\n",
       "    </tr>\n",
       "    <tr>\n",
       "      <th>4</th>\n",
       "      <td>0.427557</td>\n",
       "      <td>1.078031</td>\n",
       "      <td>-1.315309</td>\n",
       "      <td>-0.708461</td>\n",
       "      <td>-0.514312</td>\n",
       "      <td>0.306482</td>\n",
       "      <td>-1.137649</td>\n",
       "      <td>0.401761</td>\n",
       "      <td>-0.785398</td>\n",
       "      <td>-0.986997</td>\n",
       "      <td>...</td>\n",
       "      <td>0.0</td>\n",
       "      <td>0.708792</td>\n",
       "      <td>-0.081718</td>\n",
       "      <td>-0.011303</td>\n",
       "      <td>-0.003135</td>\n",
       "      <td>-0.004433</td>\n",
       "      <td>-0.003135</td>\n",
       "      <td>-1.079225</td>\n",
       "      <td>0.546488</td>\n",
       "      <td>0</td>\n",
       "    </tr>\n",
       "    <tr>\n",
       "      <th>...</th>\n",
       "      <td>...</td>\n",
       "      <td>...</td>\n",
       "      <td>...</td>\n",
       "      <td>...</td>\n",
       "      <td>...</td>\n",
       "      <td>...</td>\n",
       "      <td>...</td>\n",
       "      <td>...</td>\n",
       "      <td>...</td>\n",
       "      <td>...</td>\n",
       "      <td>...</td>\n",
       "      <td>...</td>\n",
       "      <td>...</td>\n",
       "      <td>...</td>\n",
       "      <td>...</td>\n",
       "      <td>...</td>\n",
       "      <td>...</td>\n",
       "      <td>...</td>\n",
       "      <td>...</td>\n",
       "      <td>...</td>\n",
       "      <td>...</td>\n",
       "    </tr>\n",
       "    <tr>\n",
       "      <th>99994</th>\n",
       "      <td>-1.703706</td>\n",
       "      <td>-0.927397</td>\n",
       "      <td>-0.060664</td>\n",
       "      <td>-0.708461</td>\n",
       "      <td>-0.514312</td>\n",
       "      <td>0.306482</td>\n",
       "      <td>-0.132655</td>\n",
       "      <td>1.062523</td>\n",
       "      <td>-0.785398</td>\n",
       "      <td>-0.125726</td>\n",
       "      <td>...</td>\n",
       "      <td>0.0</td>\n",
       "      <td>-1.675583</td>\n",
       "      <td>-0.081718</td>\n",
       "      <td>-0.011303</td>\n",
       "      <td>-0.003135</td>\n",
       "      <td>-0.004433</td>\n",
       "      <td>-0.003135</td>\n",
       "      <td>-1.079225</td>\n",
       "      <td>0.546488</td>\n",
       "      <td>0</td>\n",
       "    </tr>\n",
       "    <tr>\n",
       "      <th>99995</th>\n",
       "      <td>0.427557</td>\n",
       "      <td>-0.927397</td>\n",
       "      <td>0.566659</td>\n",
       "      <td>0.675243</td>\n",
       "      <td>-0.514312</td>\n",
       "      <td>-1.169873</td>\n",
       "      <td>-0.467653</td>\n",
       "      <td>-0.563967</td>\n",
       "      <td>-0.199162</td>\n",
       "      <td>1.104660</td>\n",
       "      <td>...</td>\n",
       "      <td>0.0</td>\n",
       "      <td>-0.483395</td>\n",
       "      <td>-0.081718</td>\n",
       "      <td>-0.011303</td>\n",
       "      <td>-0.003135</td>\n",
       "      <td>-0.004433</td>\n",
       "      <td>-0.003135</td>\n",
       "      <td>0.926591</td>\n",
       "      <td>-1.829868</td>\n",
       "      <td>0</td>\n",
       "    </tr>\n",
       "    <tr>\n",
       "      <th>99996</th>\n",
       "      <td>0.427557</td>\n",
       "      <td>1.078031</td>\n",
       "      <td>-0.687986</td>\n",
       "      <td>-0.708461</td>\n",
       "      <td>0.622021</td>\n",
       "      <td>0.306482</td>\n",
       "      <td>-1.137649</td>\n",
       "      <td>0.045967</td>\n",
       "      <td>-0.199162</td>\n",
       "      <td>-0.494842</td>\n",
       "      <td>...</td>\n",
       "      <td>0.0</td>\n",
       "      <td>-0.483395</td>\n",
       "      <td>-0.081718</td>\n",
       "      <td>-0.011303</td>\n",
       "      <td>-0.003135</td>\n",
       "      <td>-0.004433</td>\n",
       "      <td>-0.003135</td>\n",
       "      <td>0.926591</td>\n",
       "      <td>0.546488</td>\n",
       "      <td>0</td>\n",
       "    </tr>\n",
       "    <tr>\n",
       "      <th>99997</th>\n",
       "      <td>0.427557</td>\n",
       "      <td>1.078031</td>\n",
       "      <td>-0.687986</td>\n",
       "      <td>-0.708461</td>\n",
       "      <td>0.622021</td>\n",
       "      <td>0.306482</td>\n",
       "      <td>-1.137649</td>\n",
       "      <td>0.554245</td>\n",
       "      <td>0.973309</td>\n",
       "      <td>-0.617881</td>\n",
       "      <td>...</td>\n",
       "      <td>0.0</td>\n",
       "      <td>-0.483395</td>\n",
       "      <td>-0.081718</td>\n",
       "      <td>-0.011303</td>\n",
       "      <td>-0.003135</td>\n",
       "      <td>-0.004433</td>\n",
       "      <td>-0.003135</td>\n",
       "      <td>0.926591</td>\n",
       "      <td>-1.829868</td>\n",
       "      <td>1</td>\n",
       "    </tr>\n",
       "    <tr>\n",
       "      <th>99998</th>\n",
       "      <td>0.427557</td>\n",
       "      <td>1.078031</td>\n",
       "      <td>0.566659</td>\n",
       "      <td>0.675243</td>\n",
       "      <td>0.432632</td>\n",
       "      <td>-1.169873</td>\n",
       "      <td>0.202343</td>\n",
       "      <td>-0.004861</td>\n",
       "      <td>-0.199162</td>\n",
       "      <td>0.120351</td>\n",
       "      <td>...</td>\n",
       "      <td>0.0</td>\n",
       "      <td>-0.483395</td>\n",
       "      <td>-0.081718</td>\n",
       "      <td>-0.011303</td>\n",
       "      <td>-0.003135</td>\n",
       "      <td>-0.004433</td>\n",
       "      <td>-0.003135</td>\n",
       "      <td>0.926591</td>\n",
       "      <td>0.546488</td>\n",
       "      <td>0</td>\n",
       "    </tr>\n",
       "  </tbody>\n",
       "</table>\n",
       "<p>99999 rows × 45 columns</p>\n",
       "</div>"
      ],
      "text/plain": [
       "           race    gender       age  admission_type_id  \\\n",
       "0      0.427557 -0.927397 -3.824600           2.750800   \n",
       "1      0.427557 -0.927397 -3.197277          -0.708461   \n",
       "2     -1.703706 -0.927397 -2.569954          -0.708461   \n",
       "3      0.427557  1.078031 -1.942632          -0.708461   \n",
       "4      0.427557  1.078031 -1.315309          -0.708461   \n",
       "...         ...       ...       ...                ...   \n",
       "99994 -1.703706 -0.927397 -0.060664          -0.708461   \n",
       "99995  0.427557 -0.927397  0.566659           0.675243   \n",
       "99996  0.427557  1.078031 -0.687986          -0.708461   \n",
       "99997  0.427557  1.078031 -0.687986          -0.708461   \n",
       "99998  0.427557  1.078031  0.566659           0.675243   \n",
       "\n",
       "       discharge_disposition_id  admission_source_id  time_in_hospital  \\\n",
       "0                      4.031022            -1.169873         -1.137649   \n",
       "1                     -0.514312             0.306482         -0.467653   \n",
       "2                     -0.514312             0.306482         -0.802651   \n",
       "3                     -0.514312             0.306482         -0.802651   \n",
       "4                     -0.514312             0.306482         -1.137649   \n",
       "...                         ...                  ...               ...   \n",
       "99994                 -0.514312             0.306482         -0.132655   \n",
       "99995                 -0.514312            -1.169873         -0.467653   \n",
       "99996                  0.622021             0.306482         -1.137649   \n",
       "99997                  0.622021             0.306482         -1.137649   \n",
       "99998                  0.432632            -1.169873          0.202343   \n",
       "\n",
       "       num_lab_procedures  num_procedures  num_medications  ...  citoglipton  \\\n",
       "0               -0.106517       -0.785398        -1.848268  ...          0.0   \n",
       "1                0.808384       -0.785398         0.243390  ...          0.0   \n",
       "2               -1.631351        2.145781        -0.371804  ...          0.0   \n",
       "3                0.045967       -0.199162        -0.002688  ...          0.0   \n",
       "4                0.401761       -0.785398        -0.986997  ...          0.0   \n",
       "...                   ...             ...              ...  ...          ...   \n",
       "99994            1.062523       -0.785398        -0.125726  ...          0.0   \n",
       "99995           -0.563967       -0.199162         1.104660  ...          0.0   \n",
       "99996            0.045967       -0.199162        -0.494842  ...          0.0   \n",
       "99997            0.554245        0.973309        -0.617881  ...          0.0   \n",
       "99998           -0.004861       -0.199162         0.120351  ...          0.0   \n",
       "\n",
       "        insulin  glyburide-metformin  glipizide-metformin  \\\n",
       "0     -0.483395            -0.081718            -0.011303   \n",
       "1      1.900979            -0.081718            -0.011303   \n",
       "2     -0.483395            -0.081718            -0.011303   \n",
       "3      1.900979            -0.081718            -0.011303   \n",
       "4      0.708792            -0.081718            -0.011303   \n",
       "...         ...                  ...                  ...   \n",
       "99994 -1.675583            -0.081718            -0.011303   \n",
       "99995 -0.483395            -0.081718            -0.011303   \n",
       "99996 -0.483395            -0.081718            -0.011303   \n",
       "99997 -0.483395            -0.081718            -0.011303   \n",
       "99998 -0.483395            -0.081718            -0.011303   \n",
       "\n",
       "       glimepiride-pioglitazone  metformin-rosiglitazone  \\\n",
       "0                     -0.003135                -0.004433   \n",
       "1                     -0.003135                -0.004433   \n",
       "2                     -0.003135                -0.004433   \n",
       "3                     -0.003135                -0.004433   \n",
       "4                     -0.003135                -0.004433   \n",
       "...                         ...                      ...   \n",
       "99994                 -0.003135                -0.004433   \n",
       "99995                 -0.003135                -0.004433   \n",
       "99996                 -0.003135                -0.004433   \n",
       "99997                 -0.003135                -0.004433   \n",
       "99998                 -0.003135                -0.004433   \n",
       "\n",
       "       metformin-pioglitazone    change  diabetesMed  readmitted  \n",
       "0                   -0.003135  0.926591    -1.829868           0  \n",
       "1                   -0.003135 -1.079225     0.546488           0  \n",
       "2                   -0.003135  0.926591     0.546488           0  \n",
       "3                   -0.003135 -1.079225     0.546488           0  \n",
       "4                   -0.003135 -1.079225     0.546488           0  \n",
       "...                       ...       ...          ...         ...  \n",
       "99994               -0.003135 -1.079225     0.546488           0  \n",
       "99995               -0.003135  0.926591    -1.829868           0  \n",
       "99996               -0.003135  0.926591     0.546488           0  \n",
       "99997               -0.003135  0.926591    -1.829868           1  \n",
       "99998               -0.003135  0.926591     0.546488           0  \n",
       "\n",
       "[99999 rows x 45 columns]"
      ]
     },
     "execution_count": 34,
     "metadata": {},
     "output_type": "execute_result"
    }
   ],
   "source": [
    "Model_Data = Data_scalled[:99999]\n",
    "Model_Data"
   ]
  },
  {
   "cell_type": "code",
   "execution_count": 163,
   "metadata": {},
   "outputs": [
    {
     "name": "stdout",
     "output_type": "stream",
     "text": [
      "---------------------------------------------------------\n",
      "Correlation of Various Features with Readmission rate\n",
      "---------------------------------------------------------\n",
      "\n",
      "\n",
      "race                        0.002879\n",
      "gender                     -0.002887\n",
      "age                         0.017534\n",
      "admission_type_id          -0.011269\n",
      "discharge_disposition_id    0.050209\n",
      "admission_source_id         0.005888\n",
      "time_in_hospital            0.044395\n",
      "num_lab_procedures          0.019939\n",
      "num_procedures             -0.011610\n",
      "num_medications             0.038076\n",
      "number_outpatient           0.018541\n",
      "number_emergency            0.060223\n",
      "number_inpatient            0.165389\n",
      "diag_1                     -0.008266\n",
      "diag_2                      0.003729\n",
      "diag_3                      0.013236\n",
      "number_diagnoses            0.049767\n",
      "max_glu_serum              -0.007381\n",
      "A1Cresult                   0.007679\n",
      "metformin                  -0.023504\n",
      "repaglinide                 0.010493\n",
      "nateglinide                 0.000116\n",
      "chlorpropamide             -0.004970\n",
      "glimepiride                -0.007755\n",
      "acetohexamide              -0.001121\n",
      "glipizide                   0.000081\n",
      "glyburide                  -0.004053\n",
      "tolbutamide                -0.003282\n",
      "pioglitazone               -0.005775\n",
      "rosiglitazone              -0.004758\n",
      "acarbose                   -0.003565\n",
      "miglitol                   -0.005070\n",
      "troglitazone               -0.001941\n",
      "tolazamide                 -0.002270\n",
      "insulin                     0.003095\n",
      "glyburide-metformin        -0.001138\n",
      "glipizide-metformin        -0.001256\n",
      "glimepiride-pioglitazone   -0.001121\n",
      "metformin-rosiglitazone    -0.001585\n",
      "metformin-pioglitazone     -0.001121\n",
      "change                     -0.019596\n",
      "diabetesMed                 0.027190\n",
      "readmitted                  1.000000\n",
      "dtype: float64\n"
     ]
    }
   ],
   "source": [
    "Data_scalledc=ScallingAll(Daibetics_DattaM)\n",
    "\n",
    "Readmitted_Data=Model_Data['readmitted']\n",
    "\n",
    "CorrelationR = Model_Data.corrwith(Readmitted_Data)\n",
    "CorrelationR=CorrelationR.dropna()\n",
    "CorrelationR\n",
    "\n",
    "print('---------------------------------------------------------')\n",
    "print('Correlation of Various Features with Readmission rate')\n",
    "print('---------------------------------------------------------')\n",
    "print('\\n')\n",
    "print(CorrelationR)\n",
    "\n"
   ]
  },
  {
   "cell_type": "code",
   "execution_count": 36,
   "metadata": {},
   "outputs": [
    {
     "data": {
      "text/html": [
       "        <script type=\"text/javascript\">\n",
       "        window.PlotlyConfig = {MathJaxConfig: 'local'};\n",
       "        if (window.MathJax) {MathJax.Hub.Config({SVG: {font: \"STIX-Web\"}});}\n",
       "        if (typeof require !== 'undefined') {\n",
       "        require.undef(\"plotly\");\n",
       "        requirejs.config({\n",
       "            paths: {\n",
       "                'plotly': ['https://cdn.plot.ly/plotly-2.2.0.min']\n",
       "            }\n",
       "        });\n",
       "        require(['plotly'], function(Plotly) {\n",
       "            window._Plotly = Plotly;\n",
       "        });\n",
       "        }\n",
       "        </script>\n",
       "        "
      ]
     },
     "metadata": {},
     "output_type": "display_data"
    },
    {
     "data": {
      "text/html": [
       "        <script type=\"text/javascript\">\n",
       "        window.PlotlyConfig = {MathJaxConfig: 'local'};\n",
       "        if (window.MathJax) {MathJax.Hub.Config({SVG: {font: \"STIX-Web\"}});}\n",
       "        if (typeof require !== 'undefined') {\n",
       "        require.undef(\"plotly\");\n",
       "        requirejs.config({\n",
       "            paths: {\n",
       "                'plotly': ['https://cdn.plot.ly/plotly-2.2.0.min']\n",
       "            }\n",
       "        });\n",
       "        require(['plotly'], function(Plotly) {\n",
       "            window._Plotly = Plotly;\n",
       "        });\n",
       "        }\n",
       "        </script>\n",
       "        "
      ]
     },
     "metadata": {},
     "output_type": "display_data"
    },
    {
     "data": {
      "application/vnd.plotly.v1+json": {
       "config": {
        "linkText": "Export to plot.ly",
        "plotlyServerURL": "https://plot.ly",
        "showLink": true
       },
       "data": [
        {
         "marker": {
          "color": "rgba(255, 153, 51, 0.6)",
          "line": {
           "color": "rgba(255, 153, 51, 1.0)",
           "width": 1
          }
         },
         "name": "None",
         "orientation": "v",
         "text": "",
         "type": "bar",
         "x": [
          "race",
          "gender",
          "age",
          "admission_type_id",
          "discharge_disposition_id",
          "admission_source_id",
          "time_in_hospital",
          "num_lab_procedures",
          "num_procedures",
          "num_medications",
          "number_outpatient",
          "number_emergency",
          "number_inpatient",
          "diag_1",
          "diag_2",
          "diag_3",
          "number_diagnoses",
          "max_glu_serum",
          "A1Cresult",
          "metformin",
          "repaglinide",
          "nateglinide",
          "chlorpropamide",
          "glimepiride",
          "acetohexamide",
          "glipizide",
          "glyburide",
          "tolbutamide",
          "pioglitazone",
          "rosiglitazone",
          "acarbose",
          "miglitol",
          "troglitazone",
          "tolazamide",
          "insulin",
          "glyburide-metformin",
          "glipizide-metformin",
          "glimepiride-pioglitazone",
          "metformin-rosiglitazone",
          "metformin-pioglitazone",
          "change",
          "diabetesMed"
         ],
         "y": [
          0.00287926568497905,
          0.002887386893759366,
          0.017533694655769993,
          0.011268617454400437,
          0.05020861589691875,
          0.005887732136688867,
          0.04439450846127249,
          0.019939009995254203,
          0.011610319661071414,
          0.03807591642851991,
          0.018540521011708222,
          0.060223321199173625,
          0.16538854691732388,
          0.008266392876965924,
          0.003729426493657606,
          0.013236129447515626,
          0.04976718538699526,
          0.007381185848257397,
          0.007679469650288742,
          0.023504245112103635,
          0.010492559006644147,
          0.00011614842580321707,
          0.004970048417755304,
          0.007754624849660759,
          0.001120873265389263,
          8.094535976170384e-05,
          0.004053014543385358,
          0.0032818395576229772,
          0.0057747404966731015,
          0.004757541390922036,
          0.0035648730701264603,
          0.005069833270592777,
          0.001941428859273764,
          0.0022697495692306255,
          0.0030947340816098426,
          0.001137907116850347,
          0.0012561067419937962,
          0.0011208732653892588,
          0.001585162099603743,
          0.0011208732653892575,
          0.01959632600907021,
          0.027189628419168815
         ]
        }
       ],
       "layout": {
        "legend": {
         "bgcolor": "#F5F6F9",
         "font": {
          "color": "#4D5663"
         }
        },
        "paper_bgcolor": "#F5F6F9",
        "plot_bgcolor": "#F5F6F9",
        "template": {
         "data": {
          "bar": [
           {
            "error_x": {
             "color": "#2a3f5f"
            },
            "error_y": {
             "color": "#2a3f5f"
            },
            "marker": {
             "line": {
              "color": "#E5ECF6",
              "width": 0.5
             },
             "pattern": {
              "fillmode": "overlay",
              "size": 10,
              "solidity": 0.2
             }
            },
            "type": "bar"
           }
          ],
          "barpolar": [
           {
            "marker": {
             "line": {
              "color": "#E5ECF6",
              "width": 0.5
             },
             "pattern": {
              "fillmode": "overlay",
              "size": 10,
              "solidity": 0.2
             }
            },
            "type": "barpolar"
           }
          ],
          "carpet": [
           {
            "aaxis": {
             "endlinecolor": "#2a3f5f",
             "gridcolor": "white",
             "linecolor": "white",
             "minorgridcolor": "white",
             "startlinecolor": "#2a3f5f"
            },
            "baxis": {
             "endlinecolor": "#2a3f5f",
             "gridcolor": "white",
             "linecolor": "white",
             "minorgridcolor": "white",
             "startlinecolor": "#2a3f5f"
            },
            "type": "carpet"
           }
          ],
          "choropleth": [
           {
            "colorbar": {
             "outlinewidth": 0,
             "ticks": ""
            },
            "type": "choropleth"
           }
          ],
          "contour": [
           {
            "colorbar": {
             "outlinewidth": 0,
             "ticks": ""
            },
            "colorscale": [
             [
              0,
              "#0d0887"
             ],
             [
              0.1111111111111111,
              "#46039f"
             ],
             [
              0.2222222222222222,
              "#7201a8"
             ],
             [
              0.3333333333333333,
              "#9c179e"
             ],
             [
              0.4444444444444444,
              "#bd3786"
             ],
             [
              0.5555555555555556,
              "#d8576b"
             ],
             [
              0.6666666666666666,
              "#ed7953"
             ],
             [
              0.7777777777777778,
              "#fb9f3a"
             ],
             [
              0.8888888888888888,
              "#fdca26"
             ],
             [
              1,
              "#f0f921"
             ]
            ],
            "type": "contour"
           }
          ],
          "contourcarpet": [
           {
            "colorbar": {
             "outlinewidth": 0,
             "ticks": ""
            },
            "type": "contourcarpet"
           }
          ],
          "heatmap": [
           {
            "colorbar": {
             "outlinewidth": 0,
             "ticks": ""
            },
            "colorscale": [
             [
              0,
              "#0d0887"
             ],
             [
              0.1111111111111111,
              "#46039f"
             ],
             [
              0.2222222222222222,
              "#7201a8"
             ],
             [
              0.3333333333333333,
              "#9c179e"
             ],
             [
              0.4444444444444444,
              "#bd3786"
             ],
             [
              0.5555555555555556,
              "#d8576b"
             ],
             [
              0.6666666666666666,
              "#ed7953"
             ],
             [
              0.7777777777777778,
              "#fb9f3a"
             ],
             [
              0.8888888888888888,
              "#fdca26"
             ],
             [
              1,
              "#f0f921"
             ]
            ],
            "type": "heatmap"
           }
          ],
          "heatmapgl": [
           {
            "colorbar": {
             "outlinewidth": 0,
             "ticks": ""
            },
            "colorscale": [
             [
              0,
              "#0d0887"
             ],
             [
              0.1111111111111111,
              "#46039f"
             ],
             [
              0.2222222222222222,
              "#7201a8"
             ],
             [
              0.3333333333333333,
              "#9c179e"
             ],
             [
              0.4444444444444444,
              "#bd3786"
             ],
             [
              0.5555555555555556,
              "#d8576b"
             ],
             [
              0.6666666666666666,
              "#ed7953"
             ],
             [
              0.7777777777777778,
              "#fb9f3a"
             ],
             [
              0.8888888888888888,
              "#fdca26"
             ],
             [
              1,
              "#f0f921"
             ]
            ],
            "type": "heatmapgl"
           }
          ],
          "histogram": [
           {
            "marker": {
             "pattern": {
              "fillmode": "overlay",
              "size": 10,
              "solidity": 0.2
             }
            },
            "type": "histogram"
           }
          ],
          "histogram2d": [
           {
            "colorbar": {
             "outlinewidth": 0,
             "ticks": ""
            },
            "colorscale": [
             [
              0,
              "#0d0887"
             ],
             [
              0.1111111111111111,
              "#46039f"
             ],
             [
              0.2222222222222222,
              "#7201a8"
             ],
             [
              0.3333333333333333,
              "#9c179e"
             ],
             [
              0.4444444444444444,
              "#bd3786"
             ],
             [
              0.5555555555555556,
              "#d8576b"
             ],
             [
              0.6666666666666666,
              "#ed7953"
             ],
             [
              0.7777777777777778,
              "#fb9f3a"
             ],
             [
              0.8888888888888888,
              "#fdca26"
             ],
             [
              1,
              "#f0f921"
             ]
            ],
            "type": "histogram2d"
           }
          ],
          "histogram2dcontour": [
           {
            "colorbar": {
             "outlinewidth": 0,
             "ticks": ""
            },
            "colorscale": [
             [
              0,
              "#0d0887"
             ],
             [
              0.1111111111111111,
              "#46039f"
             ],
             [
              0.2222222222222222,
              "#7201a8"
             ],
             [
              0.3333333333333333,
              "#9c179e"
             ],
             [
              0.4444444444444444,
              "#bd3786"
             ],
             [
              0.5555555555555556,
              "#d8576b"
             ],
             [
              0.6666666666666666,
              "#ed7953"
             ],
             [
              0.7777777777777778,
              "#fb9f3a"
             ],
             [
              0.8888888888888888,
              "#fdca26"
             ],
             [
              1,
              "#f0f921"
             ]
            ],
            "type": "histogram2dcontour"
           }
          ],
          "mesh3d": [
           {
            "colorbar": {
             "outlinewidth": 0,
             "ticks": ""
            },
            "type": "mesh3d"
           }
          ],
          "parcoords": [
           {
            "line": {
             "colorbar": {
              "outlinewidth": 0,
              "ticks": ""
             }
            },
            "type": "parcoords"
           }
          ],
          "pie": [
           {
            "automargin": true,
            "type": "pie"
           }
          ],
          "scatter": [
           {
            "marker": {
             "colorbar": {
              "outlinewidth": 0,
              "ticks": ""
             }
            },
            "type": "scatter"
           }
          ],
          "scatter3d": [
           {
            "line": {
             "colorbar": {
              "outlinewidth": 0,
              "ticks": ""
             }
            },
            "marker": {
             "colorbar": {
              "outlinewidth": 0,
              "ticks": ""
             }
            },
            "type": "scatter3d"
           }
          ],
          "scattercarpet": [
           {
            "marker": {
             "colorbar": {
              "outlinewidth": 0,
              "ticks": ""
             }
            },
            "type": "scattercarpet"
           }
          ],
          "scattergeo": [
           {
            "marker": {
             "colorbar": {
              "outlinewidth": 0,
              "ticks": ""
             }
            },
            "type": "scattergeo"
           }
          ],
          "scattergl": [
           {
            "marker": {
             "colorbar": {
              "outlinewidth": 0,
              "ticks": ""
             }
            },
            "type": "scattergl"
           }
          ],
          "scattermapbox": [
           {
            "marker": {
             "colorbar": {
              "outlinewidth": 0,
              "ticks": ""
             }
            },
            "type": "scattermapbox"
           }
          ],
          "scatterpolar": [
           {
            "marker": {
             "colorbar": {
              "outlinewidth": 0,
              "ticks": ""
             }
            },
            "type": "scatterpolar"
           }
          ],
          "scatterpolargl": [
           {
            "marker": {
             "colorbar": {
              "outlinewidth": 0,
              "ticks": ""
             }
            },
            "type": "scatterpolargl"
           }
          ],
          "scatterternary": [
           {
            "marker": {
             "colorbar": {
              "outlinewidth": 0,
              "ticks": ""
             }
            },
            "type": "scatterternary"
           }
          ],
          "surface": [
           {
            "colorbar": {
             "outlinewidth": 0,
             "ticks": ""
            },
            "colorscale": [
             [
              0,
              "#0d0887"
             ],
             [
              0.1111111111111111,
              "#46039f"
             ],
             [
              0.2222222222222222,
              "#7201a8"
             ],
             [
              0.3333333333333333,
              "#9c179e"
             ],
             [
              0.4444444444444444,
              "#bd3786"
             ],
             [
              0.5555555555555556,
              "#d8576b"
             ],
             [
              0.6666666666666666,
              "#ed7953"
             ],
             [
              0.7777777777777778,
              "#fb9f3a"
             ],
             [
              0.8888888888888888,
              "#fdca26"
             ],
             [
              1,
              "#f0f921"
             ]
            ],
            "type": "surface"
           }
          ],
          "table": [
           {
            "cells": {
             "fill": {
              "color": "#EBF0F8"
             },
             "line": {
              "color": "white"
             }
            },
            "header": {
             "fill": {
              "color": "#C8D4E3"
             },
             "line": {
              "color": "white"
             }
            },
            "type": "table"
           }
          ]
         },
         "layout": {
          "annotationdefaults": {
           "arrowcolor": "#2a3f5f",
           "arrowhead": 0,
           "arrowwidth": 1
          },
          "autotypenumbers": "strict",
          "coloraxis": {
           "colorbar": {
            "outlinewidth": 0,
            "ticks": ""
           }
          },
          "colorscale": {
           "diverging": [
            [
             0,
             "#8e0152"
            ],
            [
             0.1,
             "#c51b7d"
            ],
            [
             0.2,
             "#de77ae"
            ],
            [
             0.3,
             "#f1b6da"
            ],
            [
             0.4,
             "#fde0ef"
            ],
            [
             0.5,
             "#f7f7f7"
            ],
            [
             0.6,
             "#e6f5d0"
            ],
            [
             0.7,
             "#b8e186"
            ],
            [
             0.8,
             "#7fbc41"
            ],
            [
             0.9,
             "#4d9221"
            ],
            [
             1,
             "#276419"
            ]
           ],
           "sequential": [
            [
             0,
             "#0d0887"
            ],
            [
             0.1111111111111111,
             "#46039f"
            ],
            [
             0.2222222222222222,
             "#7201a8"
            ],
            [
             0.3333333333333333,
             "#9c179e"
            ],
            [
             0.4444444444444444,
             "#bd3786"
            ],
            [
             0.5555555555555556,
             "#d8576b"
            ],
            [
             0.6666666666666666,
             "#ed7953"
            ],
            [
             0.7777777777777778,
             "#fb9f3a"
            ],
            [
             0.8888888888888888,
             "#fdca26"
            ],
            [
             1,
             "#f0f921"
            ]
           ],
           "sequentialminus": [
            [
             0,
             "#0d0887"
            ],
            [
             0.1111111111111111,
             "#46039f"
            ],
            [
             0.2222222222222222,
             "#7201a8"
            ],
            [
             0.3333333333333333,
             "#9c179e"
            ],
            [
             0.4444444444444444,
             "#bd3786"
            ],
            [
             0.5555555555555556,
             "#d8576b"
            ],
            [
             0.6666666666666666,
             "#ed7953"
            ],
            [
             0.7777777777777778,
             "#fb9f3a"
            ],
            [
             0.8888888888888888,
             "#fdca26"
            ],
            [
             1,
             "#f0f921"
            ]
           ]
          },
          "colorway": [
           "#636efa",
           "#EF553B",
           "#00cc96",
           "#ab63fa",
           "#FFA15A",
           "#19d3f3",
           "#FF6692",
           "#B6E880",
           "#FF97FF",
           "#FECB52"
          ],
          "font": {
           "color": "#2a3f5f"
          },
          "geo": {
           "bgcolor": "white",
           "lakecolor": "white",
           "landcolor": "#E5ECF6",
           "showlakes": true,
           "showland": true,
           "subunitcolor": "white"
          },
          "hoverlabel": {
           "align": "left"
          },
          "hovermode": "closest",
          "mapbox": {
           "style": "light"
          },
          "paper_bgcolor": "white",
          "plot_bgcolor": "#E5ECF6",
          "polar": {
           "angularaxis": {
            "gridcolor": "white",
            "linecolor": "white",
            "ticks": ""
           },
           "bgcolor": "#E5ECF6",
           "radialaxis": {
            "gridcolor": "white",
            "linecolor": "white",
            "ticks": ""
           }
          },
          "scene": {
           "xaxis": {
            "backgroundcolor": "#E5ECF6",
            "gridcolor": "white",
            "gridwidth": 2,
            "linecolor": "white",
            "showbackground": true,
            "ticks": "",
            "zerolinecolor": "white"
           },
           "yaxis": {
            "backgroundcolor": "#E5ECF6",
            "gridcolor": "white",
            "gridwidth": 2,
            "linecolor": "white",
            "showbackground": true,
            "ticks": "",
            "zerolinecolor": "white"
           },
           "zaxis": {
            "backgroundcolor": "#E5ECF6",
            "gridcolor": "white",
            "gridwidth": 2,
            "linecolor": "white",
            "showbackground": true,
            "ticks": "",
            "zerolinecolor": "white"
           }
          },
          "shapedefaults": {
           "line": {
            "color": "#2a3f5f"
           }
          },
          "ternary": {
           "aaxis": {
            "gridcolor": "white",
            "linecolor": "white",
            "ticks": ""
           },
           "baxis": {
            "gridcolor": "white",
            "linecolor": "white",
            "ticks": ""
           },
           "bgcolor": "#E5ECF6",
           "caxis": {
            "gridcolor": "white",
            "linecolor": "white",
            "ticks": ""
           }
          },
          "title": {
           "x": 0.05
          },
          "xaxis": {
           "automargin": true,
           "gridcolor": "white",
           "linecolor": "white",
           "ticks": "",
           "title": {
            "standoff": 15
           },
           "zerolinecolor": "white",
           "zerolinewidth": 2
          },
          "yaxis": {
           "automargin": true,
           "gridcolor": "white",
           "linecolor": "white",
           "ticks": "",
           "title": {
            "standoff": 15
           },
           "zerolinecolor": "white",
           "zerolinewidth": 2
          }
         }
        },
        "title": {
         "font": {
          "color": "#4D5663"
         }
        },
        "xaxis": {
         "gridcolor": "#E1E5ED",
         "showgrid": true,
         "tickfont": {
          "color": "#4D5663"
         },
         "title": {
          "font": {
           "color": "#4D5663"
          },
          "text": ""
         },
         "zerolinecolor": "#E1E5ED"
        },
        "yaxis": {
         "gridcolor": "#E1E5ED",
         "showgrid": true,
         "tickfont": {
          "color": "#4D5663"
         },
         "title": {
          "font": {
           "color": "#4D5663"
          },
          "text": ""
         },
         "zerolinecolor": "#E1E5ED"
        }
       }
      },
      "text/html": [
       "<div>                            <div id=\"8dce8b51-f47c-4a38-902d-e0e30df22cab\" class=\"plotly-graph-div\" style=\"height:525px; width:100%;\"></div>            <script type=\"text/javascript\">                require([\"plotly\"], function(Plotly) {                    window.PLOTLYENV=window.PLOTLYENV || {};\n",
       "                    window.PLOTLYENV.BASE_URL='https://plot.ly';                                    if (document.getElementById(\"8dce8b51-f47c-4a38-902d-e0e30df22cab\")) {                    Plotly.newPlot(                        \"8dce8b51-f47c-4a38-902d-e0e30df22cab\",                        [{\"marker\":{\"color\":\"rgba(255, 153, 51, 0.6)\",\"line\":{\"color\":\"rgba(255, 153, 51, 1.0)\",\"width\":1}},\"name\":\"None\",\"orientation\":\"v\",\"text\":\"\",\"type\":\"bar\",\"x\":[\"race\",\"gender\",\"age\",\"admission_type_id\",\"discharge_disposition_id\",\"admission_source_id\",\"time_in_hospital\",\"num_lab_procedures\",\"num_procedures\",\"num_medications\",\"number_outpatient\",\"number_emergency\",\"number_inpatient\",\"diag_1\",\"diag_2\",\"diag_3\",\"number_diagnoses\",\"max_glu_serum\",\"A1Cresult\",\"metformin\",\"repaglinide\",\"nateglinide\",\"chlorpropamide\",\"glimepiride\",\"acetohexamide\",\"glipizide\",\"glyburide\",\"tolbutamide\",\"pioglitazone\",\"rosiglitazone\",\"acarbose\",\"miglitol\",\"troglitazone\",\"tolazamide\",\"insulin\",\"glyburide-metformin\",\"glipizide-metformin\",\"glimepiride-pioglitazone\",\"metformin-rosiglitazone\",\"metformin-pioglitazone\",\"change\",\"diabetesMed\"],\"y\":[0.00287926568497905,0.002887386893759366,0.017533694655769993,0.011268617454400437,0.05020861589691875,0.005887732136688867,0.04439450846127249,0.019939009995254203,0.011610319661071414,0.03807591642851991,0.018540521011708222,0.060223321199173625,0.16538854691732388,0.008266392876965924,0.003729426493657606,0.013236129447515626,0.04976718538699526,0.007381185848257397,0.007679469650288742,0.023504245112103635,0.010492559006644147,0.00011614842580321707,0.004970048417755304,0.007754624849660759,0.001120873265389263,8.094535976170384e-05,0.004053014543385358,0.0032818395576229772,0.0057747404966731015,0.004757541390922036,0.0035648730701264603,0.005069833270592777,0.001941428859273764,0.0022697495692306255,0.0030947340816098426,0.001137907116850347,0.0012561067419937962,0.0011208732653892588,0.001585162099603743,0.0011208732653892575,0.01959632600907021,0.027189628419168815]}],                        {\"legend\":{\"bgcolor\":\"#F5F6F9\",\"font\":{\"color\":\"#4D5663\"}},\"paper_bgcolor\":\"#F5F6F9\",\"plot_bgcolor\":\"#F5F6F9\",\"template\":{\"data\":{\"bar\":[{\"error_x\":{\"color\":\"#2a3f5f\"},\"error_y\":{\"color\":\"#2a3f5f\"},\"marker\":{\"line\":{\"color\":\"#E5ECF6\",\"width\":0.5},\"pattern\":{\"fillmode\":\"overlay\",\"size\":10,\"solidity\":0.2}},\"type\":\"bar\"}],\"barpolar\":[{\"marker\":{\"line\":{\"color\":\"#E5ECF6\",\"width\":0.5},\"pattern\":{\"fillmode\":\"overlay\",\"size\":10,\"solidity\":0.2}},\"type\":\"barpolar\"}],\"carpet\":[{\"aaxis\":{\"endlinecolor\":\"#2a3f5f\",\"gridcolor\":\"white\",\"linecolor\":\"white\",\"minorgridcolor\":\"white\",\"startlinecolor\":\"#2a3f5f\"},\"baxis\":{\"endlinecolor\":\"#2a3f5f\",\"gridcolor\":\"white\",\"linecolor\":\"white\",\"minorgridcolor\":\"white\",\"startlinecolor\":\"#2a3f5f\"},\"type\":\"carpet\"}],\"choropleth\":[{\"colorbar\":{\"outlinewidth\":0,\"ticks\":\"\"},\"type\":\"choropleth\"}],\"contour\":[{\"colorbar\":{\"outlinewidth\":0,\"ticks\":\"\"},\"colorscale\":[[0.0,\"#0d0887\"],[0.1111111111111111,\"#46039f\"],[0.2222222222222222,\"#7201a8\"],[0.3333333333333333,\"#9c179e\"],[0.4444444444444444,\"#bd3786\"],[0.5555555555555556,\"#d8576b\"],[0.6666666666666666,\"#ed7953\"],[0.7777777777777778,\"#fb9f3a\"],[0.8888888888888888,\"#fdca26\"],[1.0,\"#f0f921\"]],\"type\":\"contour\"}],\"contourcarpet\":[{\"colorbar\":{\"outlinewidth\":0,\"ticks\":\"\"},\"type\":\"contourcarpet\"}],\"heatmap\":[{\"colorbar\":{\"outlinewidth\":0,\"ticks\":\"\"},\"colorscale\":[[0.0,\"#0d0887\"],[0.1111111111111111,\"#46039f\"],[0.2222222222222222,\"#7201a8\"],[0.3333333333333333,\"#9c179e\"],[0.4444444444444444,\"#bd3786\"],[0.5555555555555556,\"#d8576b\"],[0.6666666666666666,\"#ed7953\"],[0.7777777777777778,\"#fb9f3a\"],[0.8888888888888888,\"#fdca26\"],[1.0,\"#f0f921\"]],\"type\":\"heatmap\"}],\"heatmapgl\":[{\"colorbar\":{\"outlinewidth\":0,\"ticks\":\"\"},\"colorscale\":[[0.0,\"#0d0887\"],[0.1111111111111111,\"#46039f\"],[0.2222222222222222,\"#7201a8\"],[0.3333333333333333,\"#9c179e\"],[0.4444444444444444,\"#bd3786\"],[0.5555555555555556,\"#d8576b\"],[0.6666666666666666,\"#ed7953\"],[0.7777777777777778,\"#fb9f3a\"],[0.8888888888888888,\"#fdca26\"],[1.0,\"#f0f921\"]],\"type\":\"heatmapgl\"}],\"histogram\":[{\"marker\":{\"pattern\":{\"fillmode\":\"overlay\",\"size\":10,\"solidity\":0.2}},\"type\":\"histogram\"}],\"histogram2d\":[{\"colorbar\":{\"outlinewidth\":0,\"ticks\":\"\"},\"colorscale\":[[0.0,\"#0d0887\"],[0.1111111111111111,\"#46039f\"],[0.2222222222222222,\"#7201a8\"],[0.3333333333333333,\"#9c179e\"],[0.4444444444444444,\"#bd3786\"],[0.5555555555555556,\"#d8576b\"],[0.6666666666666666,\"#ed7953\"],[0.7777777777777778,\"#fb9f3a\"],[0.8888888888888888,\"#fdca26\"],[1.0,\"#f0f921\"]],\"type\":\"histogram2d\"}],\"histogram2dcontour\":[{\"colorbar\":{\"outlinewidth\":0,\"ticks\":\"\"},\"colorscale\":[[0.0,\"#0d0887\"],[0.1111111111111111,\"#46039f\"],[0.2222222222222222,\"#7201a8\"],[0.3333333333333333,\"#9c179e\"],[0.4444444444444444,\"#bd3786\"],[0.5555555555555556,\"#d8576b\"],[0.6666666666666666,\"#ed7953\"],[0.7777777777777778,\"#fb9f3a\"],[0.8888888888888888,\"#fdca26\"],[1.0,\"#f0f921\"]],\"type\":\"histogram2dcontour\"}],\"mesh3d\":[{\"colorbar\":{\"outlinewidth\":0,\"ticks\":\"\"},\"type\":\"mesh3d\"}],\"parcoords\":[{\"line\":{\"colorbar\":{\"outlinewidth\":0,\"ticks\":\"\"}},\"type\":\"parcoords\"}],\"pie\":[{\"automargin\":true,\"type\":\"pie\"}],\"scatter\":[{\"marker\":{\"colorbar\":{\"outlinewidth\":0,\"ticks\":\"\"}},\"type\":\"scatter\"}],\"scatter3d\":[{\"line\":{\"colorbar\":{\"outlinewidth\":0,\"ticks\":\"\"}},\"marker\":{\"colorbar\":{\"outlinewidth\":0,\"ticks\":\"\"}},\"type\":\"scatter3d\"}],\"scattercarpet\":[{\"marker\":{\"colorbar\":{\"outlinewidth\":0,\"ticks\":\"\"}},\"type\":\"scattercarpet\"}],\"scattergeo\":[{\"marker\":{\"colorbar\":{\"outlinewidth\":0,\"ticks\":\"\"}},\"type\":\"scattergeo\"}],\"scattergl\":[{\"marker\":{\"colorbar\":{\"outlinewidth\":0,\"ticks\":\"\"}},\"type\":\"scattergl\"}],\"scattermapbox\":[{\"marker\":{\"colorbar\":{\"outlinewidth\":0,\"ticks\":\"\"}},\"type\":\"scattermapbox\"}],\"scatterpolar\":[{\"marker\":{\"colorbar\":{\"outlinewidth\":0,\"ticks\":\"\"}},\"type\":\"scatterpolar\"}],\"scatterpolargl\":[{\"marker\":{\"colorbar\":{\"outlinewidth\":0,\"ticks\":\"\"}},\"type\":\"scatterpolargl\"}],\"scatterternary\":[{\"marker\":{\"colorbar\":{\"outlinewidth\":0,\"ticks\":\"\"}},\"type\":\"scatterternary\"}],\"surface\":[{\"colorbar\":{\"outlinewidth\":0,\"ticks\":\"\"},\"colorscale\":[[0.0,\"#0d0887\"],[0.1111111111111111,\"#46039f\"],[0.2222222222222222,\"#7201a8\"],[0.3333333333333333,\"#9c179e\"],[0.4444444444444444,\"#bd3786\"],[0.5555555555555556,\"#d8576b\"],[0.6666666666666666,\"#ed7953\"],[0.7777777777777778,\"#fb9f3a\"],[0.8888888888888888,\"#fdca26\"],[1.0,\"#f0f921\"]],\"type\":\"surface\"}],\"table\":[{\"cells\":{\"fill\":{\"color\":\"#EBF0F8\"},\"line\":{\"color\":\"white\"}},\"header\":{\"fill\":{\"color\":\"#C8D4E3\"},\"line\":{\"color\":\"white\"}},\"type\":\"table\"}]},\"layout\":{\"annotationdefaults\":{\"arrowcolor\":\"#2a3f5f\",\"arrowhead\":0,\"arrowwidth\":1},\"autotypenumbers\":\"strict\",\"coloraxis\":{\"colorbar\":{\"outlinewidth\":0,\"ticks\":\"\"}},\"colorscale\":{\"diverging\":[[0,\"#8e0152\"],[0.1,\"#c51b7d\"],[0.2,\"#de77ae\"],[0.3,\"#f1b6da\"],[0.4,\"#fde0ef\"],[0.5,\"#f7f7f7\"],[0.6,\"#e6f5d0\"],[0.7,\"#b8e186\"],[0.8,\"#7fbc41\"],[0.9,\"#4d9221\"],[1,\"#276419\"]],\"sequential\":[[0.0,\"#0d0887\"],[0.1111111111111111,\"#46039f\"],[0.2222222222222222,\"#7201a8\"],[0.3333333333333333,\"#9c179e\"],[0.4444444444444444,\"#bd3786\"],[0.5555555555555556,\"#d8576b\"],[0.6666666666666666,\"#ed7953\"],[0.7777777777777778,\"#fb9f3a\"],[0.8888888888888888,\"#fdca26\"],[1.0,\"#f0f921\"]],\"sequentialminus\":[[0.0,\"#0d0887\"],[0.1111111111111111,\"#46039f\"],[0.2222222222222222,\"#7201a8\"],[0.3333333333333333,\"#9c179e\"],[0.4444444444444444,\"#bd3786\"],[0.5555555555555556,\"#d8576b\"],[0.6666666666666666,\"#ed7953\"],[0.7777777777777778,\"#fb9f3a\"],[0.8888888888888888,\"#fdca26\"],[1.0,\"#f0f921\"]]},\"colorway\":[\"#636efa\",\"#EF553B\",\"#00cc96\",\"#ab63fa\",\"#FFA15A\",\"#19d3f3\",\"#FF6692\",\"#B6E880\",\"#FF97FF\",\"#FECB52\"],\"font\":{\"color\":\"#2a3f5f\"},\"geo\":{\"bgcolor\":\"white\",\"lakecolor\":\"white\",\"landcolor\":\"#E5ECF6\",\"showlakes\":true,\"showland\":true,\"subunitcolor\":\"white\"},\"hoverlabel\":{\"align\":\"left\"},\"hovermode\":\"closest\",\"mapbox\":{\"style\":\"light\"},\"paper_bgcolor\":\"white\",\"plot_bgcolor\":\"#E5ECF6\",\"polar\":{\"angularaxis\":{\"gridcolor\":\"white\",\"linecolor\":\"white\",\"ticks\":\"\"},\"bgcolor\":\"#E5ECF6\",\"radialaxis\":{\"gridcolor\":\"white\",\"linecolor\":\"white\",\"ticks\":\"\"}},\"scene\":{\"xaxis\":{\"backgroundcolor\":\"#E5ECF6\",\"gridcolor\":\"white\",\"gridwidth\":2,\"linecolor\":\"white\",\"showbackground\":true,\"ticks\":\"\",\"zerolinecolor\":\"white\"},\"yaxis\":{\"backgroundcolor\":\"#E5ECF6\",\"gridcolor\":\"white\",\"gridwidth\":2,\"linecolor\":\"white\",\"showbackground\":true,\"ticks\":\"\",\"zerolinecolor\":\"white\"},\"zaxis\":{\"backgroundcolor\":\"#E5ECF6\",\"gridcolor\":\"white\",\"gridwidth\":2,\"linecolor\":\"white\",\"showbackground\":true,\"ticks\":\"\",\"zerolinecolor\":\"white\"}},\"shapedefaults\":{\"line\":{\"color\":\"#2a3f5f\"}},\"ternary\":{\"aaxis\":{\"gridcolor\":\"white\",\"linecolor\":\"white\",\"ticks\":\"\"},\"baxis\":{\"gridcolor\":\"white\",\"linecolor\":\"white\",\"ticks\":\"\"},\"bgcolor\":\"#E5ECF6\",\"caxis\":{\"gridcolor\":\"white\",\"linecolor\":\"white\",\"ticks\":\"\"}},\"title\":{\"x\":0.05},\"xaxis\":{\"automargin\":true,\"gridcolor\":\"white\",\"linecolor\":\"white\",\"ticks\":\"\",\"title\":{\"standoff\":15},\"zerolinecolor\":\"white\",\"zerolinewidth\":2},\"yaxis\":{\"automargin\":true,\"gridcolor\":\"white\",\"linecolor\":\"white\",\"ticks\":\"\",\"title\":{\"standoff\":15},\"zerolinecolor\":\"white\",\"zerolinewidth\":2}}},\"title\":{\"font\":{\"color\":\"#4D5663\"}},\"xaxis\":{\"gridcolor\":\"#E1E5ED\",\"showgrid\":true,\"tickfont\":{\"color\":\"#4D5663\"},\"title\":{\"font\":{\"color\":\"#4D5663\"},\"text\":\"\"},\"zerolinecolor\":\"#E1E5ED\"},\"yaxis\":{\"gridcolor\":\"#E1E5ED\",\"showgrid\":true,\"tickfont\":{\"color\":\"#4D5663\"},\"title\":{\"font\":{\"color\":\"#4D5663\"},\"text\":\"\"},\"zerolinecolor\":\"#E1E5ED\"}},                        {\"showLink\": true, \"linkText\": \"Export to plot.ly\", \"plotlyServerURL\": \"https://plot.ly\", \"responsive\": true}                    ).then(function(){\n",
       "                            \n",
       "var gd = document.getElementById('8dce8b51-f47c-4a38-902d-e0e30df22cab');\n",
       "var x = new MutationObserver(function (mutations, observer) {{\n",
       "        var display = window.getComputedStyle(gd).display;\n",
       "        if (!display || display === 'none') {{\n",
       "            console.log([gd, 'removed!']);\n",
       "            Plotly.purge(gd);\n",
       "            observer.disconnect();\n",
       "        }}\n",
       "}});\n",
       "\n",
       "// Listen for the removal of the full notebook cells\n",
       "var notebookContainer = gd.closest('#notebook-container');\n",
       "if (notebookContainer) {{\n",
       "    x.observe(notebookContainer, {childList: true});\n",
       "}}\n",
       "\n",
       "// Listen for the clearing of the current output cell\n",
       "var outputEl = gd.closest('.output');\n",
       "if (outputEl) {{\n",
       "    x.observe(outputEl, {childList: true});\n",
       "}}\n",
       "\n",
       "                        })                };                });            </script>        </div>"
      ]
     },
     "metadata": {},
     "output_type": "display_data"
    }
   ],
   "source": [
    "raddmit = abs( CorrelationR)\n",
    "raddmit = raddmit.drop('readmitted')\n",
    "#sns.distplot(raddmit,bins=30)\n",
    "#plt.figure(figsize=(15,12))\n",
    "#plt.plot(raddmit)\n",
    "init_notebook_mode(connected=True)\n",
    "\n",
    "cf.go_offline()\n",
    "\n",
    "raddmit.iplot(kind='bar')"
   ]
  },
  {
   "cell_type": "code",
   "execution_count": 37,
   "metadata": {},
   "outputs": [
    {
     "name": "stdout",
     "output_type": "stream",
     "text": [
      "8\n",
      "\n",
      "\n",
      "['discharge_disposition_id', 'time_in_hospital', 'num_medications', 'number_emergency', 'number_inpatient', 'number_diagnoses', 'metformin', 'diabetesMed']\n"
     ]
    }
   ],
   "source": [
    "Redd=raddmit[(raddmit>0.02)]\n",
    "#Redd\n",
    "\n",
    "Redd=pd.DataFrame(Redd)\n",
    "features=list(Redd.transpose().columns)\n",
    "print(np.size(features))\n",
    "print('\\n')\n",
    "print(features)"
   ]
  },
  {
   "cell_type": "code",
   "execution_count": 91,
   "metadata": {},
   "outputs": [],
   "source": [
    "#Total Training data set with all opts\n",
    "\n",
    "X_main = Model_Data[features]\n",
    "Y_main = Model_Data['readmitted']\n",
    "\n",
    "#Equal proportion opt data set\n",
    "#11161[:11161]\n",
    "Sort_data_0=Model_Data[Model_Data['readmitted'] == 0][:(11161*4)]\n",
    "Sort_data_1=Model_Data[Model_Data['readmitted'] == 1]\n",
    "Sort_data = pd.concat([Sort_data_1,Sort_data_0],axis = 0)\n",
    "\n",
    "X_main_S = Sort_data[features]\n",
    "Y_main_S = Sort_data['readmitted']\n",
    "\n",
    "# Validation Data Set\n",
    "X_valid = Holding_Data[features]\n",
    "Y_valid = Holding_Data['readmitted']"
   ]
  },
  {
   "cell_type": "code",
   "execution_count": 92,
   "metadata": {},
   "outputs": [
    {
     "name": "stdout",
     "output_type": "stream",
     "text": [
      "Fitting 5 folds for each of 2100 candidates, totalling 10500 fits\n"
     ]
    },
    {
     "name": "stderr",
     "output_type": "stream",
     "text": [
      "[Parallel(n_jobs=4)]: Using backend LokyBackend with 4 concurrent workers.\n",
      "[Parallel(n_jobs=4)]: Done  24 tasks      | elapsed:    5.1s\n",
      "[Parallel(n_jobs=4)]: Done 120 tasks      | elapsed:   15.3s\n",
      "[Parallel(n_jobs=4)]: Done 280 tasks      | elapsed:   38.3s\n",
      "[Parallel(n_jobs=4)]: Done 504 tasks      | elapsed:  1.1min\n",
      "[Parallel(n_jobs=4)]: Done 792 tasks      | elapsed:  1.7min\n",
      "[Parallel(n_jobs=4)]: Done 1144 tasks      | elapsed:  2.6min\n",
      "[Parallel(n_jobs=4)]: Done 1560 tasks      | elapsed:  3.5min\n",
      "[Parallel(n_jobs=4)]: Done 2040 tasks      | elapsed:  5.3min\n",
      "[Parallel(n_jobs=4)]: Done 2584 tasks      | elapsed:  7.4min\n",
      "[Parallel(n_jobs=4)]: Done 3192 tasks      | elapsed: 10.5min\n",
      "[Parallel(n_jobs=4)]: Done 3864 tasks      | elapsed: 13.6min\n",
      "[Parallel(n_jobs=4)]: Done 4600 tasks      | elapsed: 18.3min\n",
      "[Parallel(n_jobs=4)]: Done 5400 tasks      | elapsed: 20.6min\n",
      "[Parallel(n_jobs=4)]: Done 6264 tasks      | elapsed: 23.5min\n",
      "[Parallel(n_jobs=4)]: Done 7192 tasks      | elapsed: 25.0min\n",
      "[Parallel(n_jobs=4)]: Done 8184 tasks      | elapsed: 26.2min\n",
      "[Parallel(n_jobs=4)]: Done 9240 tasks      | elapsed: 27.6min\n",
      "[Parallel(n_jobs=4)]: Done 10360 tasks      | elapsed: 28.8min\n",
      "[Parallel(n_jobs=4)]: Done 10500 out of 10500 | elapsed: 29.0min finished\n"
     ]
    },
    {
     "name": "stdout",
     "output_type": "stream",
     "text": [
      "\n",
      "\n",
      "{'C': 0.04040404040404041, 'max_iter': 1000, 'penalty': 'l2', 'solver': 'newton-cg'}\n",
      "\n",
      "\n",
      "***Results of Logistic Reg***\n",
      "\n",
      "\n",
      "Score_Model_train:    0.8030418421288416\n",
      "\n",
      "\n",
      "Score_Model_test:    0.7928501030373623\n",
      "\n",
      "\n",
      "Score_Model_All_Main:    0.8010034943105456\n",
      "\n",
      "\n",
      "Score_Validation:    0.8878186968838527\n",
      "\n",
      "\n",
      "\n",
      "\n",
      "***Analysis of Logistic Reg _ Test_ Data***\n",
      "\n",
      "\n",
      "MSE: 0.11218130311614731\n",
      "\n",
      "\n",
      "MAE: 0.11218130311614731\n",
      "\n",
      "\n",
      "[[1565    4]\n",
      " [ 194    2]]\n",
      "\n",
      "\n",
      "              precision    recall  f1-score   support\n",
      "\n",
      "           0       0.89      1.00      0.94      1569\n",
      "           1       0.33      0.01      0.02       196\n",
      "\n",
      "    accuracy                           0.89      1765\n",
      "   macro avg       0.61      0.50      0.48      1765\n",
      "weighted avg       0.83      0.89      0.84      1765\n",
      "\n"
     ]
    }
   ],
   "source": [
    "from sklearn.model_selection import train_test_split\n",
    "from sklearn.linear_model import LogisticRegression\n",
    "from sklearn.model_selection import GridSearchCV\n",
    "from sklearn.metrics import classification_report,confusion_matrix,mean_absolute_error,mean_squared_error\n",
    "\n",
    "\n",
    "# Total Training Data Set\n",
    "#X_train, X_test, y_train, y_test = train_test_split(X_main,Y_main , test_size=0.2, random_state=1)\n",
    "\n",
    "# Equal proportion opt data set\n",
    "\n",
    "X_train, X_test, y_train, y_test = train_test_split(X_main_S,Y_main_S , test_size=0.2, random_state=11)\n",
    "\n",
    "\n",
    "#from sklearn.linear_model import LinearRegression\n",
    "\n",
    "logmodel_T = LogisticRegression()\n",
    "\n",
    "Parameter_grid = [{\n",
    "#    'penalty': ['l1','l2'],\n",
    "    'penalty': ['l2'],\n",
    "    'C': np.linspace(0,2,100),\n",
    "#    'solver':['newton-cg', 'lbfgs'],\n",
    "    'solver':['newton-cg'],\n",
    "    'max_iter': np.arange(0,21000,1000)\n",
    "}]\n",
    "\n",
    "\n",
    "clf = GridSearchCV(logmodel_T, Parameter_grid,cv=5,verbose=3,n_jobs=4)\n",
    "\n",
    "Best_Clf = clf.fit(X_train,y_train)\n",
    "\n",
    "###########_______________________________________________________________________________________________________________\n",
    "print('\\n')\n",
    "print(Best_Clf.best_params_)\n",
    "print('\\n')\n",
    "logmodel = Best_Clf.best_estimator_\n",
    "\n",
    "logmodel.fit(X_train,y_train)\n",
    "#lm.fit(X_train,y_train)\n",
    "\n",
    "logmodel.fit(X_test,y_test)\n",
    "\n",
    "logmodel.fit(X_main_S,Y_main_S)\n",
    "\n",
    "logmodel.fit(X_valid,Y_valid)\n",
    "\n",
    "print('***Results of Logistic Reg***')\n",
    "print('\\n')\n",
    "print('Score_Model_train:   ',logmodel.score(X_train,y_train))\n",
    "print('\\n')\n",
    "print('Score_Model_test:   ',logmodel.score(X_test,y_test))\n",
    "print('\\n')\n",
    "print('Score_Model_All_Main:   ',logmodel.score(X_main_S,Y_main_S))\n",
    "print('\\n')\n",
    "print('Score_Validation:   ',logmodel.score(X_valid,Y_valid))\n",
    "#logmodel.score(X_test,y_test)\n",
    "\n",
    "predictions = logmodel.predict(X_valid)\n",
    "\n",
    "print('\\n')\n",
    "print('\\n')\n",
    "mse = mean_squared_error (Y_valid,predictions)\n",
    "mae = mean_absolute_error(Y_valid,predictions)\n",
    "print('***Analysis of Logistic Reg _ Test_ Data***')\n",
    "print('\\n')\n",
    "print('MSE:',mse)\n",
    "print('\\n')\n",
    "print('MAE:',mae)\n",
    "print('\\n')\n",
    "print(confusion_matrix(Y_valid,predictions))\n",
    "print('\\n')\n",
    "\n",
    "print(classification_report(Y_valid,predictions))"
   ]
  },
  {
   "cell_type": "code",
   "execution_count": 148,
   "metadata": {},
   "outputs": [],
   "source": [
    "from tabulate import tabulate\n",
    "\n",
    "# a= y predicted_data  b= y_data\n",
    "\n",
    "def conf_table(a,b):\n",
    "    cm = confusion_matrix(y_pred = a,y_true = b[:], labels=[0,1])\n",
    "    rows = np.array([[\"Actual Failures\"], [\"Actual Successfull\"]])\n",
    "    rows = np.concatenate((rows,cm), axis=1)\n",
    "    headers = [\"No. of Samples\", \"Predicted Failure\", \"Predicted Successfull\"]\n",
    "    table = tabulate(rows,headers, tablefmt=\"grid\")\n",
    "\n",
    "    return print(table)\n",
    "\n"
   ]
  },
  {
   "cell_type": "code",
   "execution_count": 153,
   "metadata": {},
   "outputs": [
    {
     "name": "stdout",
     "output_type": "stream",
     "text": [
      "\n",
      "\n",
      "------------------------------------------------\n",
      "***Analysis of Logistic Reg _ Train_ Data***\n",
      "------------------------------------------------\n",
      "\n",
      "\n",
      "+--------------------+---------------------+-------------------------+\n",
      "| No. of Samples     |   Predicted Failure |   Predicted Successfull |\n",
      "+====================+=====================+=========================+\n",
      "| Actual Failures    |               35785 |                      21 |\n",
      "+--------------------+---------------------+-------------------------+\n",
      "| Actual Successfull |                8772 |                      66 |\n",
      "+--------------------+---------------------+-------------------------+\n",
      "\n",
      "\n",
      "              precision    recall  f1-score   support\n",
      "\n",
      "           0       0.80      1.00      0.89     35806\n",
      "           1       0.76      0.01      0.01      8838\n",
      "\n",
      "    accuracy                           0.80     44644\n",
      "   macro avg       0.78      0.50      0.45     44644\n",
      "weighted avg       0.79      0.80      0.72     44644\n",
      "\n",
      "------------------------------------------------\n",
      "***Analysis of Logistic Reg _ Test_ Data***\n",
      "------------------------------------------------\n",
      "\n",
      "\n",
      "+--------------------+---------------------+-------------------------+\n",
      "| No. of Samples     |   Predicted Failure |   Predicted Successfull |\n",
      "+====================+=====================+=========================+\n",
      "| Actual Failures    |                8834 |                       4 |\n",
      "+--------------------+---------------------+-------------------------+\n",
      "| Actual Successfull |                2308 |                      15 |\n",
      "+--------------------+---------------------+-------------------------+\n",
      "\n",
      "\n",
      "              precision    recall  f1-score   support\n",
      "\n",
      "           0       0.79      1.00      0.88      8838\n",
      "           1       0.79      0.01      0.01      2323\n",
      "\n",
      "    accuracy                           0.79     11161\n",
      "   macro avg       0.79      0.50      0.45     11161\n",
      "weighted avg       0.79      0.79      0.70     11161\n",
      "\n",
      "------------------------------------------------\n",
      "***Analysis of Random Forest _ Holding_ Data***\n",
      "------------------------------------------------\n",
      "\n",
      "\n",
      "+--------------------+---------------------+-------------------------+\n",
      "| No. of Samples     |   Predicted Failure |   Predicted Successfull |\n",
      "+====================+=====================+=========================+\n",
      "| Actual Failures    |                1565 |                       4 |\n",
      "+--------------------+---------------------+-------------------------+\n",
      "| Actual Successfull |                 194 |                       2 |\n",
      "+--------------------+---------------------+-------------------------+\n",
      "\n",
      "\n",
      "              precision    recall  f1-score   support\n",
      "\n",
      "           0       0.89      1.00      0.94      1569\n",
      "           1       0.33      0.01      0.02       196\n",
      "\n",
      "    accuracy                           0.89      1765\n",
      "   macro avg       0.61      0.50      0.48      1765\n",
      "weighted avg       0.83      0.89      0.84      1765\n",
      "\n",
      "\n",
      "\n"
     ]
    }
   ],
   "source": [
    "LR_pred_test = logmodel.predict(X_test)\n",
    "LR_pred_train = logmodel.predict(X_train)\n",
    "LR_pred_hold = logmodel.predict(X_valid)\n",
    "print('\\n')\n",
    "print('------------------------------------------------')\n",
    "print('***Analysis of Logistic Reg _ Train_ Data***')\n",
    "print('------------------------------------------------')\n",
    "print('\\n')\n",
    "conf_table(LR_pred_train,y_train)\n",
    "print('\\n')\n",
    "print(classification_report(y_train,LR_pred_train))\n",
    "print('------------------------------------------------')\n",
    "print('***Analysis of Logistic Reg _ Test_ Data***')\n",
    "print('------------------------------------------------')\n",
    "print('\\n')\n",
    "conf_table(LR_pred_test,y_test)\n",
    "print('\\n')\n",
    "print(classification_report(y_test,LR_pred_test))\n",
    "print('------------------------------------------------')\n",
    "print('***Analysis of Random Forest _ Holding_ Data***')\n",
    "print('------------------------------------------------')\n",
    "print('\\n')\n",
    "conf_table(LR_pred_hold,Y_valid)\n",
    "print('\\n')\n",
    "print(classification_report(Y_valid,LR_pred_hold))\n",
    "print('\\n')"
   ]
  },
  {
   "cell_type": "code",
   "execution_count": 101,
   "metadata": {},
   "outputs": [
    {
     "data": {
      "text/plain": [
       "Text(0, 0.5, 'mean_test_score')"
      ]
     },
     "execution_count": 101,
     "metadata": {},
     "output_type": "execute_result"
    },
    {
     "data": {
      "image/png": "[encoded data removed]",
      "text/plain": [
       "<Figure size 720x432 with 1 Axes>"
      ]
     },
     "metadata": {
      "needs_background": "light"
     },
     "output_type": "display_data"
    }
   ],
   "source": [
    "LR_result = pd.DataFrame(clf.cv_results_)\n",
    "\n",
    "error_dtrate=1-(LR_result['mean_test_score'])\n",
    "\n",
    "plt.figure(figsize=(10,6))\n",
    "plt.plot(LR_result['param_C'],error_dtrate)\n",
    "plt.title('mean_test_score vs.  C para')\n",
    "plt.xlabel('C')\n",
    "plt.ylabel('mean_test_score')"
   ]
  },
  {
   "cell_type": "code",
   "execution_count": 102,
   "metadata": {},
   "outputs": [
    {
     "name": "stdout",
     "output_type": "stream",
     "text": [
      "Fitting 5 folds for each of 500 candidates, totalling 2500 fits\n"
     ]
    },
    {
     "name": "stderr",
     "output_type": "stream",
     "text": [
      "[Parallel(n_jobs=4)]: Using backend LokyBackend with 4 concurrent workers.\n",
      "[Parallel(n_jobs=4)]: Done  24 tasks      | elapsed:    5.3s\n",
      "[Parallel(n_jobs=4)]: Done 120 tasks      | elapsed:   37.9s\n",
      "[Parallel(n_jobs=4)]: Done 280 tasks      | elapsed:  2.9min\n",
      "[Parallel(n_jobs=4)]: Done 504 tasks      | elapsed:  8.7min\n",
      "[Parallel(n_jobs=4)]: Done 792 tasks      | elapsed: 20.0min\n",
      "[Parallel(n_jobs=4)]: Done 1144 tasks      | elapsed: 38.7min\n",
      "[Parallel(n_jobs=4)]: Done 1560 tasks      | elapsed: 69.7min\n",
      "[Parallel(n_jobs=4)]: Done 2040 tasks      | elapsed: 115.4min\n",
      "[Parallel(n_jobs=4)]: Done 2500 out of 2500 | elapsed: 172.1min finished\n"
     ]
    },
    {
     "name": "stdout",
     "output_type": "stream",
     "text": [
      "\n",
      "\n",
      "{'n_estimators': 267}\n",
      "\n",
      "\n",
      "***Results of RF***\n",
      "\n",
      "\n",
      "Score_Model_train:    0.79475405429621\n",
      "\n",
      "\n",
      "Score_Model_test:    0.7829047576382044\n",
      "\n",
      "\n",
      "Score_Model_All_Main:    0.7923841949646089\n",
      "\n",
      "\n",
      "Score_Validation:    0.9875354107648725\n",
      "\n",
      "\n",
      "\n",
      "\n",
      "***Analysis of RF _ Test_ Data***\n",
      "\n",
      "\n",
      "MSE: 0.012464589235127478\n",
      "\n",
      "\n",
      "MAE: 0.012464589235127478\n",
      "\n",
      "\n",
      "[[1568    1]\n",
      " [  21  175]]\n",
      "\n",
      "\n",
      "              precision    recall  f1-score   support\n",
      "\n",
      "           0       0.99      1.00      0.99      1569\n",
      "           1       0.99      0.89      0.94       196\n",
      "\n",
      "    accuracy                           0.99      1765\n",
      "   macro avg       0.99      0.95      0.97      1765\n",
      "weighted avg       0.99      0.99      0.99      1765\n",
      "\n"
     ]
    }
   ],
   "source": [
    "# Random Forest Analysis\n",
    "\n",
    "from sklearn.ensemble import RandomForestClassifier\n",
    "rfc = RandomForestClassifier()\n",
    "\n",
    "Parameter_grid_RF = [{'n_estimators': np.arange(0,500,1) }]\n",
    "\n",
    "#np.linspace(20000,1000,20)\n",
    "\n",
    "clf_RF = GridSearchCV(rfc, Parameter_grid_RF,cv=5,verbose=3,n_jobs=4)\n",
    "\n",
    "Best_Clf_RF = clf_RF.fit(X_train,y_train)\n",
    "\n",
    "###########_______________________________________________________________________________________________________________\n",
    "print('\\n')\n",
    "print(Best_Clf_RF.best_params_)\n",
    "print('\\n')\n",
    "rfc = Best_Clf_RF.best_estimator_\n",
    "\n",
    "rfc.fit(X_train,y_train)\n",
    "#lm.fit(X_train,y_train)\n",
    "\n",
    "rfc.fit(X_test,y_test)\n",
    "\n",
    "rfc.fit(X_main_S,Y_main_S)\n",
    "\n",
    "rfc.fit(X_valid,Y_valid)\n",
    "\n",
    "print('***Results of RF***')\n",
    "print('\\n')\n",
    "print('Score_Model_train:   ',rfc.score(X_train,y_train))\n",
    "print('\\n')\n",
    "print('Score_Model_test:   ',rfc.score(X_test,y_test))\n",
    "print('\\n')\n",
    "print('Score_Model_All_Main:   ',rfc.score(X_main_S,Y_main_S))\n",
    "print('\\n')\n",
    "print('Score_Validation:   ',rfc.score(X_valid,Y_valid))\n",
    "#logmodel.score(X_test,y_test)\n",
    "\n",
    "RF_predictions = rfc.predict(X_valid)\n",
    "\n",
    "print('\\n')\n",
    "print('\\n')\n",
    "mse = mean_squared_error (Y_valid,RF_predictions)\n",
    "mae = mean_absolute_error(Y_valid,RF_predictions)\n",
    "print('***Analysis of RF _ Test_ Data***')\n",
    "print('\\n')\n",
    "print('MSE:',mse)\n",
    "print('\\n')\n",
    "print('MAE:',mae)\n",
    "print('\\n')\n",
    "print(confusion_matrix(Y_valid,RF_predictions))\n",
    "print('\\n')\n",
    "\n",
    "print(classification_report(Y_valid,RF_predictions))\n"
   ]
  },
  {
   "cell_type": "code",
   "execution_count": 152,
   "metadata": {},
   "outputs": [
    {
     "name": "stdout",
     "output_type": "stream",
     "text": [
      "\n",
      "\n",
      "------------------------------------------------\n",
      "***Analysis of Random Forest  _ Train_ Data***\n",
      "------------------------------------------------\n",
      "\n",
      "\n",
      "+--------------------+---------------------+-------------------------+\n",
      "| No. of Samples     |   Predicted Failure |   Predicted Successfull |\n",
      "+====================+=====================+=========================+\n",
      "| Actual Failures    |               35204 |                     602 |\n",
      "+--------------------+---------------------+-------------------------+\n",
      "| Actual Successfull |                8561 |                     277 |\n",
      "+--------------------+---------------------+-------------------------+\n",
      "\n",
      "\n",
      "              precision    recall  f1-score   support\n",
      "\n",
      "           0       0.80      0.98      0.88     35806\n",
      "           1       0.32      0.03      0.06      8838\n",
      "\n",
      "    accuracy                           0.79     44644\n",
      "   macro avg       0.56      0.51      0.47     44644\n",
      "weighted avg       0.71      0.79      0.72     44644\n",
      "\n",
      "------------------------------------------------\n",
      "***Analysis of Random Forest _ Test_ Data***\n",
      "------------------------------------------------\n",
      "\n",
      "\n",
      "+--------------------+---------------------+-------------------------+\n",
      "| No. of Samples     |   Predicted Failure |   Predicted Successfull |\n",
      "+====================+=====================+=========================+\n",
      "| Actual Failures    |                8672 |                     166 |\n",
      "+--------------------+---------------------+-------------------------+\n",
      "| Actual Successfull |                2257 |                      66 |\n",
      "+--------------------+---------------------+-------------------------+\n",
      "\n",
      "\n",
      "              precision    recall  f1-score   support\n",
      "\n",
      "           0       0.79      0.98      0.88      8838\n",
      "           1       0.28      0.03      0.05      2323\n",
      "\n",
      "    accuracy                           0.78     11161\n",
      "   macro avg       0.54      0.50      0.46     11161\n",
      "weighted avg       0.69      0.78      0.71     11161\n",
      "\n",
      "------------------------------------------------\n",
      "***Analysis of Random Forest _ Holding_ Data***\n",
      "------------------------------------------------\n",
      "\n",
      "\n",
      "+--------------------+---------------------+-------------------------+\n",
      "| No. of Samples     |   Predicted Failure |   Predicted Successfull |\n",
      "+====================+=====================+=========================+\n",
      "| Actual Failures    |                1568 |                       1 |\n",
      "+--------------------+---------------------+-------------------------+\n",
      "| Actual Successfull |                  21 |                     175 |\n",
      "+--------------------+---------------------+-------------------------+\n",
      "\n",
      "\n",
      "              precision    recall  f1-score   support\n",
      "\n",
      "           0       0.99      1.00      0.99      1569\n",
      "           1       0.99      0.89      0.94       196\n",
      "\n",
      "    accuracy                           0.99      1765\n",
      "   macro avg       0.99      0.95      0.97      1765\n",
      "weighted avg       0.99      0.99      0.99      1765\n",
      "\n",
      "\n",
      "\n"
     ]
    }
   ],
   "source": [
    "RF_pred_test = rfc.predict(X_test)\n",
    "RF_pred_train = rfc.predict(X_train)\n",
    "RF_pred_hold = rfc.predict(X_valid)\n",
    "print('\\n')\n",
    "print('------------------------------------------------')\n",
    "print('***Analysis of Random Forest  _ Train_ Data***')\n",
    "print('------------------------------------------------')\n",
    "print('\\n')\n",
    "conf_table(RF_pred_train,y_train)\n",
    "print('\\n')\n",
    "print(classification_report(y_train,RF_pred_train))\n",
    "print('------------------------------------------------')\n",
    "print('***Analysis of Random Forest _ Test_ Data***')\n",
    "print('------------------------------------------------')\n",
    "print('\\n')\n",
    "conf_table(RF_pred_test,y_test)\n",
    "print('\\n')\n",
    "print(classification_report(y_test,RF_pred_test))\n",
    "print('------------------------------------------------')\n",
    "print('***Analysis of Random Forest _ Holding_ Data***')\n",
    "print('------------------------------------------------')\n",
    "print('\\n')\n",
    "conf_table(RF_pred_hold,Y_valid)\n",
    "print('\\n')\n",
    "print(classification_report(Y_valid,RF_pred_hold))\n",
    "print('\\n')"
   ]
  },
  {
   "cell_type": "code",
   "execution_count": 104,
   "metadata": {},
   "outputs": [
    {
     "data": {
      "text/plain": [
       "<matplotlib.axes._subplots.AxesSubplot at 0x21a8c264048>"
      ]
     },
     "execution_count": 104,
     "metadata": {},
     "output_type": "execute_result"
    },
    {
     "data": {
      "image/png": "[encoded data removed]",
      "text/plain": [
       "<Figure size 864x1728 with 1 Axes>"
      ]
     },
     "metadata": {
      "needs_background": "light"
     },
     "output_type": "display_data"
    }
   ],
   "source": [
    "plt.figure(figsize=(12,24))\n",
    "sns.barplot(sorted(rfc.feature_importances_),X_valid.columns)"
   ]
  },
  {
   "cell_type": "code",
   "execution_count": 126,
   "metadata": {},
   "outputs": [
    {
     "data": {
      "text/plain": [
       "Text(0, 0.5, 'Error Rate')"
      ]
     },
     "execution_count": 126,
     "metadata": {},
     "output_type": "execute_result"
    },
    {
     "data": {
      "image/png": "[encoded data removed]",
      "text/plain": [
       "<Figure size 720x432 with 1 Axes>"
      ]
     },
     "metadata": {
      "needs_background": "light"
     },
     "output_type": "display_data"
    }
   ],
   "source": [
    "rfc_results = pd.DataFrame(clf_RF.cv_results_)\n",
    "\n",
    "error_dtrate=1-(rfc_results['mean_test_score'])\n",
    "\n",
    "plt.figure(figsize=(10,6))\n",
    "plt.plot(rfc_results['param_n_estimators'],error_dtrate,color='blue', linestyle='dashed', marker='o',\n",
    "         markerfacecolor='red', markersize=10)\n",
    "plt.title('RF: Error Rate vs N_estimator')\n",
    "plt.xlabel(' N_estimators')\n",
    "plt.ylabel('Error Rate')"
   ]
  },
  {
   "cell_type": "code",
   "execution_count": 164,
   "metadata": {},
   "outputs": [
    {
     "name": "stdout",
     "output_type": "stream",
     "text": [
      "Fitting 3 folds for each of 10 candidates, totalling 30 fits\n"
     ]
    },
    {
     "name": "stderr",
     "output_type": "stream",
     "text": [
      "[Parallel(n_jobs=4)]: Using backend LokyBackend with 4 concurrent workers.\n",
      "[Parallel(n_jobs=4)]: Done  30 out of  30 | elapsed: 28.6min finished\n"
     ]
    },
    {
     "name": "stdout",
     "output_type": "stream",
     "text": [
      "\n",
      "\n",
      "{'C': 1, 'kernel': 'rbf'}\n",
      "\n",
      "\n",
      "***Results of SVM***\n",
      "\n",
      "\n",
      "Score_Model_train:    0.8020786667861303\n",
      "\n",
      "\n",
      "Score_Model_test:    0.7918645282680763\n",
      "\n",
      "\n",
      "Score_Model_All_Main:    0.8000358390825195\n",
      "\n",
      "\n",
      "Score_Validation:    0.8923512747875354\n",
      "\n",
      "\n",
      "\n",
      "\n",
      "***Analysis of SVM _ Test_ Data***\n",
      "\n",
      "\n",
      "MSE: 0.10764872521246459\n",
      "\n",
      "\n",
      "MAE: 0.10764872521246459\n",
      "\n",
      "\n",
      "[[1569    0]\n",
      " [ 190    6]]\n",
      "\n",
      "\n",
      "              precision    recall  f1-score   support\n",
      "\n",
      "           0       0.89      1.00      0.94      1569\n",
      "           1       1.00      0.03      0.06       196\n",
      "\n",
      "    accuracy                           0.89      1765\n",
      "   macro avg       0.95      0.52      0.50      1765\n",
      "weighted avg       0.90      0.89      0.84      1765\n",
      "\n"
     ]
    }
   ],
   "source": [
    "# SVM Analysis\n",
    "model_svc = SVC(kernel='rbf',C=30,gamma='auto')\n",
    "\n",
    "Parameter_SVM  =  {\n",
    "    'C': np.arange(0,10,1),\n",
    "    'kernel': ['rbf']\n",
    "    #['rbf','linear']\n",
    "}\n",
    "\n",
    "clf_SVM = GridSearchCV(model_svc, Parameter_SVM,cv=3,verbose=3,n_jobs=4)\n",
    "\n",
    "Best_Clf_SVM = clf_SVM.fit(X_train,y_train)\n",
    "\n",
    "###########_______________________________________________________________________________________________________________\n",
    "print('\\n')\n",
    "print(Best_Clf_SVM.best_params_)\n",
    "print('\\n')\n",
    "model_svc = Best_Clf_SVM.best_estimator_\n",
    "#SVC(kernel='rbf',C=1,gamma='auto')\n",
    "\n",
    "#Best_Clf_SVM.best_estimator_\n",
    "\n",
    "model_svc.fit(X_train,y_train)\n",
    "#lm.fit(X_train,y_train)\n",
    "\n",
    "model_svc.fit(X_test,y_test)\n",
    "\n",
    "model_svc.fit(X_main_S,Y_main_S)\n",
    "\n",
    "model_svc.fit(X_valid,Y_valid)\n",
    "\n",
    "print('***Results of SVM***')\n",
    "print('\\n')\n",
    "print('Score_Model_train:   ',model_svc.score(X_train,y_train))\n",
    "print('\\n')\n",
    "print('Score_Model_test:   ',model_svc.score(X_test,y_test))\n",
    "print('\\n')\n",
    "print('Score_Model_All_Main:   ',model_svc.score(X_main_S,Y_main_S))\n",
    "print('\\n')\n",
    "print('Score_Validation:   ',model_svc.score(X_valid,Y_valid))\n",
    "#logmodel.score(X_test,y_test)\n",
    "\n",
    "SVM_predictions = model_svc.predict(X_valid)\n",
    "\n",
    "print('\\n')\n",
    "print('\\n')\n",
    "mse = mean_squared_error (Y_valid,SVM_predictions)\n",
    "mae = mean_absolute_error(Y_valid,SVM_predictions)\n",
    "print('***Analysis of SVM _ Test_ Data***')\n",
    "print('\\n')\n",
    "print('MSE:',mse)\n",
    "print('\\n')\n",
    "print('MAE:',mae)\n",
    "print('\\n')\n",
    "print(confusion_matrix(Y_valid,SVM_predictions))\n",
    "print('\\n')\n",
    "\n",
    "print(classification_report(Y_valid,SVM_predictions))\n",
    "\n"
   ]
  },
  {
   "cell_type": "code",
   "execution_count": 165,
   "metadata": {},
   "outputs": [
    {
     "name": "stdout",
     "output_type": "stream",
     "text": [
      "\n",
      "\n",
      "------------------------------------------------\n",
      "***Analysis of SVM  _ Train_ Data***\n",
      "------------------------------------------------\n",
      "\n",
      "\n",
      "+--------------------+---------------------+-------------------------+\n",
      "| No. of Samples     |   Predicted Failure |   Predicted Successfull |\n",
      "+====================+=====================+=========================+\n",
      "| Actual Failures    |               35801 |                       5 |\n",
      "+--------------------+---------------------+-------------------------+\n",
      "| Actual Successfull |                8831 |                       7 |\n",
      "+--------------------+---------------------+-------------------------+\n",
      "\n",
      "\n",
      "              precision    recall  f1-score   support\n",
      "\n",
      "           0       0.80      1.00      0.89     35806\n",
      "           1       0.58      0.00      0.00      8838\n",
      "\n",
      "    accuracy                           0.80     44644\n",
      "   macro avg       0.69      0.50      0.45     44644\n",
      "weighted avg       0.76      0.80      0.71     44644\n",
      "\n",
      "------------------------------------------------\n",
      "***Analysis of SVM _ Test_ Data***\n",
      "------------------------------------------------\n",
      "\n",
      "\n",
      "+--------------------+---------------------+-------------------------+\n",
      "| No. of Samples     |   Predicted Failure |   Predicted Successfull |\n",
      "+====================+=====================+=========================+\n",
      "| Actual Failures    |                8838 |                       0 |\n",
      "+--------------------+---------------------+-------------------------+\n",
      "| Actual Successfull |                2323 |                       0 |\n",
      "+--------------------+---------------------+-------------------------+\n",
      "\n",
      "\n",
      "              precision    recall  f1-score   support\n",
      "\n",
      "           0       0.79      1.00      0.88      8838\n",
      "           1       0.00      0.00      0.00      2323\n",
      "\n",
      "    accuracy                           0.79     11161\n",
      "   macro avg       0.40      0.50      0.44     11161\n",
      "weighted avg       0.63      0.79      0.70     11161\n",
      "\n",
      "------------------------------------------------\n",
      "***Analysis of SVM _ Holding_ Data***\n",
      "------------------------------------------------\n",
      "\n",
      "\n",
      "+--------------------+---------------------+-------------------------+\n",
      "| No. of Samples     |   Predicted Failure |   Predicted Successfull |\n",
      "+====================+=====================+=========================+\n",
      "| Actual Failures    |                1569 |                       0 |\n",
      "+--------------------+---------------------+-------------------------+\n",
      "| Actual Successfull |                 190 |                       6 |\n",
      "+--------------------+---------------------+-------------------------+\n",
      "\n",
      "\n",
      "              precision    recall  f1-score   support\n",
      "\n",
      "           0       0.89      1.00      0.94      1569\n",
      "           1       1.00      0.03      0.06       196\n",
      "\n",
      "    accuracy                           0.89      1765\n",
      "   macro avg       0.95      0.52      0.50      1765\n",
      "weighted avg       0.90      0.89      0.84      1765\n",
      "\n",
      "\n",
      "\n"
     ]
    },
    {
     "name": "stderr",
     "output_type": "stream",
     "text": [
      "C:\\Users\\suraj\\anaconda3\\lib\\site-packages\\sklearn\\metrics\\_classification.py:1272: UndefinedMetricWarning:\n",
      "\n",
      "Precision and F-score are ill-defined and being set to 0.0 in labels with no predicted samples. Use `zero_division` parameter to control this behavior.\n",
      "\n"
     ]
    }
   ],
   "source": [
    "SVC_pred_test = model_svc.predict(X_test)\n",
    "SVC_pred_train = model_svc.predict(X_train)\n",
    "SVC_pred_hold = model_svc.predict(X_valid)\n",
    "print('\\n')\n",
    "print('------------------------------------------------')\n",
    "print('***Analysis of SVM  _ Train_ Data***')\n",
    "print('------------------------------------------------')\n",
    "print('\\n')\n",
    "conf_table(SVC_pred_train,y_train)\n",
    "print('\\n')\n",
    "print(classification_report(y_train,SVC_pred_train))\n",
    "print('------------------------------------------------')\n",
    "print('***Analysis of SVM _ Test_ Data***')\n",
    "print('------------------------------------------------')\n",
    "print('\\n')\n",
    "conf_table(SVC_pred_test,y_test)\n",
    "print('\\n')\n",
    "print(classification_report(y_test,SVC_pred_test))\n",
    "print('------------------------------------------------')\n",
    "print('***Analysis of SVM _ Holding_ Data***')\n",
    "print('------------------------------------------------')\n",
    "print('\\n')\n",
    "conf_table(SVC_pred_hold,Y_valid)\n",
    "print('\\n')\n",
    "print(classification_report(Y_valid,SVC_pred_hold))\n",
    "print('\\n')"
   ]
  },
  {
   "cell_type": "code",
   "execution_count": 166,
   "metadata": {},
   "outputs": [
    {
     "data": {
      "text/plain": [
       "Text(0, 0.5, 'Error Rate')"
      ]
     },
     "execution_count": 166,
     "metadata": {},
     "output_type": "execute_result"
    },
    {
     "data": {
      "image/png": "[encoded data removed]",
      "text/plain": [
       "<Figure size 720x432 with 1 Axes>"
      ]
     },
     "metadata": {
      "needs_background": "light"
     },
     "output_type": "display_data"
    }
   ],
   "source": [
    "SVM_results = pd.DataFrame(clf_SVM.cv_results_)\n",
    "#Dt_re_err=DT_results[DT_results['param_criterion']=='entropy']\n",
    "error_dtrate=1-(SVM_results['mean_test_score'])\n",
    "\n",
    "plt.figure(figsize=(10,6))\n",
    "plt.plot(SVM_results['param_C'],error_dtrate,color='blue', linestyle='dashed', marker='o',\n",
    "         markerfacecolor='red', markersize=10)\n",
    "plt.title('SVM:Error Rate vs. C Value')\n",
    "plt.xlabel('C_Value')\n",
    "plt.ylabel('Error Rate')"
   ]
  },
  {
   "cell_type": "code",
   "execution_count": 116,
   "metadata": {
    "scrolled": true
   },
   "outputs": [
    {
     "name": "stdout",
     "output_type": "stream",
     "text": [
      "Fitting 5 folds for each of 49 candidates, totalling 245 fits\n"
     ]
    },
    {
     "name": "stderr",
     "output_type": "stream",
     "text": [
      "[Parallel(n_jobs=4)]: Using backend LokyBackend with 4 concurrent workers.\n",
      "[Parallel(n_jobs=4)]: Done  24 tasks      | elapsed:   57.8s\n",
      "[Parallel(n_jobs=4)]: Done 120 tasks      | elapsed:  4.6min\n",
      "[Parallel(n_jobs=4)]: Done 245 out of 245 | elapsed:  9.5min finished\n"
     ]
    },
    {
     "name": "stdout",
     "output_type": "stream",
     "text": [
      "\n",
      "\n",
      "{'n_neighbors': 42}\n",
      "\n",
      "\n",
      "***Results of KNN***\n",
      "\n",
      "\n",
      "Score_Model_train:    0.8020338679329809\n",
      "\n",
      "\n",
      "Score_Model_test:    0.7918645282680763\n",
      "\n",
      "\n",
      "Score_Model_All_Main:    0.8\n",
      "\n",
      "\n",
      "Score_Validation:    0.8889518413597733\n",
      "\n",
      "\n",
      "\n",
      "\n",
      "***Analysis of KNN _ Test_ Data***\n",
      "\n",
      "\n",
      "MSE: 0.11104815864022663\n",
      "\n",
      "\n",
      "MAE: 0.11104815864022663\n",
      "\n",
      "\n",
      "[[1569    0]\n",
      " [ 196    0]]\n",
      "\n",
      "\n",
      "              precision    recall  f1-score   support\n",
      "\n",
      "           0       0.89      1.00      0.94      1569\n",
      "           1       0.00      0.00      0.00       196\n",
      "\n",
      "    accuracy                           0.89      1765\n",
      "   macro avg       0.44      0.50      0.47      1765\n",
      "weighted avg       0.79      0.89      0.84      1765\n",
      "\n"
     ]
    },
    {
     "name": "stderr",
     "output_type": "stream",
     "text": [
      "C:\\Users\\suraj\\anaconda3\\lib\\site-packages\\sklearn\\metrics\\_classification.py:1272: UndefinedMetricWarning:\n",
      "\n",
      "Precision and F-score are ill-defined and being set to 0.0 in labels with no predicted samples. Use `zero_division` parameter to control this behavior.\n",
      "\n"
     ]
    }
   ],
   "source": [
    "#KNN  Analysis\n",
    "\n",
    "from sklearn.neighbors import KNeighborsClassifier\n",
    "\n",
    "knn = KNeighborsClassifier()\n",
    "\n",
    "Parameter_knn  =  {\n",
    "    'n_neighbors': np.arange(1,50,1),\n",
    "}\n",
    "\n",
    "clf_knn = GridSearchCV(knn, Parameter_knn,cv=5,verbose=3,n_jobs=4)\n",
    "\n",
    "Best_Clf_knn = clf_knn.fit(X_train,y_train)\n",
    "\n",
    "print('\\n')\n",
    "print(Best_Clf_knn.best_params_)\n",
    "print('\\n')\n",
    "knn = Best_Clf_knn.best_estimator_\n",
    "\n",
    "knn.fit(X_train,y_train)\n",
    "#lm.fit(X_train,y_train)\n",
    "\n",
    "knn.fit(X_test,y_test)\n",
    "\n",
    "knn.fit(X_main_S,Y_main_S)\n",
    "\n",
    "knn.fit(X_valid,Y_valid)\n",
    "\n",
    "print('***Results of KNN***')\n",
    "print('\\n')\n",
    "print('Score_Model_train:   ',knn.score(X_train,y_train))\n",
    "print('\\n')\n",
    "print('Score_Model_test:   ',knn.score(X_test,y_test))\n",
    "print('\\n')\n",
    "print('Score_Model_All_Main:   ',knn.score(X_main_S,Y_main_S))\n",
    "print('\\n')\n",
    "print('Score_Validation:   ',knn.score(X_valid,Y_valid))\n",
    "#logmodel.score(X_test,y_test)\n",
    "\n",
    "K_predictions = knn.predict(X_valid)\n",
    "\n",
    "print('\\n')\n",
    "print('\\n')\n",
    "mse = mean_squared_error (Y_valid,K_predictions)\n",
    "mae = mean_absolute_error(Y_valid,K_predictions)\n",
    "print('***Analysis of KNN _ Test_ Data***')\n",
    "print('\\n')\n",
    "print('MSE:',mse)\n",
    "print('\\n')\n",
    "print('MAE:',mae)\n",
    "print('\\n')\n",
    "print(confusion_matrix(Y_valid,K_predictions))\n",
    "print('\\n')\n",
    "\n",
    "print(classification_report(Y_valid,K_predictions))\n",
    "\n"
   ]
  },
  {
   "cell_type": "code",
   "execution_count": 156,
   "metadata": {},
   "outputs": [
    {
     "name": "stdout",
     "output_type": "stream",
     "text": [
      "\n",
      "\n",
      "------------------------------------------------\n",
      "***Analysis of KNN  _ Train_ Data***\n",
      "------------------------------------------------\n",
      "\n",
      "\n",
      "+--------------------+---------------------+-------------------------+\n",
      "| No. of Samples     |   Predicted Failure |   Predicted Successfull |\n",
      "+====================+=====================+=========================+\n",
      "| Actual Failures    |               35806 |                       0 |\n",
      "+--------------------+---------------------+-------------------------+\n",
      "| Actual Successfull |                8838 |                       0 |\n",
      "+--------------------+---------------------+-------------------------+\n",
      "\n",
      "\n",
      "              precision    recall  f1-score   support\n",
      "\n",
      "           0       0.80      1.00      0.89     35806\n",
      "           1       0.00      0.00      0.00      8838\n",
      "\n",
      "    accuracy                           0.80     44644\n",
      "   macro avg       0.40      0.50      0.45     44644\n",
      "weighted avg       0.64      0.80      0.71     44644\n",
      "\n",
      "------------------------------------------------\n",
      "***Analysis of KNN _ Test_ Data***\n",
      "------------------------------------------------\n",
      "\n",
      "\n",
      "+--------------------+---------------------+-------------------------+\n",
      "| No. of Samples     |   Predicted Failure |   Predicted Successfull |\n",
      "+====================+=====================+=========================+\n",
      "| Actual Failures    |                8838 |                       0 |\n",
      "+--------------------+---------------------+-------------------------+\n",
      "| Actual Successfull |                2323 |                       0 |\n",
      "+--------------------+---------------------+-------------------------+\n",
      "\n",
      "\n",
      "              precision    recall  f1-score   support\n",
      "\n",
      "           0       0.79      1.00      0.88      8838\n",
      "           1       0.00      0.00      0.00      2323\n",
      "\n",
      "    accuracy                           0.79     11161\n",
      "   macro avg       0.40      0.50      0.44     11161\n",
      "weighted avg       0.63      0.79      0.70     11161\n",
      "\n",
      "------------------------------------------------\n",
      "***Analysis of KNN _ Holding_ Data***\n",
      "------------------------------------------------\n",
      "\n",
      "\n",
      "+--------------------+---------------------+-------------------------+\n",
      "| No. of Samples     |   Predicted Failure |   Predicted Successfull |\n",
      "+====================+=====================+=========================+\n",
      "| Actual Failures    |                1569 |                       0 |\n",
      "+--------------------+---------------------+-------------------------+\n",
      "| Actual Successfull |                 196 |                       0 |\n",
      "+--------------------+---------------------+-------------------------+\n",
      "\n",
      "\n",
      "              precision    recall  f1-score   support\n",
      "\n",
      "           0       0.89      1.00      0.94      1569\n",
      "           1       0.00      0.00      0.00       196\n",
      "\n",
      "    accuracy                           0.89      1765\n",
      "   macro avg       0.44      0.50      0.47      1765\n",
      "weighted avg       0.79      0.89      0.84      1765\n",
      "\n",
      "\n",
      "\n"
     ]
    },
    {
     "name": "stderr",
     "output_type": "stream",
     "text": [
      "C:\\Users\\suraj\\anaconda3\\lib\\site-packages\\sklearn\\metrics\\_classification.py:1272: UndefinedMetricWarning:\n",
      "\n",
      "Precision and F-score are ill-defined and being set to 0.0 in labels with no predicted samples. Use `zero_division` parameter to control this behavior.\n",
      "\n"
     ]
    }
   ],
   "source": [
    "knn_pred_test = knn.predict(X_test)\n",
    "knn_pred_train = knn.predict(X_train)\n",
    "knn_pred_hold = knn.predict(X_valid)\n",
    "print('\\n')\n",
    "print('------------------------------------------------')\n",
    "print('***Analysis of KNN  _ Train_ Data***')\n",
    "print('------------------------------------------------')\n",
    "print('\\n')\n",
    "conf_table(knn_pred_train,y_train)\n",
    "print('\\n')\n",
    "print(classification_report(y_train,knn_pred_train))\n",
    "print('------------------------------------------------')\n",
    "print('***Analysis of KNN _ Test_ Data***')\n",
    "print('------------------------------------------------')\n",
    "print('\\n')\n",
    "conf_table(knn_pred_test,y_test)\n",
    "print('\\n')\n",
    "print(classification_report(y_test,knn_pred_test))\n",
    "print('------------------------------------------------')\n",
    "print('***Analysis of KNN _ Holding_ Data***')\n",
    "print('------------------------------------------------')\n",
    "print('\\n')\n",
    "conf_table(knn_pred_hold,Y_valid)\n",
    "print('\\n')\n",
    "print(classification_report(Y_valid,knn_pred_hold))\n",
    "print('\\n')"
   ]
  },
  {
   "cell_type": "code",
   "execution_count": 155,
   "metadata": {},
   "outputs": [
    {
     "data": {
      "text/plain": [
       "Text(0, 0.5, 'Error Rate')"
      ]
     },
     "execution_count": 155,
     "metadata": {},
     "output_type": "execute_result"
    },
    {
     "data": {
      "image/png": "[encoded data removed]",
      "text/plain": [
       "<Figure size 720x432 with 1 Axes>"
      ]
     },
     "metadata": {
      "needs_background": "light"
     },
     "output_type": "display_data"
    }
   ],
   "source": [
    "# ERROR RATE VS VARYING PARAMETER PLOT\n",
    "results_knn=pd.DataFrame(clf_knn.cv_results_)\n",
    "\n",
    "error_rate = []\n",
    "yvalid = np.array(Y_valid)\n",
    "# Will take some time\n",
    "for i in range(1,50):\n",
    "    error_rate.append(np.mean(K_predictions[i] != yvalid[i]))\n",
    "    \n",
    "    \n",
    "error_r=1-(results_knn['mean_test_score'])\n",
    "plt.figure(figsize=(10,6))\n",
    "plt.plot(results_knn['param_n_neighbors'],error_r,color='blue', linestyle='dashed', marker='o',\n",
    "         markerfacecolor='red', markersize=10)\n",
    "plt.title('Error Rate vs. K Value')\n",
    "plt.xlabel('K')\n",
    "plt.ylabel('Error Rate')"
   ]
  },
  {
   "cell_type": "code",
   "execution_count": 122,
   "metadata": {},
   "outputs": [
    {
     "name": "stdout",
     "output_type": "stream",
     "text": [
      "Fitting 5 folds for each of 200 candidates, totalling 1000 fits\n"
     ]
    },
    {
     "name": "stderr",
     "output_type": "stream",
     "text": [
      "[Parallel(n_jobs=4)]: Using backend LokyBackend with 4 concurrent workers.\n",
      "[Parallel(n_jobs=4)]: Done  56 tasks      | elapsed:    1.5s\n",
      "[Parallel(n_jobs=4)]: Done 356 tasks      | elapsed:   19.1s\n",
      "[Parallel(n_jobs=4)]: Done 516 tasks      | elapsed:   29.0s\n",
      "[Parallel(n_jobs=4)]: Done 740 tasks      | elapsed:   42.5s\n"
     ]
    },
    {
     "name": "stdout",
     "output_type": "stream",
     "text": [
      "\n",
      "\n",
      "{'criterion': 'entropy', 'max_depth': 3}\n",
      "\n",
      "\n",
      "***Results of Descion Tree***\n",
      "\n",
      "\n",
      "Score_Model_train:    0.8023474599050264\n",
      "\n",
      "\n",
      "Score_Model_test:    0.7908789534987904\n",
      "\n",
      "\n",
      "Score_Model_All_Main:    0.8000537586237793\n",
      "\n",
      "\n",
      "Score_Validation:    0.8923512747875354\n",
      "\n",
      "\n",
      "\n",
      "\n",
      "***Analysis of Decision Tree _ Test_ Data***\n",
      "\n",
      "\n",
      "MSE: 0.20912104650120958\n",
      "\n",
      "\n",
      "MAE: 0.20912104650120958\n",
      "\n",
      "\n",
      "[[8775   63]\n",
      " [2271   52]]\n",
      "\n",
      "\n",
      "              precision    recall  f1-score   support\n",
      "\n",
      "           0       0.79      0.99      0.88      8838\n",
      "           1       0.45      0.02      0.04      2323\n",
      "\n",
      "    accuracy                           0.79     11161\n",
      "   macro avg       0.62      0.51      0.46     11161\n",
      "weighted avg       0.72      0.79      0.71     11161\n",
      "\n"
     ]
    },
    {
     "name": "stderr",
     "output_type": "stream",
     "text": [
      "[Parallel(n_jobs=4)]: Done 1000 out of 1000 | elapsed:   58.0s finished\n"
     ]
    }
   ],
   "source": [
    "#Decision tree Classifier \n",
    "\n",
    "from sklearn.tree import DecisionTreeClassifier\n",
    "\n",
    "dtree = DecisionTreeClassifier()\n",
    "\n",
    "Parameter_tree = {'criterion':['entropy'],'max_depth':np.arange(0,200,1)}\n",
    "\n",
    "clf_DT = GridSearchCV(dtree, Parameter_tree,cv=5,verbose=3,n_jobs=4)\n",
    "\n",
    "Best_Clf_tree = clf_DT.fit(X_train,y_train)\n",
    "\n",
    "print('\\n')\n",
    "print(Best_Clf_tree.best_params_)\n",
    "print('\\n')\n",
    "dtree = Best_Clf_tree.best_estimator_\n",
    "\n",
    "dtree.fit(X_train,y_train)\n",
    "#lm.fit(X_train,y_train)\n",
    "\n",
    "dtree.fit(X_test,y_test)\n",
    "\n",
    "dtree.fit(X_main_S,Y_main_S)\n",
    "\n",
    "dtree.fit(X_valid,Y_valid)\n",
    "\n",
    "print('***Results of Descion Tree***')\n",
    "print('\\n')\n",
    "print('Score_Model_train:   ',dtree.score(X_train,y_train))\n",
    "print('\\n')\n",
    "print('Score_Model_test:   ',dtree.score(X_test,y_test))\n",
    "print('\\n')\n",
    "print('Score_Model_All_Main:   ',dtree.score(X_main_S,Y_main_S))\n",
    "print('\\n')\n",
    "print('Score_Validation:   ',dtree.score(X_valid,Y_valid))\n",
    "#logmodel.score(X_test,y_test)\n",
    "\n",
    "DT_predictions = dtree.predict(X_test)\n",
    "\n",
    "print('\\n')\n",
    "print('\\n')\n",
    "mse = mean_squared_error (y_test,DT_predictions)\n",
    "mae = mean_absolute_error(y_test,DT_predictions)\n",
    "print('***Analysis of Decision Tree _ Test_ Data***')\n",
    "print('\\n')\n",
    "print('MSE:',mse)\n",
    "print('\\n')\n",
    "print('MAE:',mae)\n",
    "print('\\n')\n",
    "print(confusion_matrix(y_test,DT_predictions))\n",
    "print('\\n')\n",
    "\n",
    "print(classification_report(y_test,DT_predictions))\n"
   ]
  },
  {
   "cell_type": "code",
   "execution_count": 157,
   "metadata": {},
   "outputs": [
    {
     "name": "stdout",
     "output_type": "stream",
     "text": [
      "\n",
      "\n",
      "------------------------------------------------\n",
      "***Analysis of Decision tree  _ Train_ Data***\n",
      "------------------------------------------------\n",
      "\n",
      "\n",
      "+--------------------+---------------------+-------------------------+\n",
      "| No. of Samples     |   Predicted Failure |   Predicted Successfull |\n",
      "+====================+=====================+=========================+\n",
      "| Actual Failures    |               35608 |                     198 |\n",
      "+--------------------+---------------------+-------------------------+\n",
      "| Actual Successfull |                8626 |                     212 |\n",
      "+--------------------+---------------------+-------------------------+\n",
      "\n",
      "\n",
      "              precision    recall  f1-score   support\n",
      "\n",
      "           0       0.80      0.99      0.89     35806\n",
      "           1       0.52      0.02      0.05      8838\n",
      "\n",
      "    accuracy                           0.80     44644\n",
      "   macro avg       0.66      0.51      0.47     44644\n",
      "weighted avg       0.75      0.80      0.72     44644\n",
      "\n",
      "------------------------------------------------\n",
      "***Analysis of Decision tree _ Test_ Data***\n",
      "------------------------------------------------\n",
      "\n",
      "\n",
      "+--------------------+---------------------+-------------------------+\n",
      "| No. of Samples     |   Predicted Failure |   Predicted Successfull |\n",
      "+====================+=====================+=========================+\n",
      "| Actual Failures    |                8775 |                      63 |\n",
      "+--------------------+---------------------+-------------------------+\n",
      "| Actual Successfull |                2271 |                      52 |\n",
      "+--------------------+---------------------+-------------------------+\n",
      "\n",
      "\n",
      "              precision    recall  f1-score   support\n",
      "\n",
      "           0       0.79      0.99      0.88      8838\n",
      "           1       0.45      0.02      0.04      2323\n",
      "\n",
      "    accuracy                           0.79     11161\n",
      "   macro avg       0.62      0.51      0.46     11161\n",
      "weighted avg       0.72      0.79      0.71     11161\n",
      "\n",
      "------------------------------------------------\n",
      "***Analysis of Decision tree _ Holding_ Data***\n",
      "------------------------------------------------\n",
      "\n",
      "\n",
      "+--------------------+---------------------+-------------------------+\n",
      "| No. of Samples     |   Predicted Failure |   Predicted Successfull |\n",
      "+====================+=====================+=========================+\n",
      "| Actual Failures    |                1565 |                       4 |\n",
      "+--------------------+---------------------+-------------------------+\n",
      "| Actual Successfull |                 186 |                      10 |\n",
      "+--------------------+---------------------+-------------------------+\n",
      "\n",
      "\n",
      "              precision    recall  f1-score   support\n",
      "\n",
      "           0       0.89      1.00      0.94      1569\n",
      "           1       0.71      0.05      0.10       196\n",
      "\n",
      "    accuracy                           0.89      1765\n",
      "   macro avg       0.80      0.52      0.52      1765\n",
      "weighted avg       0.87      0.89      0.85      1765\n",
      "\n",
      "\n",
      "\n"
     ]
    }
   ],
   "source": [
    "DT_pred_test = dtree.predict(X_test)\n",
    "DT_pred_train = dtree.predict(X_train)\n",
    "DT_pred_hold = dtree.predict(X_valid)\n",
    "print('\\n')\n",
    "print('------------------------------------------------')\n",
    "print('***Analysis of Decision tree  _ Train_ Data***')\n",
    "print('------------------------------------------------')\n",
    "print('\\n')\n",
    "conf_table(DT_pred_train,y_train)\n",
    "print('\\n')\n",
    "print(classification_report(y_train,DT_pred_train))\n",
    "print('------------------------------------------------')\n",
    "print('***Analysis of Decision tree _ Test_ Data***')\n",
    "print('------------------------------------------------')\n",
    "print('\\n')\n",
    "conf_table(DT_pred_test,y_test)\n",
    "print('\\n')\n",
    "print(classification_report(y_test,DT_pred_test))\n",
    "print('------------------------------------------------')\n",
    "print('***Analysis of Decision tree _ Holding_ Data***')\n",
    "print('------------------------------------------------')\n",
    "print('\\n')\n",
    "conf_table(DT_pred_hold,Y_valid)\n",
    "print('\\n')\n",
    "print(classification_report(Y_valid,DT_pred_hold))\n",
    "print('\\n')"
   ]
  },
  {
   "cell_type": "code",
   "execution_count": 125,
   "metadata": {},
   "outputs": [
    {
     "data": {
      "text/plain": [
       "Text(0, 0.5, 'Error Rate')"
      ]
     },
     "execution_count": 125,
     "metadata": {},
     "output_type": "execute_result"
    },
    {
     "data": {
      "image/png": "[encoded data removed]",
      "text/plain": [
       "<Figure size 720x432 with 1 Axes>"
      ]
     },
     "metadata": {
      "needs_background": "light"
     },
     "output_type": "display_data"
    }
   ],
   "source": [
    "# ERROR RATE VS VARYING PARAMETER PLOT\n",
    "DT_results = pd.DataFrame(clf_DT.cv_results_)\n",
    "Dt_re_err=DT_results[DT_results['param_criterion']=='entropy']\n",
    "error_dtrate=1-(Dt_re_err['mean_test_score'])\n",
    "\n",
    "plt.figure(figsize=(10,6))\n",
    "plt.plot(Dt_re_err['param_max_depth'],error_dtrate,color='blue', linestyle='dashed', marker='o',\n",
    "         markerfacecolor='red', markersize=10)\n",
    "plt.title('Error Rate vs. Depth')\n",
    "plt.xlabel('Depth')\n",
    "plt.ylabel('Error Rate')"
   ]
  },
  {
   "cell_type": "code",
   "execution_count": 170,
   "metadata": {},
   "outputs": [],
   "source": [
    "\n",
    "def Data_out(features,n):\n",
    "    #Total Training data set with all opts\n",
    "\n",
    "    X_main = Model_Data[features]\n",
    "    Y_main = Model_Data['readmitted']\n",
    "\n",
    "    #Equal proportion opt data set\n",
    "    #11161[:11161]\n",
    "    Sort_data_0=Model_Data[Model_Data['readmitted'] == 0][:(11161*n)]\n",
    "    Sort_data_1=Model_Data[Model_Data['readmitted'] == 1]\n",
    "    Sort_data = pd.concat([Sort_data_1,Sort_data_0],axis = 0)\n",
    "\n",
    "    X_main_S = Sort_data[features]\n",
    "    Y_main_S = Sort_data['readmitted']\n",
    "\n",
    "    # Validation Data Set\n",
    "    X_valid = Holding_Data[features]\n",
    "    Y_valid = Holding_Data['readmitted']\n",
    "    \n",
    "    main = [X_main,Y_main]\n",
    "    S_main = [X_main_S,Y_main_S]\n",
    "    valid =[X_valid,Y_valid]\n",
    "    \n",
    "    return  [main,S_main,valid]"
   ]
  },
  {
   "cell_type": "code",
   "execution_count": 206,
   "metadata": {},
   "outputs": [
    {
     "name": "stdout",
     "output_type": "stream",
     "text": [
      "***Results of RF***\n",
      "\n",
      "\n",
      "Score_Model_train:    0.8613327733445331\n",
      "\n",
      "\n",
      "Score_Model_test:    0.8607906820472617\n",
      "\n",
      "\n",
      "Score_Model_All_Main:    0.861224352656572\n",
      "\n",
      "\n",
      "Score_Validation/Holding:    0.9875354107648725\n",
      "\n",
      "\n",
      "\n",
      "\n",
      "***Analysis of RF _ Test_ Data***\n",
      "\n",
      "\n",
      "MSE: 0.012464589235127478\n",
      "\n",
      "\n",
      "MAE: 0.012464589235127478\n",
      "\n",
      "\n",
      "\n",
      "\n",
      "------------------------------------------------\n",
      "***Analysis of Random Forest  _ Train_ Data***\n",
      "------------------------------------------------\n",
      "\n",
      "\n",
      "+--------------------+---------------------+-------------------------+\n",
      "| No. of Samples     |   Predicted Failure |   Predicted Successfull |\n",
      "+====================+=====================+=========================+\n",
      "| Actual Failures    |               61245 |                    1259 |\n",
      "+--------------------+---------------------+-------------------------+\n",
      "| Actual Successfull |                8646 |                     280 |\n",
      "+--------------------+---------------------+-------------------------+\n",
      "\n",
      "\n",
      "              precision    recall  f1-score   support\n",
      "\n",
      "           0       0.88      0.98      0.93     62504\n",
      "           1       0.18      0.03      0.05      8926\n",
      "\n",
      "    accuracy                           0.86     71430\n",
      "   macro avg       0.53      0.51      0.49     71430\n",
      "weighted avg       0.79      0.86      0.82     71430\n",
      "\n",
      "------------------------------------------------\n",
      "***Analysis of Random Forest _ Test_ Data***\n",
      "------------------------------------------------\n",
      "\n",
      "\n",
      "+--------------------+---------------------+-------------------------+\n",
      "| No. of Samples     |   Predicted Failure |   Predicted Successfull |\n",
      "+====================+=====================+=========================+\n",
      "| Actual Failures    |               15304 |                     319 |\n",
      "+--------------------+---------------------+-------------------------+\n",
      "| Actual Successfull |                2167 |                      68 |\n",
      "+--------------------+---------------------+-------------------------+\n",
      "\n",
      "\n",
      "              precision    recall  f1-score   support\n",
      "\n",
      "           0       0.88      0.98      0.92     15623\n",
      "           1       0.18      0.03      0.05      2235\n",
      "\n",
      "    accuracy                           0.86     17858\n",
      "   macro avg       0.53      0.51      0.49     17858\n",
      "weighted avg       0.79      0.86      0.82     17858\n",
      "\n",
      "------------------------------------------------\n",
      "***Analysis of Random Forest _ Holding_ Data***\n",
      "------------------------------------------------\n",
      "\n",
      "\n",
      "+--------------------+---------------------+-------------------------+\n",
      "| No. of Samples     |   Predicted Failure |   Predicted Successfull |\n",
      "+====================+=====================+=========================+\n",
      "| Actual Failures    |                1566 |                       3 |\n",
      "+--------------------+---------------------+-------------------------+\n",
      "| Actual Successfull |                  19 |                     177 |\n",
      "+--------------------+---------------------+-------------------------+\n",
      "\n",
      "\n",
      "              precision    recall  f1-score   support\n",
      "\n",
      "           0       0.99      1.00      0.99      1569\n",
      "           1       0.98      0.90      0.94       196\n",
      "\n",
      "    accuracy                           0.99      1765\n",
      "   macro avg       0.99      0.95      0.97      1765\n",
      "weighted avg       0.99      0.99      0.99      1765\n",
      "\n",
      "\n",
      "\n"
     ]
    }
   ],
   "source": [
    "## MAIN MODEL ANALYSIS##\n",
    "\n",
    "[main,S_main,valid] = Data_out(features,7)\n",
    "X_main_S = S_main[0]\n",
    "Y_main_S = S_main[1]\n",
    "X_valid = valid[0]\n",
    "Y_valid = valid [1] \n",
    "X_train, X_test, y_train, y_test = train_test_split(X_main_S,Y_main_S , test_size=0.2, random_state=101)\n",
    "#Main Model Random Forest Analysis\n",
    "\n",
    "rfc = RandomForestClassifier(n_estimators=267)\n",
    "\n",
    "rfc.fit(X_train,y_train)\n",
    "#lm.fit(X_train,y_train)\n",
    "\n",
    "rfc.fit(X_test,y_test)\n",
    "\n",
    "rfc.fit(X_main_S,Y_main_S)\n",
    "\n",
    "rfc.fit(X_valid,Y_valid)\n",
    "\n",
    "print('***Results of RF***')\n",
    "print('\\n')\n",
    "print('Score_Model_train:   ',rfc.score(X_train,y_train))\n",
    "print('\\n')\n",
    "print('Score_Model_test:   ',rfc.score(X_test,y_test))\n",
    "print('\\n')\n",
    "print('Score_Model_All_Main:   ',rfc.score(X_main_S,Y_main_S))\n",
    "print('\\n')\n",
    "print('Score_Validation/Holding:   ',rfc.score(X_valid,Y_valid))\n",
    "#logmodel.score(X_test,y_test)\n",
    "\n",
    "RF_predictions = rfc.predict(X_valid)\n",
    "\n",
    "print('\\n')\n",
    "print('\\n')\n",
    "mse = mean_squared_error (Y_valid,RF_predictions)\n",
    "mae = mean_absolute_error(Y_valid,RF_predictions)\n",
    "print('***Analysis of RF _ Test_ Data***')\n",
    "print('\\n')\n",
    "print('MSE:',mse)\n",
    "print('\\n')\n",
    "print('MAE:',mae)\n",
    "print('\\n')\n",
    "RF_pred_test = rfc.predict(X_test)\n",
    "RF_pred_train = rfc.predict(X_train)\n",
    "RF_pred_hold = rfc.predict(X_valid)\n",
    "print('\\n')\n",
    "print('------------------------------------------------')\n",
    "print('***Analysis of Random Forest  _ Train_ Data***')\n",
    "print('------------------------------------------------')\n",
    "print('\\n')\n",
    "conf_table(RF_pred_train,y_train)\n",
    "print('\\n')\n",
    "print(classification_report(y_train,RF_pred_train))\n",
    "print('------------------------------------------------')\n",
    "print('***Analysis of Random Forest _ Test_ Data***')\n",
    "print('------------------------------------------------')\n",
    "print('\\n')\n",
    "conf_table(RF_pred_test,y_test)\n",
    "print('\\n')\n",
    "print(classification_report(y_test,RF_pred_test))\n",
    "print('------------------------------------------------')\n",
    "print('***Analysis of Random Forest _ Holding_ Data***')\n",
    "print('------------------------------------------------')\n",
    "print('\\n')\n",
    "conf_table(RF_pred_hold,Y_valid)\n",
    "print('\\n')\n",
    "print(classification_report(Y_valid,RF_pred_hold))\n",
    "print('\\n')"
   ]
  }
 ],
 "metadata": {
  "kernelspec": {
   "display_name": "Python 3",
   "language": "python",
   "name": "python3"
  },
  "language_info": {
   "codemirror_mode": {
    "name": "ipython",
    "version": 3
   },
   "file_extension": ".py",
   "mimetype": "text/x-python",
   "name": "python",
   "nbconvert_exporter": "python",
   "pygments_lexer": "ipython3",
   "version": "3.7.6"
  }
 },
 "nbformat": 4,
 "nbformat_minor": 4
}
