{
 "cells": [
  {
   "cell_type": "code",
   "execution_count": 1,
   "metadata": {},
   "outputs": [],
   "source": [
    "import pandas as pd\n",
    "import numpy as np\n",
    "import matplotlib.pyplot as plt\n",
    "from sklearn.preprocessing import StandardScaler\n",
    "from sklearn.preprocessing import MinMaxScaler\n",
    "from plotly.offline import download_plotlyjs, init_notebook_mode, plot, iplot\n",
    "import cufflinks as cf\n",
    "import seaborn as sns\n",
    "%matplotlib inline"
   ]
  },
  {
   "cell_type": "code",
   "execution_count": 142,
   "metadata": {},
   "outputs": [
    {
     "data": {
      "text/html": [
       "<div>\n",
       "<style scoped>\n",
       "    .dataframe tbody tr th:only-of-type {\n",
       "        vertical-align: middle;\n",
       "    }\n",
       "\n",
       "    .dataframe tbody tr th {\n",
       "        vertical-align: top;\n",
       "    }\n",
       "\n",
       "    .dataframe thead th {\n",
       "        text-align: right;\n",
       "    }\n",
       "</style>\n",
       "<table border=\"1\" class=\"dataframe\">\n",
       "  <thead>\n",
       "    <tr style=\"text-align: right;\">\n",
       "      <th></th>\n",
       "      <th>race</th>\n",
       "      <th>gender</th>\n",
       "      <th>age</th>\n",
       "      <th>admission_type_id</th>\n",
       "      <th>discharge_disposition_id</th>\n",
       "      <th>admission_source_id</th>\n",
       "      <th>time_in_hospital</th>\n",
       "      <th>num_lab_procedures</th>\n",
       "      <th>num_procedures</th>\n",
       "      <th>num_medications</th>\n",
       "      <th>...</th>\n",
       "      <th>citoglipton</th>\n",
       "      <th>insulin</th>\n",
       "      <th>glyburide-metformin</th>\n",
       "      <th>glipizide-metformin</th>\n",
       "      <th>glimepiride-pioglitazone</th>\n",
       "      <th>metformin-rosiglitazone</th>\n",
       "      <th>metformin-pioglitazone</th>\n",
       "      <th>change</th>\n",
       "      <th>diabetesMed</th>\n",
       "      <th>readmitted</th>\n",
       "    </tr>\n",
       "  </thead>\n",
       "  <tbody>\n",
       "    <tr>\n",
       "      <th>0</th>\n",
       "      <td>Caucasian</td>\n",
       "      <td>Female</td>\n",
       "      <td>[0-10)</td>\n",
       "      <td>6</td>\n",
       "      <td>25</td>\n",
       "      <td>1</td>\n",
       "      <td>1</td>\n",
       "      <td>41</td>\n",
       "      <td>0</td>\n",
       "      <td>1</td>\n",
       "      <td>...</td>\n",
       "      <td>No</td>\n",
       "      <td>No</td>\n",
       "      <td>No</td>\n",
       "      <td>No</td>\n",
       "      <td>No</td>\n",
       "      <td>No</td>\n",
       "      <td>No</td>\n",
       "      <td>No</td>\n",
       "      <td>No</td>\n",
       "      <td>NO</td>\n",
       "    </tr>\n",
       "    <tr>\n",
       "      <th>1</th>\n",
       "      <td>Caucasian</td>\n",
       "      <td>Female</td>\n",
       "      <td>[10-20)</td>\n",
       "      <td>1</td>\n",
       "      <td>1</td>\n",
       "      <td>7</td>\n",
       "      <td>3</td>\n",
       "      <td>59</td>\n",
       "      <td>0</td>\n",
       "      <td>18</td>\n",
       "      <td>...</td>\n",
       "      <td>No</td>\n",
       "      <td>Up</td>\n",
       "      <td>No</td>\n",
       "      <td>No</td>\n",
       "      <td>No</td>\n",
       "      <td>No</td>\n",
       "      <td>No</td>\n",
       "      <td>Ch</td>\n",
       "      <td>Yes</td>\n",
       "      <td>&gt;30</td>\n",
       "    </tr>\n",
       "    <tr>\n",
       "      <th>2</th>\n",
       "      <td>AfricanAmerican</td>\n",
       "      <td>Female</td>\n",
       "      <td>[20-30)</td>\n",
       "      <td>1</td>\n",
       "      <td>1</td>\n",
       "      <td>7</td>\n",
       "      <td>2</td>\n",
       "      <td>11</td>\n",
       "      <td>5</td>\n",
       "      <td>13</td>\n",
       "      <td>...</td>\n",
       "      <td>No</td>\n",
       "      <td>No</td>\n",
       "      <td>No</td>\n",
       "      <td>No</td>\n",
       "      <td>No</td>\n",
       "      <td>No</td>\n",
       "      <td>No</td>\n",
       "      <td>No</td>\n",
       "      <td>Yes</td>\n",
       "      <td>NO</td>\n",
       "    </tr>\n",
       "    <tr>\n",
       "      <th>3</th>\n",
       "      <td>Caucasian</td>\n",
       "      <td>Male</td>\n",
       "      <td>[30-40)</td>\n",
       "      <td>1</td>\n",
       "      <td>1</td>\n",
       "      <td>7</td>\n",
       "      <td>2</td>\n",
       "      <td>44</td>\n",
       "      <td>1</td>\n",
       "      <td>16</td>\n",
       "      <td>...</td>\n",
       "      <td>No</td>\n",
       "      <td>Up</td>\n",
       "      <td>No</td>\n",
       "      <td>No</td>\n",
       "      <td>No</td>\n",
       "      <td>No</td>\n",
       "      <td>No</td>\n",
       "      <td>Ch</td>\n",
       "      <td>Yes</td>\n",
       "      <td>NO</td>\n",
       "    </tr>\n",
       "    <tr>\n",
       "      <th>4</th>\n",
       "      <td>Caucasian</td>\n",
       "      <td>Male</td>\n",
       "      <td>[40-50)</td>\n",
       "      <td>1</td>\n",
       "      <td>1</td>\n",
       "      <td>7</td>\n",
       "      <td>1</td>\n",
       "      <td>51</td>\n",
       "      <td>0</td>\n",
       "      <td>8</td>\n",
       "      <td>...</td>\n",
       "      <td>No</td>\n",
       "      <td>Steady</td>\n",
       "      <td>No</td>\n",
       "      <td>No</td>\n",
       "      <td>No</td>\n",
       "      <td>No</td>\n",
       "      <td>No</td>\n",
       "      <td>Ch</td>\n",
       "      <td>Yes</td>\n",
       "      <td>NO</td>\n",
       "    </tr>\n",
       "  </tbody>\n",
       "</table>\n",
       "<p>5 rows × 45 columns</p>\n",
       "</div>"
      ],
      "text/plain": [
       "              race  gender      age  admission_type_id  \\\n",
       "0        Caucasian  Female   [0-10)                  6   \n",
       "1        Caucasian  Female  [10-20)                  1   \n",
       "2  AfricanAmerican  Female  [20-30)                  1   \n",
       "3        Caucasian    Male  [30-40)                  1   \n",
       "4        Caucasian    Male  [40-50)                  1   \n",
       "\n",
       "   discharge_disposition_id  admission_source_id  time_in_hospital  \\\n",
       "0                        25                    1                 1   \n",
       "1                         1                    7                 3   \n",
       "2                         1                    7                 2   \n",
       "3                         1                    7                 2   \n",
       "4                         1                    7                 1   \n",
       "\n",
       "   num_lab_procedures  num_procedures  num_medications  ...  citoglipton  \\\n",
       "0                  41               0                1  ...           No   \n",
       "1                  59               0               18  ...           No   \n",
       "2                  11               5               13  ...           No   \n",
       "3                  44               1               16  ...           No   \n",
       "4                  51               0                8  ...           No   \n",
       "\n",
       "   insulin  glyburide-metformin glipizide-metformin glimepiride-pioglitazone  \\\n",
       "0       No                   No                  No                       No   \n",
       "1       Up                   No                  No                       No   \n",
       "2       No                   No                  No                       No   \n",
       "3       Up                   No                  No                       No   \n",
       "4   Steady                   No                  No                       No   \n",
       "\n",
       "  metformin-rosiglitazone  metformin-pioglitazone change diabetesMed  \\\n",
       "0                      No                      No     No          No   \n",
       "1                      No                      No     Ch         Yes   \n",
       "2                      No                      No     No         Yes   \n",
       "3                      No                      No     Ch         Yes   \n",
       "4                      No                      No     Ch         Yes   \n",
       "\n",
       "  readmitted  \n",
       "0         NO  \n",
       "1        >30  \n",
       "2         NO  \n",
       "3         NO  \n",
       "4         NO  \n",
       "\n",
       "[5 rows x 45 columns]"
      ]
     },
     "execution_count": 142,
     "metadata": {},
     "output_type": "execute_result"
    }
   ],
   "source": [
    "data_seet= pd.read_csv(r'C:\\Users\\suraj\\python\\Project_SML\\diabetic_data.csv')\n",
    "df=pd.DataFrame(data_seet)\n",
    "\n",
    "df=df.replace(\"?\",np.nan)\n",
    "dropping=df.isnull().sum()[df.isnull().sum()>1]/len(df)*100\n",
    "\n",
    "df.drop(['weight','payer_code','medical_specialty','encounter_id','patient_nbr'],axis=1,inplace=True)\n",
    "\n",
    "df.head(5)"
   ]
  },
  {
   "cell_type": "code",
   "execution_count": 131,
   "metadata": {},
   "outputs": [],
   "source": [
    "def Scalling(Data_In):\n",
    "    scaler = StandardScaler()\n",
    "    #scaler = MinMaxScaler()\n",
    "    Data_Features=Data_In\n",
    "    #Data_Features=pd.DataFrame(Data_In)\n",
    "    \n",
    "    Data_objects = Data_Features.select_dtypes(exclude=['int64'])\n",
    "    Data_Readd = Data_Features['readmitted']   \n",
    "    Data_Readd = Data_Readd.replace({\"NO\":0,\"<30\":1,\">30\":0})\n",
    "    Data_Features = Data_Features.drop(['readmitted'],axis=1)\n",
    "    \n",
    "    col_list = list(Data_objects.columns)\n",
    "    for col in col_list:\n",
    "        Data_Features[col] = pd.Categorical( Data_objects[col])\n",
    "        Data_Features[col] = Data_Features[col].cat.codes\n",
    "        \n",
    "    \n",
    "\n",
    "        \n",
    "    #Data_Features[Data_Features.columns] = scaler.fit_transform(Data_Features)\n",
    "    Data_Features[Data_Features.columns] = scaler.fit_transform(Data_Features)\n",
    "    \n",
    "    Data_Features['readmitted'] = Data_Readd\n",
    "    \n",
    "    return Data_Features\n",
    "    raise NotImplementedError\n",
    "    \n",
    "    \n",
    "    \n",
    "def ScallingAll(Data_In):\n",
    "    scaler = StandardScaler()\n",
    "    Data_Features=Data_In\n",
    "    #Data_Features=pd.DataFrame(Data_In)\n",
    "    Data_objects = Data_Features.select_dtypes(exclude=['int64'])\n",
    "    \n",
    "    col_list = list(Data_objects.columns)\n",
    "    for col in col_list:\n",
    "        Data_Features[col] = pd.Categorical( Data_objects[col])\n",
    "        Data_Features[col] = Data_Features[col].cat.codes\n",
    "        \n",
    "    Data_Features[Data_Features.columns] = scaler.fit_transform(Data_Features)\n",
    "    \n",
    "    \n",
    "    return Data_Features\n",
    "    raise NotImplementedError"
   ]
  },
  {
   "cell_type": "code",
   "execution_count": 145,
   "metadata": {},
   "outputs": [
    {
     "data": {
      "text/html": [
       "<div>\n",
       "<style scoped>\n",
       "    .dataframe tbody tr th:only-of-type {\n",
       "        vertical-align: middle;\n",
       "    }\n",
       "\n",
       "    .dataframe tbody tr th {\n",
       "        vertical-align: top;\n",
       "    }\n",
       "\n",
       "    .dataframe thead th {\n",
       "        text-align: right;\n",
       "    }\n",
       "</style>\n",
       "<table border=\"1\" class=\"dataframe\">\n",
       "  <thead>\n",
       "    <tr style=\"text-align: right;\">\n",
       "      <th></th>\n",
       "      <th>race</th>\n",
       "      <th>gender</th>\n",
       "      <th>age</th>\n",
       "      <th>admission_type_id</th>\n",
       "      <th>discharge_disposition_id</th>\n",
       "      <th>admission_source_id</th>\n",
       "      <th>time_in_hospital</th>\n",
       "      <th>num_lab_procedures</th>\n",
       "      <th>num_procedures</th>\n",
       "      <th>num_medications</th>\n",
       "      <th>...</th>\n",
       "      <th>citoglipton</th>\n",
       "      <th>insulin</th>\n",
       "      <th>glyburide-metformin</th>\n",
       "      <th>glipizide-metformin</th>\n",
       "      <th>glimepiride-pioglitazone</th>\n",
       "      <th>metformin-rosiglitazone</th>\n",
       "      <th>metformin-pioglitazone</th>\n",
       "      <th>change</th>\n",
       "      <th>diabetesMed</th>\n",
       "      <th>readmitted</th>\n",
       "    </tr>\n",
       "  </thead>\n",
       "  <tbody>\n",
       "    <tr>\n",
       "      <th>0</th>\n",
       "      <td>0.427557</td>\n",
       "      <td>-0.927397</td>\n",
       "      <td>-3.824600</td>\n",
       "      <td>2.750800</td>\n",
       "      <td>4.031022</td>\n",
       "      <td>-1.169873</td>\n",
       "      <td>-1.137649</td>\n",
       "      <td>-0.106517</td>\n",
       "      <td>-0.785398</td>\n",
       "      <td>-1.848268</td>\n",
       "      <td>...</td>\n",
       "      <td>0.0</td>\n",
       "      <td>-0.483395</td>\n",
       "      <td>-0.081718</td>\n",
       "      <td>-0.011303</td>\n",
       "      <td>-0.003135</td>\n",
       "      <td>-0.004433</td>\n",
       "      <td>-0.003135</td>\n",
       "      <td>0.926591</td>\n",
       "      <td>-1.829868</td>\n",
       "      <td>0.83688</td>\n",
       "    </tr>\n",
       "    <tr>\n",
       "      <th>1</th>\n",
       "      <td>0.427557</td>\n",
       "      <td>-0.927397</td>\n",
       "      <td>-3.197277</td>\n",
       "      <td>-0.708461</td>\n",
       "      <td>-0.514312</td>\n",
       "      <td>0.306482</td>\n",
       "      <td>-0.467653</td>\n",
       "      <td>0.808384</td>\n",
       "      <td>-0.785398</td>\n",
       "      <td>0.243390</td>\n",
       "      <td>...</td>\n",
       "      <td>0.0</td>\n",
       "      <td>1.900979</td>\n",
       "      <td>-0.081718</td>\n",
       "      <td>-0.011303</td>\n",
       "      <td>-0.003135</td>\n",
       "      <td>-0.004433</td>\n",
       "      <td>-0.003135</td>\n",
       "      <td>-1.079225</td>\n",
       "      <td>0.546488</td>\n",
       "      <td>-0.62497</td>\n",
       "    </tr>\n",
       "    <tr>\n",
       "      <th>2</th>\n",
       "      <td>-1.703706</td>\n",
       "      <td>-0.927397</td>\n",
       "      <td>-2.569954</td>\n",
       "      <td>-0.708461</td>\n",
       "      <td>-0.514312</td>\n",
       "      <td>0.306482</td>\n",
       "      <td>-0.802651</td>\n",
       "      <td>-1.631351</td>\n",
       "      <td>2.145781</td>\n",
       "      <td>-0.371804</td>\n",
       "      <td>...</td>\n",
       "      <td>0.0</td>\n",
       "      <td>-0.483395</td>\n",
       "      <td>-0.081718</td>\n",
       "      <td>-0.011303</td>\n",
       "      <td>-0.003135</td>\n",
       "      <td>-0.004433</td>\n",
       "      <td>-0.003135</td>\n",
       "      <td>0.926591</td>\n",
       "      <td>0.546488</td>\n",
       "      <td>0.83688</td>\n",
       "    </tr>\n",
       "    <tr>\n",
       "      <th>3</th>\n",
       "      <td>0.427557</td>\n",
       "      <td>1.078031</td>\n",
       "      <td>-1.942632</td>\n",
       "      <td>-0.708461</td>\n",
       "      <td>-0.514312</td>\n",
       "      <td>0.306482</td>\n",
       "      <td>-0.802651</td>\n",
       "      <td>0.045967</td>\n",
       "      <td>-0.199162</td>\n",
       "      <td>-0.002688</td>\n",
       "      <td>...</td>\n",
       "      <td>0.0</td>\n",
       "      <td>1.900979</td>\n",
       "      <td>-0.081718</td>\n",
       "      <td>-0.011303</td>\n",
       "      <td>-0.003135</td>\n",
       "      <td>-0.004433</td>\n",
       "      <td>-0.003135</td>\n",
       "      <td>-1.079225</td>\n",
       "      <td>0.546488</td>\n",
       "      <td>0.83688</td>\n",
       "    </tr>\n",
       "    <tr>\n",
       "      <th>4</th>\n",
       "      <td>0.427557</td>\n",
       "      <td>1.078031</td>\n",
       "      <td>-1.315309</td>\n",
       "      <td>-0.708461</td>\n",
       "      <td>-0.514312</td>\n",
       "      <td>0.306482</td>\n",
       "      <td>-1.137649</td>\n",
       "      <td>0.401761</td>\n",
       "      <td>-0.785398</td>\n",
       "      <td>-0.986997</td>\n",
       "      <td>...</td>\n",
       "      <td>0.0</td>\n",
       "      <td>0.708792</td>\n",
       "      <td>-0.081718</td>\n",
       "      <td>-0.011303</td>\n",
       "      <td>-0.003135</td>\n",
       "      <td>-0.004433</td>\n",
       "      <td>-0.003135</td>\n",
       "      <td>-1.079225</td>\n",
       "      <td>0.546488</td>\n",
       "      <td>0.83688</td>\n",
       "    </tr>\n",
       "  </tbody>\n",
       "</table>\n",
       "<p>5 rows × 45 columns</p>\n",
       "</div>"
      ],
      "text/plain": [
       "       race    gender       age  admission_type_id  discharge_disposition_id  \\\n",
       "0  0.427557 -0.927397 -3.824600           2.750800                  4.031022   \n",
       "1  0.427557 -0.927397 -3.197277          -0.708461                 -0.514312   \n",
       "2 -1.703706 -0.927397 -2.569954          -0.708461                 -0.514312   \n",
       "3  0.427557  1.078031 -1.942632          -0.708461                 -0.514312   \n",
       "4  0.427557  1.078031 -1.315309          -0.708461                 -0.514312   \n",
       "\n",
       "   admission_source_id  time_in_hospital  num_lab_procedures  num_procedures  \\\n",
       "0            -1.169873         -1.137649           -0.106517       -0.785398   \n",
       "1             0.306482         -0.467653            0.808384       -0.785398   \n",
       "2             0.306482         -0.802651           -1.631351        2.145781   \n",
       "3             0.306482         -0.802651            0.045967       -0.199162   \n",
       "4             0.306482         -1.137649            0.401761       -0.785398   \n",
       "\n",
       "   num_medications  ...  citoglipton   insulin  glyburide-metformin  \\\n",
       "0        -1.848268  ...          0.0 -0.483395            -0.081718   \n",
       "1         0.243390  ...          0.0  1.900979            -0.081718   \n",
       "2        -0.371804  ...          0.0 -0.483395            -0.081718   \n",
       "3        -0.002688  ...          0.0  1.900979            -0.081718   \n",
       "4        -0.986997  ...          0.0  0.708792            -0.081718   \n",
       "\n",
       "   glipizide-metformin  glimepiride-pioglitazone  metformin-rosiglitazone  \\\n",
       "0            -0.011303                 -0.003135                -0.004433   \n",
       "1            -0.011303                 -0.003135                -0.004433   \n",
       "2            -0.011303                 -0.003135                -0.004433   \n",
       "3            -0.011303                 -0.003135                -0.004433   \n",
       "4            -0.011303                 -0.003135                -0.004433   \n",
       "\n",
       "   metformin-pioglitazone    change  diabetesMed  readmitted  \n",
       "0               -0.003135  0.926591    -1.829868     0.83688  \n",
       "1               -0.003135 -1.079225     0.546488    -0.62497  \n",
       "2               -0.003135  0.926591     0.546488     0.83688  \n",
       "3               -0.003135 -1.079225     0.546488     0.83688  \n",
       "4               -0.003135 -1.079225     0.546488     0.83688  \n",
       "\n",
       "[5 rows x 45 columns]"
      ]
     },
     "execution_count": 145,
     "metadata": {},
     "output_type": "execute_result"
    }
   ],
   "source": [
    "Data_scalled= ScallingAll(df)\n",
    "Data_scalled.head()"
   ]
  },
  {
   "cell_type": "code",
   "execution_count": 146,
   "metadata": {},
   "outputs": [
    {
     "data": {
      "text/plain": [
       "<matplotlib.axes._subplots.AxesSubplot at 0x21de49b6748>"
      ]
     },
     "execution_count": 146,
     "metadata": {},
     "output_type": "execute_result"
    },
    {
     "data": {
      "image/png": "[encoded data removed]",
      "text/plain": [
       "<Figure size 432x288 with 1 Axes>"
      ]
     },
     "metadata": {
      "needs_background": "light"
     },
     "output_type": "display_data"
    }
   ],
   "source": [
    "sns.countplot(Data_scalled['readmitted'])"
   ]
  },
  {
   "cell_type": "code",
   "execution_count": 144,
   "metadata": {},
   "outputs": [
    {
     "data": {
      "text/plain": [
       "<matplotlib.axes._subplots.AxesSubplot at 0x21de4d13988>"
      ]
     },
     "execution_count": 144,
     "metadata": {},
     "output_type": "execute_result"
    },
    {
     "data": {
      "image/png": "[encoded data removed]",
      "text/plain": [
       "<Figure size 432x288 with 1 Axes>"
      ]
     },
     "metadata": {
      "needs_background": "light"
     },
     "output_type": "display_data"
    }
   ],
   "source": [
    "# After Conversion\n",
    "#'0'=No readmission;\n",
    "#'<30'=A readmission in less than 30 days (this situation is not good, because maybe your treatment was not appropriate);\n",
    "#\">30\"=A readmission in more than 30 days (this one is not so good as well the last one, however, the reason can be the state of the patient.\n",
    "Data_readmit = Scalling(df)\n",
    "sns.countplot(Data_readmit['readmitted'])\n"
   ]
  },
  {
   "cell_type": "code",
   "execution_count": 147,
   "metadata": {},
   "outputs": [
    {
     "data": {
      "text/plain": [
       "<matplotlib.axes._subplots.AxesSubplot at 0x21de4fbf388>"
      ]
     },
     "execution_count": 147,
     "metadata": {},
     "output_type": "execute_result"
    },
    {
     "data": {
      "image/png": "[encoded data removed]",
      "text/plain": [
       "<Figure size 720x432 with 1 Axes>"
      ]
     },
     "metadata": {
      "needs_background": "light"
     },
     "output_type": "display_data"
    }
   ],
   "source": [
    "plt.figure(figsize=(10,6))\n",
    "Data_scalled['number_inpatient'].hist(bins=70)\n",
    "\n"
   ]
  },
  {
   "cell_type": "code",
   "execution_count": 148,
   "metadata": {},
   "outputs": [
    {
     "data": {
      "text/html": [
       "<div>\n",
       "<style scoped>\n",
       "    .dataframe tbody tr th:only-of-type {\n",
       "        vertical-align: middle;\n",
       "    }\n",
       "\n",
       "    .dataframe tbody tr th {\n",
       "        vertical-align: top;\n",
       "    }\n",
       "\n",
       "    .dataframe thead th {\n",
       "        text-align: right;\n",
       "    }\n",
       "</style>\n",
       "<table border=\"1\" class=\"dataframe\">\n",
       "  <thead>\n",
       "    <tr style=\"text-align: right;\">\n",
       "      <th></th>\n",
       "      <th>race</th>\n",
       "      <th>gender</th>\n",
       "      <th>age</th>\n",
       "      <th>admission_type_id</th>\n",
       "      <th>discharge_disposition_id</th>\n",
       "      <th>admission_source_id</th>\n",
       "      <th>time_in_hospital</th>\n",
       "      <th>num_lab_procedures</th>\n",
       "      <th>num_procedures</th>\n",
       "      <th>num_medications</th>\n",
       "      <th>...</th>\n",
       "      <th>citoglipton</th>\n",
       "      <th>insulin</th>\n",
       "      <th>glyburide-metformin</th>\n",
       "      <th>glipizide-metformin</th>\n",
       "      <th>glimepiride-pioglitazone</th>\n",
       "      <th>metformin-rosiglitazone</th>\n",
       "      <th>metformin-pioglitazone</th>\n",
       "      <th>change</th>\n",
       "      <th>diabetesMed</th>\n",
       "      <th>readmitted</th>\n",
       "    </tr>\n",
       "  </thead>\n",
       "  <tbody>\n",
       "    <tr>\n",
       "      <th>race</th>\n",
       "      <td>1.000000</td>\n",
       "      <td>0.055271</td>\n",
       "      <td>0.114684</td>\n",
       "      <td>0.098659</td>\n",
       "      <td>0.005994</td>\n",
       "      <td>0.031173</td>\n",
       "      <td>-0.015324</td>\n",
       "      <td>-0.023033</td>\n",
       "      <td>0.027087</td>\n",
       "      <td>0.027935</td>\n",
       "      <td>...</td>\n",
       "      <td>NaN</td>\n",
       "      <td>-0.029865</td>\n",
       "      <td>0.006656</td>\n",
       "      <td>0.004833</td>\n",
       "      <td>0.001340</td>\n",
       "      <td>-0.012277</td>\n",
       "      <td>0.001340</td>\n",
       "      <td>-0.009325</td>\n",
       "      <td>-0.006367</td>\n",
       "      <td>0.003981</td>\n",
       "    </tr>\n",
       "    <tr>\n",
       "      <th>gender</th>\n",
       "      <td>0.055271</td>\n",
       "      <td>1.000000</td>\n",
       "      <td>-0.050535</td>\n",
       "      <td>0.014592</td>\n",
       "      <td>-0.020847</td>\n",
       "      <td>-0.003843</td>\n",
       "      <td>-0.029928</td>\n",
       "      <td>-0.003103</td>\n",
       "      <td>0.059980</td>\n",
       "      <td>-0.022023</td>\n",
       "      <td>...</td>\n",
       "      <td>NaN</td>\n",
       "      <td>0.003435</td>\n",
       "      <td>0.004054</td>\n",
       "      <td>0.006954</td>\n",
       "      <td>-0.002907</td>\n",
       "      <td>0.004779</td>\n",
       "      <td>-0.002907</td>\n",
       "      <td>-0.014905</td>\n",
       "      <td>0.015901</td>\n",
       "      <td>-0.002939</td>\n",
       "    </tr>\n",
       "    <tr>\n",
       "      <th>age</th>\n",
       "      <td>0.114684</td>\n",
       "      <td>-0.050535</td>\n",
       "      <td>1.000000</td>\n",
       "      <td>-0.007209</td>\n",
       "      <td>0.114323</td>\n",
       "      <td>0.044696</td>\n",
       "      <td>0.107515</td>\n",
       "      <td>0.020770</td>\n",
       "      <td>-0.030104</td>\n",
       "      <td>0.041847</td>\n",
       "      <td>...</td>\n",
       "      <td>NaN</td>\n",
       "      <td>-0.023173</td>\n",
       "      <td>-0.001306</td>\n",
       "      <td>0.002042</td>\n",
       "      <td>-0.000190</td>\n",
       "      <td>0.002512</td>\n",
       "      <td>-0.000190</td>\n",
       "      <td>0.036019</td>\n",
       "      <td>-0.022601</td>\n",
       "      <td>0.017634</td>\n",
       "    </tr>\n",
       "    <tr>\n",
       "      <th>admission_type_id</th>\n",
       "      <td>0.098659</td>\n",
       "      <td>0.014592</td>\n",
       "      <td>-0.007209</td>\n",
       "      <td>1.000000</td>\n",
       "      <td>0.083483</td>\n",
       "      <td>0.106654</td>\n",
       "      <td>-0.012500</td>\n",
       "      <td>-0.143713</td>\n",
       "      <td>0.129888</td>\n",
       "      <td>0.079535</td>\n",
       "      <td>...</td>\n",
       "      <td>NaN</td>\n",
       "      <td>-0.007858</td>\n",
       "      <td>-0.002485</td>\n",
       "      <td>-0.004399</td>\n",
       "      <td>-0.002221</td>\n",
       "      <td>-0.000074</td>\n",
       "      <td>0.002117</td>\n",
       "      <td>-0.007274</td>\n",
       "      <td>-0.000310</td>\n",
       "      <td>-0.011651</td>\n",
       "    </tr>\n",
       "    <tr>\n",
       "      <th>discharge_disposition_id</th>\n",
       "      <td>0.005994</td>\n",
       "      <td>-0.020847</td>\n",
       "      <td>0.114323</td>\n",
       "      <td>0.083483</td>\n",
       "      <td>1.000000</td>\n",
       "      <td>0.018193</td>\n",
       "      <td>0.162748</td>\n",
       "      <td>0.023415</td>\n",
       "      <td>0.015921</td>\n",
       "      <td>0.108753</td>\n",
       "      <td>...</td>\n",
       "      <td>NaN</td>\n",
       "      <td>-0.022845</td>\n",
       "      <td>-0.004352</td>\n",
       "      <td>0.000444</td>\n",
       "      <td>-0.001612</td>\n",
       "      <td>-0.000181</td>\n",
       "      <td>-0.000425</td>\n",
       "      <td>0.012307</td>\n",
       "      <td>-0.028887</td>\n",
       "      <td>0.050560</td>\n",
       "    </tr>\n",
       "  </tbody>\n",
       "</table>\n",
       "<p>5 rows × 45 columns</p>\n",
       "</div>"
      ],
      "text/plain": [
       "                              race    gender       age  admission_type_id  \\\n",
       "race                      1.000000  0.055271  0.114684           0.098659   \n",
       "gender                    0.055271  1.000000 -0.050535           0.014592   \n",
       "age                       0.114684 -0.050535  1.000000          -0.007209   \n",
       "admission_type_id         0.098659  0.014592 -0.007209           1.000000   \n",
       "discharge_disposition_id  0.005994 -0.020847  0.114323           0.083483   \n",
       "\n",
       "                          discharge_disposition_id  admission_source_id  \\\n",
       "race                                      0.005994             0.031173   \n",
       "gender                                   -0.020847            -0.003843   \n",
       "age                                       0.114323             0.044696   \n",
       "admission_type_id                         0.083483             0.106654   \n",
       "discharge_disposition_id                  1.000000             0.018193   \n",
       "\n",
       "                          time_in_hospital  num_lab_procedures  \\\n",
       "race                             -0.015324           -0.023033   \n",
       "gender                           -0.029928           -0.003103   \n",
       "age                               0.107515            0.020770   \n",
       "admission_type_id                -0.012500           -0.143713   \n",
       "discharge_disposition_id          0.162748            0.023415   \n",
       "\n",
       "                          num_procedures  num_medications  ...  citoglipton  \\\n",
       "race                            0.027087         0.027935  ...          NaN   \n",
       "gender                          0.059980        -0.022023  ...          NaN   \n",
       "age                            -0.030104         0.041847  ...          NaN   \n",
       "admission_type_id               0.129888         0.079535  ...          NaN   \n",
       "discharge_disposition_id        0.015921         0.108753  ...          NaN   \n",
       "\n",
       "                           insulin  glyburide-metformin  glipizide-metformin  \\\n",
       "race                     -0.029865             0.006656             0.004833   \n",
       "gender                    0.003435             0.004054             0.006954   \n",
       "age                      -0.023173            -0.001306             0.002042   \n",
       "admission_type_id        -0.007858            -0.002485            -0.004399   \n",
       "discharge_disposition_id -0.022845            -0.004352             0.000444   \n",
       "\n",
       "                          glimepiride-pioglitazone  metformin-rosiglitazone  \\\n",
       "race                                      0.001340                -0.012277   \n",
       "gender                                   -0.002907                 0.004779   \n",
       "age                                      -0.000190                 0.002512   \n",
       "admission_type_id                        -0.002221                -0.000074   \n",
       "discharge_disposition_id                 -0.001612                -0.000181   \n",
       "\n",
       "                          metformin-pioglitazone    change  diabetesMed  \\\n",
       "race                                    0.001340 -0.009325    -0.006367   \n",
       "gender                                 -0.002907 -0.014905     0.015901   \n",
       "age                                    -0.000190  0.036019    -0.022601   \n",
       "admission_type_id                       0.002117 -0.007274    -0.000310   \n",
       "discharge_disposition_id               -0.000425  0.012307    -0.028887   \n",
       "\n",
       "                          readmitted  \n",
       "race                        0.003981  \n",
       "gender                     -0.002939  \n",
       "age                         0.017634  \n",
       "admission_type_id          -0.011651  \n",
       "discharge_disposition_id    0.050560  \n",
       "\n",
       "[5 rows x 45 columns]"
      ]
     },
     "execution_count": 148,
     "metadata": {},
     "output_type": "execute_result"
    }
   ],
   "source": [
    "#Corelation =Data_scalled.corr()\n",
    "Readmitted_Data = Data_scalled['readmitted']\n",
    "Correlation = Data_scalled.corrwith(Readmitted_Data)\n",
    "Corelation.head()"
   ]
  },
  {
   "cell_type": "code",
   "execution_count": 149,
   "metadata": {
    "scrolled": true
   },
   "outputs": [
    {
     "name": "stdout",
     "output_type": "stream",
     "text": [
      "9\n",
      "\n",
      "\n",
      "['num_lab_procedures', 'diabetesMed', 'num_medications', 'time_in_hospital', 'number_diagnoses', 'discharge_disposition_id', 'number_emergency', 'number_inpatient', 'readmitted']\n"
     ]
    }
   ],
   "source": [
    "Corelation_R = Corelation['readmitted'].sort_values()\n",
    "Redd=Corelation_R[(Corelation_R>0.02)]\n",
    "#Redd\n",
    "\n",
    "Redd=pd.DataFrame(Redd)\n",
    "features=list(Redd.transpose().columns)\n",
    "print(np.size(features))\n",
    "print('\\n')\n",
    "print(features)"
   ]
  },
  {
   "cell_type": "code",
   "execution_count": 150,
   "metadata": {},
   "outputs": [
    {
     "name": "stdout",
     "output_type": "stream",
     "text": [
      "\n",
      "\n",
      " ***** Correlation plot of Readmission with MOST INFULENCING FEATURES *****\n",
      "\n",
      "\n"
     ]
    },
    {
     "data": {
      "image/png": "[encoded data removed]",
      "text/plain": [
       "<Figure size 720x504 with 1 Axes>"
      ]
     },
     "metadata": {},
     "output_type": "display_data"
    }
   ],
   "source": [
    "##DATA Visvalization\n",
    "\n",
    "labels = ['num_lab_procedures', 'diabetesMed', 'num_medications', 'time_in_hospital', 'number_diagnoses', 'discharge_disposition_id', 'number_emergency', 'number_inpatient']\n",
    "labels = list(labels)\n",
    "colors = sns.color_palette('bright')[0:8]\n",
    "#colors = ['yellowgreen', 'lightgreen', 'darkgreen', 'gold', 'red', 'lightsalmon', 'darkred','red']\n",
    "Data = Redd.drop(['readmitted'], axis =0);\n",
    "Data =Data['readmitted'];\n",
    "Data = [Data[0],Data[1],Data[2],Data[3],Data[4],Data[5],Data[6],Data[7]];\n",
    "fig = plt.figure(figsize =(10, 7))\n",
    "plt.pie(Data,labels = labels,colors = colors,autopct='%.0f%%')\n",
    "print('\\n')\n",
    "print(' ***** Correlation plot of Readmission with MOST INFULENCING FEATURES *****')\n",
    "print('\\n')\n",
    "plt.show()"
   ]
  },
  {
   "cell_type": "code",
   "execution_count": 22,
   "metadata": {},
   "outputs": [
    {
     "data": {
      "text/plain": [
       "Text(0.5, 1.0, 'Readmitted vs Num_lab_procedures')"
      ]
     },
     "execution_count": 22,
     "metadata": {},
     "output_type": "execute_result"
    },
    {
     "data": {
      "image/png": "[encoded data removed]",
      "text/plain": [
       "<Figure size 432x288 with 1 Axes>"
      ]
     },
     "metadata": {
      "needs_background": "light"
     },
     "output_type": "display_data"
    }
   ],
   "source": [
    "##Each Feature correlation with readmission rate\n",
    "\n",
    "#1# Readmitted vs Num_lab_procedures\n",
    "\n",
    "sns.scatterplot(x='readmitted',y='num_lab_procedures',data = Corelation,x_bins=100,y_bins=100,s=75)\n",
    "plt.title('Readmitted vs Num_lab_procedures')"
   ]
  },
  {
   "cell_type": "code",
   "execution_count": 23,
   "metadata": {},
   "outputs": [
    {
     "data": {
      "text/plain": [
       "Text(0.5, 1.0, 'Readmitted vs DiabetesMed')"
      ]
     },
     "execution_count": 23,
     "metadata": {},
     "output_type": "execute_result"
    },
    {
     "data": {
      "image/png": "[encoded data removed]",
      "text/plain": [
       "<Figure size 432x288 with 1 Axes>"
      ]
     },
     "metadata": {
      "needs_background": "light"
     },
     "output_type": "display_data"
    }
   ],
   "source": [
    "#2# Readmitted vs diabetesMed\n",
    "\n",
    "sns.scatterplot(x='readmitted',y='diabetesMed',data = Corelation,x_bins=100,y_bins=100,s=75)\n",
    "plt.title('Readmitted vs DiabetesMed')"
   ]
  },
  {
   "cell_type": "code",
   "execution_count": 24,
   "metadata": {},
   "outputs": [
    {
     "data": {
      "text/plain": [
       "Text(0.5, 1.0, 'Readmitted vs Num_medications')"
      ]
     },
     "execution_count": 24,
     "metadata": {},
     "output_type": "execute_result"
    },
    {
     "data": {
      "image/png": "[encoded data removed]",
      "text/plain": [
       "<Figure size 432x288 with 1 Axes>"
      ]
     },
     "metadata": {
      "needs_background": "light"
     },
     "output_type": "display_data"
    }
   ],
   "source": [
    "#3# Readmitted vs Num_medications\n",
    "sns.scatterplot(x='readmitted',y='num_medications',data = Corelation,x_bins=100,y_bins=100,s=75)\n",
    "plt.title('Readmitted vs Num_medications')"
   ]
  },
  {
   "cell_type": "code",
   "execution_count": 25,
   "metadata": {},
   "outputs": [
    {
     "data": {
      "text/plain": [
       "Text(0.5, 1.0, 'Readmitted vs time_in_hospital')"
      ]
     },
     "execution_count": 25,
     "metadata": {},
     "output_type": "execute_result"
    },
    {
     "data": {
      "image/png": "[encoded data removed]",
      "text/plain": [
       "<Figure size 432x288 with 1 Axes>"
      ]
     },
     "metadata": {
      "needs_background": "light"
     },
     "output_type": "display_data"
    }
   ],
   "source": [
    "#4# Readmitted vs time_in_hospital\n",
    "sns.scatterplot(x='readmitted',y='time_in_hospital',data = Corelation,x_bins=100,y_bins=100,s=75)\n",
    "plt.title('Readmitted vs time_in_hospital')"
   ]
  },
  {
   "cell_type": "code",
   "execution_count": 26,
   "metadata": {},
   "outputs": [
    {
     "data": {
      "text/plain": [
       "Text(0.5, 1.0, 'Readmitted vs number_diagnoses')"
      ]
     },
     "execution_count": 26,
     "metadata": {},
     "output_type": "execute_result"
    },
    {
     "data": {
      "image/png": "[encoded data removed]",
      "text/plain": [
       "<Figure size 432x288 with 1 Axes>"
      ]
     },
     "metadata": {
      "needs_background": "light"
     },
     "output_type": "display_data"
    }
   ],
   "source": [
    "#5# Readmitted vs number_diagnoses\n",
    "sns.scatterplot(x='readmitted',y='number_diagnoses',data = Corelation,x_bins=100,y_bins=100,s=75)\n",
    "plt.title('Readmitted vs number_diagnoses')"
   ]
  },
  {
   "cell_type": "code",
   "execution_count": 27,
   "metadata": {},
   "outputs": [
    {
     "data": {
      "text/plain": [
       "Text(0.5, 1.0, 'Readmitted vs discharge_disposition_id')"
      ]
     },
     "execution_count": 27,
     "metadata": {},
     "output_type": "execute_result"
    },
    {
     "data": {
      "image/png": "[encoded data removed]",
      "text/plain": [
       "<Figure size 432x288 with 1 Axes>"
      ]
     },
     "metadata": {
      "needs_background": "light"
     },
     "output_type": "display_data"
    }
   ],
   "source": [
    "#6# Readmitted vs discharge_disposition_id\n",
    "sns.scatterplot(x='readmitted',y='discharge_disposition_id',data = Corelation,x_bins=100,y_bins=100,s=75)\n",
    "plt.title('Readmitted vs discharge_disposition_id')"
   ]
  },
  {
   "cell_type": "code",
   "execution_count": 28,
   "metadata": {},
   "outputs": [
    {
     "data": {
      "text/plain": [
       "Text(0.5, 1.0, 'Readmitted vs number_emergency')"
      ]
     },
     "execution_count": 28,
     "metadata": {},
     "output_type": "execute_result"
    },
    {
     "data": {
      "image/png": "[encoded data removed]",
      "text/plain": [
       "<Figure size 432x288 with 1 Axes>"
      ]
     },
     "metadata": {
      "needs_background": "light"
     },
     "output_type": "display_data"
    }
   ],
   "source": [
    "#7# Readmitted vs number_emergency\n",
    "sns.scatterplot(x='readmitted',y='number_emergency',data = Corelation,x_bins=100,y_bins=100,s=75)\n",
    "plt.title('Readmitted vs number_emergency')"
   ]
  },
  {
   "cell_type": "code",
   "execution_count": 29,
   "metadata": {},
   "outputs": [
    {
     "data": {
      "text/plain": [
       "Text(0.5, 1.0, 'Readmitted vs number_inpatient')"
      ]
     },
     "execution_count": 29,
     "metadata": {},
     "output_type": "execute_result"
    },
    {
     "data": {
      "image/png": "[encoded data removed]",
      "text/plain": [
       "<Figure size 432x288 with 1 Axes>"
      ]
     },
     "metadata": {
      "needs_background": "light"
     },
     "output_type": "display_data"
    }
   ],
   "source": [
    "\n",
    "#8# Readmitted vs number_inpatient\n",
    "sns.scatterplot(x='readmitted',y='number_inpatient',data = Corelation,x_bins=100,y_bins=100,s=75)\n",
    "plt.title('Readmitted vs number_inpatient')"
   ]
  },
  {
   "cell_type": "code",
   "execution_count": 152,
   "metadata": {},
   "outputs": [
    {
     "data": {
      "text/plain": [
       "Text(0.5, 1.0, 'Readmitted vs metformin')"
      ]
     },
     "execution_count": 152,
     "metadata": {},
     "output_type": "execute_result"
    },
    {
     "data": {
      "image/png": "[encoded data removed]",
      "text/plain": [
       "<Figure size 432x288 with 1 Axes>"
      ]
     },
     "metadata": {
      "needs_background": "light"
     },
     "output_type": "display_data"
    }
   ],
   "source": [
    "#*# Readmitted vs metformin\n",
    "sns.scatterplot(x='readmitted',y='metformin',data = Corelation,x_bins=100,y_bins=100,s=75)\n",
    "plt.title('Readmitted vs metformin')"
   ]
  },
  {
   "cell_type": "code",
   "execution_count": 111,
   "metadata": {},
   "outputs": [
    {
     "data": {
      "text/plain": [
       "<matplotlib.axes._subplots.AxesSubplot at 0x21deaeb16c8>"
      ]
     },
     "execution_count": 111,
     "metadata": {},
     "output_type": "execute_result"
    },
    {
     "data": {
      "image/png": "[encoded data removed]",
      "text/plain": [
       "<Figure size 1440x432 with 1 Axes>"
      ]
     },
     "metadata": {
      "needs_background": "light"
     },
     "output_type": "display_data"
    }
   ],
   "source": [
    "## Visvalization of Most influencing parameter \n",
    "\n",
    "plt.figure(figsize=(20,6))\n",
    "sns.distplot(Data_scalled['number_inpatient'], kde = False, bins = 70,color=\"r\")"
   ]
  }
 ],
 "metadata": {
  "kernelspec": {
   "display_name": "Python 3",
   "language": "python",
   "name": "python3"
  },
  "language_info": {
   "codemirror_mode": {
    "name": "ipython",
    "version": 3
   },
   "file_extension": ".py",
   "mimetype": "text/x-python",
   "name": "python",
   "nbconvert_exporter": "python",
   "pygments_lexer": "ipython3",
   "version": "3.7.6"
  }
 },
 "nbformat": 4,
 "nbformat_minor": 4
}
